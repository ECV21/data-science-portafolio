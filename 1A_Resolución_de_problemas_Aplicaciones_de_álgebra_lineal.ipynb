{
  "nbformat": 4,
  "nbformat_minor": 0,
  "metadata": {
    "colab": {
      "provenance": [],
      "authorship_tag": "ABX9TyOwTAIGZIHzrUvfJhecqJlU",
      "include_colab_link": true
    },
    "kernelspec": {
      "name": "python3",
      "display_name": "Python 3"
    },
    "language_info": {
      "name": "python"
    }
  },
  "cells": [
    {
      "cell_type": "markdown",
      "metadata": {
        "id": "view-in-github",
        "colab_type": "text"
      },
      "source": [
        "<a href=\"https://colab.research.google.com/github/ECV21/data-science-portafolio/blob/main/1A_Resoluci%C3%B3n_de_problemas_Aplicaciones_de_%C3%A1lgebra_lineal.ipynb\" target=\"_parent\"><img src=\"https://colab.research.google.com/assets/colab-badge.svg\" alt=\"Open In Colab\"/></a>"
      ]
    },
    {
      "cell_type": "markdown",
      "source": [
        "##By Eduardo Cruz"
      ],
      "metadata": {
        "id": "t4L_8wdkUHND"
      }
    },
    {
      "cell_type": "markdown",
      "source": [
        "## Ejercicio 1\n",
        "\n",
        "Un inversionista le afirma a su corredor de bolsa que todas sus acciones pertenecen a tres compañías: Aeroméxico, Volaris y Vivaaerobus, y que hace dos días su valor bajó 350 pero que ayer aumentó 600. El corredor recuerda que hace dos días el precio de las acciones de Aeroméxico bajó 1 por cada una, mientras que las de Volaris bajaron 1.50, pero que el precio de las acciones de Vivaaerobus subió 0.50. También recuerda que ayer el precio de las acciones de Aeroméxico subió 1.50 por acción, el de las de Volaris bajo otros 0.50 por acción y las de Vivaaerobus subieron 1. **Demuestre que el corredor no cuenta con la información suficiente para calcular el número de acciones que posee la inversionista en cada compañía, pero que si ella dice tener 280 acciones de Vivaaerobus, el corredor pueda calcular el número de acciones que posee en Aeromexico y en Volaris.**"
      ],
      "metadata": {
        "id": "nglYmzJacxyq"
      }
    },
    {
      "cell_type": "code",
      "execution_count": 4,
      "metadata": {
        "colab": {
          "base_uri": "https://localhost:8080/"
        },
        "id": "0EJK9VzLcks9",
        "outputId": "678e359a-7b03-4593-eeb4-8828b4476f24"
      },
      "outputs": [
        {
          "output_type": "stream",
          "name": "stdout",
          "text": [
            "No hay solución única, solo una solución general: [{x: 390.909090909091 - 0.454545454545455*z, y: 0.636363636363636*z - 27.2727272727273}]\n",
            "Solución conociendo z=280: {x: 263.636363636364, y: 150.909090909091}\n"
          ]
        }
      ],
      "source": [
        "import sympy as sp\n",
        "\n",
        "\"\"\"\n",
        "Aquí vamos a definir las variables:\n",
        "\n",
        "x: número de acciones de Aeroméxico\n",
        "y: número de acciones de Volaris\n",
        "z: número de acciones de Vivaaerobus\n",
        "\"\"\"\n",
        "x, y, z = sp.symbols('x y z')\n",
        "\n",
        "# Ecuaciones iniciales\n",
        "eq1 = sp.Eq(-1*x - 1.5*y + 0.5*z, -350)\n",
        "eq2 = sp.Eq(1.5*x - 0.5*y + 1*z, 600)\n",
        "\n",
        "# intento de solución, se aplica una solución infinita\n",
        "sol_infinita = sp.solve((eq1, eq2), (x, y, z), dict=True) #téoricamente nos damos cuenta que no hay solución única\n",
        "print(\"No hay solución única, solo una solución general:\", sol_infinita)\n",
        "\n",
        "#solucionar sistema sabiendo que z = 280\n",
        "eq1_z = eq1.subs(z, 280)\n",
        "eq2_z = eq2.subs(z, 280)\n",
        "sol_con_z = sp.solve((eq1_z, eq2_z), (x, y))\n",
        "print(\"Solución conociendo z=280:\", sol_con_z)"
      ]
    },
    {
      "cell_type": "markdown",
      "source": [
        "##Ejercicio 2\n",
        "\n",
        "Considere el siguiente diagrama de una malla de calles de un sentido con vehículos que entran y salen de las intersecciones. La intersección k se denota por [k], k = 1,2,3,4. Las flechas a lo largo de las calles indican la dirección del flujo del tráfico. Sea xi el número de vehículos que circulan por la calle i. Suponiendo que el tráfico que entra a una intersección también sale, establezca un sistema de ecuaciones que describa el diagrama del flujo de tráfico.\n"
      ],
      "metadata": {
        "id": "mfNeetsuuJLP"
      }
    },
    {
      "cell_type": "code",
      "source": [
        "#Definimos nuesteas variables usando simpy\n",
        "x1,x2,x3,x4,x5 = sp.symbols('x1 x2 x3 x4 x5')\n",
        "\n",
        "#esta sería nuestro panteamiento de problemas\n",
        "eq1 = sp.Eq(x1 + x5 + 100, x3 + 300)   # (1)\n",
        "eq2 = sp.Eq(x1 + x2, 400)              # (2)\n",
        "eq3 = sp.Eq(x2 + x3, x4 + 100)         # (3)\n",
        "eq4 = sp.Eq(x4, x5 + 100)              # (4)\n",
        "\n",
        "#como no tenemos una solución única, planteariamos una solución general\n",
        "sol_general = sp.solve([eq1, eq2, eq3, eq4], (x1,x2,x3,x4,x5), dict=True)\n",
        "print(\"Es la solución general debido a que no tien solución única:\")\n",
        "print(sol_general)\n",
        "\n",
        "#en el caso de cerrar de [1] a [3]; es decir, x3=0\n",
        "sol_x3_0 = sp.solve([eq1.subs(x3,0), eq2, eq3.subs(x3,0), eq4], (x1,x2,x4,x5), dict=True)\n",
        "print(\"\")\n",
        "print(\"Suponiendo que x3 = 0 :\")\n",
        "print(sol_x3_0)\n",
        "\n",
        "#aquí suponemos que x=3 y x5=0; se cerralos estas calles\n",
        "sol_x3x5_0 = sp.solve([eq1.subs({x3:0,x5:0}), eq2.subs(x5,0), eq3.subs({x3:0,x5:0}), eq4.subs(x5,0)],\n",
        "                      (x1,x2,x3,x4,x5), dict=True)\n",
        "print(\"\")\n",
        "print(\"Este es el resultado cuando suponemos que x3=0 y x5=0:\")\n",
        "print(sol_x3x5_0)\n"
      ],
      "metadata": {
        "colab": {
          "base_uri": "https://localhost:8080/"
        },
        "id": "E6SuLVbWdf5B",
        "outputId": "17b12a9a-cfb1-4982-b39a-af2e03006cf8"
      },
      "execution_count": null,
      "outputs": [
        {
          "output_type": "stream",
          "name": "stdout",
          "text": [
            "Es la solución general debido a que no tien solución única:\n",
            "[{x1: x3 - x5 + 200, x2: -x3 + x5 + 200, x4: x5 + 100}]\n",
            "\n",
            "Suponiendo que x3 = 0 :\n",
            "[{x1: 200 - x5, x2: x5 + 200, x4: x5 + 100}]\n",
            "\n",
            "Este es el resultado cuando suponemos que x3=0 y x5=0:\n",
            "[{x1: 200, x2: 200, x4: 100}]\n"
          ]
        }
      ]
    },
    {
      "cell_type": "markdown",
      "source": [
        "##Ejercicio 3.\n",
        "\n",
        " Utilice la inversa de matrices para codificar un mensaje asignado en clase de forma personalizada. Se utilizarán arreglos de tamaño 3 y la siguiente matriz de 3×3."
      ],
      "metadata": {
        "id": "mCj707uFVmSS"
      }
    },
    {
      "cell_type": "code",
      "source": [
        "import numpy as np\n",
        "\n",
        "#Definimos el alfabeto en orden como lo supone el ejercicio\n",
        "alfabeto = \"ZABCDEFGHIJKLMNOPQRSTUVWXY\"  # Z=0, A=1, ..., Y=25\n",
        "\n",
        "#creamos un diccionario de letra y su respectivo número\n",
        "letra_a_num = {letra: i for i, letra in enumerate(alfabeto)}\n",
        "#creamos un diccionario del número con su respectiva letra\n",
        "num_a_letra = {i: letra for i, letra in enumerate(alfabeto)}\n",
        "\n",
        "\n",
        "#creamos una función que convirte un texto en mayúsculars a lista de números\n",
        "def texto_a_numeros(texto):\n",
        "    return [letra_a_num[ch] for ch in texto.upper() if ch in letra_a_num]\n",
        "\n",
        "#creamos una función que convierte lista de números a texto\n",
        "def numeros_a_texto(numeros):\n",
        "    return \"\".join(num_a_letra[n] for n in numeros)\n",
        "\n",
        "\n",
        "#DEFINIMOS la matriz A, su inversa mod 26\n",
        "A = np.array([[2,4,3],\n",
        "              [0,1,-1],\n",
        "              [3,5,7]])\n",
        "\n",
        "#Calculamos la det de la matriz y después su matriz mod26\n",
        "det = int(round(np.linalg.det(A)))\n",
        "det_mod = det % 26\n",
        "\n",
        "# inverso modular del determinante\n",
        "def inverso_mod(a, m):\n",
        "    for x in range(1, m):\n",
        "        if (a * x) % m == 1:\n",
        "            return x\n",
        "    raise ValueError(f\"Esta matriz no tiene inverso mod {m}\")\n",
        "\n",
        "det_inv = inverso_mod(det_mod, 26)\n",
        "\n",
        "#Calculamos la adjunta de A\n",
        "adj = np.round(det * np.linalg.inv(A)).astype(int)\n",
        "\n",
        "#Calculamos la inversa modular\n",
        "A_inv = (det_inv * adj) % 26\n",
        "\n",
        "print(\"Matriz A:\\n\", A)\n",
        "print(\"Determinante:\", det, \" ≡\", det_mod, \" (mod 26)\")\n",
        "print(\"Inversa modular A^-1:\\n\", A_inv)\n",
        "\n",
        "\n",
        "\n",
        "##CReamos la función para encriptar y desencriptar nuestro texto\n",
        "def hill_cipher(my_texto, matriz):\n",
        "    \"\"\"Cifra o descifra un texto según la matriz (A o A_inv).\"\"\"\n",
        "    nums = texto_a_numeros(my_texto)\n",
        "\n",
        "    #agregamos el num CERO en caso de que nuermo sea impar\n",
        "    while len(nums) % 3 != 0:\n",
        "        nums.append(0)\n",
        "\n",
        "    nums_out = []\n",
        "    for i in range(0, len(nums), 3):\n",
        "        bloque = np.array(nums[i:i+3])\n",
        "        cifrado = np.dot(matriz, bloque) % 26\n",
        "        nums_out.extend(cifrado)\n",
        "\n",
        "    return numeros_a_texto(nums_out)\n",
        "\n",
        "#aplicamos nuestra función usando nuestro texto\n",
        "mensaje = \"MENSAJESECRETOHOLAPROFESORABRICEYDAESUNGUSTOESTARENSUCLASE\"\n",
        "\n",
        "print(\"\\nMensaje original:\\n\", mensaje)\n",
        "\n",
        "# Encriptar\n",
        "cifrado = hill_cipher(mensaje, A)\n",
        "print(\"\\nTexto encriptado:\\n\", cifrado)\n",
        "\n",
        "# Desencriptar\n",
        "descifrado = hill_cipher(cifrado, A_inv)\n",
        "print(\"\\nTexto desencriptado:\\n\", descifrado)\n"
      ],
      "metadata": {
        "colab": {
          "base_uri": "https://localhost:8080/"
        },
        "id": "C8wC4lOpuM3H",
        "outputId": "85ba9308-462e-4d3b-cf9f-e07167280d89"
      },
      "execution_count": 5,
      "outputs": [
        {
          "output_type": "stream",
          "name": "stdout",
          "text": [
            "Matriz A:\n",
            " [[ 2  4  3]\n",
            " [ 0  1 -1]\n",
            " [ 3  5  7]]\n",
            "Determinante: 3  ≡ 3  (mod 26)\n",
            "Inversa modular A^-1:\n",
            " [[ 4 13 15]\n",
            " [25 19 18]\n",
            " [25 18 18]]\n",
            "\n",
            "Mensaje original:\n",
            " MENSAJESECRETOHOLAPROFESORABRICEYDAESUNGUSTOESTARENSUCLASE\n",
            "\n",
            "Texto encriptado:\n",
            " JQFTQBWNOOMDTGICKHSCIKLTAQLYICWFAAVZHGZYBYKJNQSHTQUARAGHRJZO\n",
            "\n",
            "Texto desencriptado:\n",
            " MENSAJESECRETOHOLAPROFESORABRICEYDAESUNGUSTOESTARENSUCLASEZZ\n"
          ]
        }
      ]
    },
    {
      "cell_type": "markdown",
      "source": [
        "##ejercico 4.\n",
        "\n",
        "En una región la población se mantiene constante y esta se divide en rural y urbana. Se ha observado que cada año, 25% de habitantes de la zona rural pasa a la urbana y 5% de la urbana se cambia a la rural. Si al inicio de un experimento para determinar el movimiento de una población se tienen 8 millones en la zona rural y 2 en la zona urbana.\n"
      ],
      "metadata": {
        "id": "YVQUrZwk6REC"
      }
    },
    {
      "cell_type": "code",
      "source": [
        "import numpy as np\n",
        "\n",
        "#matriz inicial\n",
        "A = np.array([[0.75, 0.05],\n",
        "              [0.25, 0.95]])\n",
        "\n",
        "#vector de poblacion, en millones\n",
        "x0 = np.array([8.0, 2.0])\n",
        "\n",
        "# aquí calculamos los Eigenvalores y eigenvectores\n",
        "eigvals, eigvecs = np.linalg.eig(A)\n",
        "\n",
        "# Autovectores para λ=1 y λ=0.7\n",
        "v1 = np.array([1.0, 5.0])   # autovector para λ = 1\n",
        "v2 = np.array([1.0, -1.0])  # autovector para λ = 0.7\n",
        "P = np.column_stack((v1, v2))\n",
        "Pinv = np.linalg.inv(P)\n",
        "\n",
        "# Verificación de la diagonalización\n",
        "D = Pinv @ A @ P\n",
        "\n",
        "# Coeficientes de la combinación lineal de v1 y v2\n",
        "coeffs = Pinv @ x0\n",
        "alpha, beta = coeffs\n",
        "\n",
        "#definimos los años a proyectar\n",
        "n = 100\n",
        "D_pow = np.diag([1.0, 0.7**n])\n",
        "A_pow_via_diag = P @ D_pow @ Pinv\n",
        "\n",
        "# Alternativa: potencia directa de la matriz\n",
        "A_pow_direct = np.linalg.matrix_power(A, n)\n",
        "\n",
        "# Estado después de n años\n",
        "x_n_via_diag = A_pow_via_diag @ x0\n",
        "x_n_direct = A_pow_direct @ x0\n",
        "\n",
        "# Estado límite (n→∞)\n",
        "steady_state = alpha * v1\n",
        "\n",
        "# Mostrar resultados\n",
        "print(\"Matriz A:\")\n",
        "print(A)\n",
        "print(\"\\nEigenvalores:\")\n",
        "print(eigvals)\n",
        "print(\"\\nAutovectores (columnas):\")\n",
        "print(eigvecs)\n",
        "print(\"\\nMatriz P (autovectores ordenados [v1, v2]):\")\n",
        "print(P)\n",
        "print(\"\\nP^{-1} A P = D:\")\n",
        "print(D)\n",
        "print(\"\\nCoeficientes (alpha, beta):\", alpha, beta)\n",
        "print(\"\\nPoblación después de\", n, \"años (via diagonalización):\")\n",
        "print(x_n_via_diag)\n",
        "print(\"\\nPoblación después de\", n, \"años (via potencia directa):\")\n",
        "print(x_n_direct)\n",
        "print(\"\\nEstado límite (n→∞):\")\n",
        "print(steady_state)\n",
        "print(\"\\nProporciones límite:\")\n",
        "print(\"Rural:\", steady_state[0] / steady_state.sum(),\n",
        "      \"Urbana:\", steady_state[1] / steady_state.sum())\n"
      ],
      "metadata": {
        "colab": {
          "base_uri": "https://localhost:8080/"
        },
        "id": "H5ghNCm0PoNz",
        "outputId": "e4478a1a-2afe-4aaf-a607-04597ea2805c"
      },
      "execution_count": null,
      "outputs": [
        {
          "output_type": "stream",
          "name": "stdout",
          "text": [
            "Matriz A:\n",
            "[[0.75 0.05]\n",
            " [0.25 0.95]]\n",
            "\n",
            "Eigenvalores:\n",
            "[0.7 1. ]\n",
            "\n",
            "Autovectores (columnas):\n",
            "[[-0.70710678 -0.19611614]\n",
            " [ 0.70710678 -0.98058068]]\n",
            "\n",
            "Matriz P (autovectores ordenados [v1, v2]):\n",
            "[[ 1.  1.]\n",
            " [ 5. -1.]]\n",
            "\n",
            "P^{-1} A P = D:\n",
            "[[1.00000000e+00 0.00000000e+00]\n",
            " [2.77555756e-17 7.00000000e-01]]\n",
            "\n",
            "Coeficientes (alpha, beta): 1.6666666666666667 6.333333333333334\n",
            "\n",
            "Población después de 100 años (via diagonalización):\n",
            "[1.66666667 8.33333333]\n",
            "\n",
            "Población después de 100 años (via potencia directa):\n",
            "[1.66666667 8.33333333]\n",
            "\n",
            "Estado límite (n→∞):\n",
            "[1.66666667 8.33333333]\n",
            "\n",
            "Proporciones límite:\n",
            "Rural: 0.16666666666666669 Urbana: 0.8333333333333334\n"
          ]
        }
      ]
    },
    {
      "cell_type": "markdown",
      "source": [
        "##ejercicio 5\n",
        "\n",
        "HAcer operaciones con la siguiente matriz\n",
        "    [4, 11, 14],\n",
        "    [8, 7, -2]"
      ],
      "metadata": {
        "id": "cDFWrcsF6IRg"
      }
    },
    {
      "cell_type": "code",
      "source": [
        "import numpy as np\n",
        "\n",
        "#Definimos la matriz inicial\n",
        "A = np.array([\n",
        "    [4, 11, 14],\n",
        "    [8, 7, -2]\n",
        "], dtype=float)\n",
        "\n",
        "print(\"Matriz A:\\n\", A)\n",
        "\n",
        "# (a) Calcular A^T A\n",
        "A_TA = A.T @ A\n",
        "print(\"\\n(a) Matriz A^T A:\\n\", A_TA)\n",
        "\n",
        "# (b) Valores propios de A^T A (orden creciente)\n",
        "eigvals, eigvecs = np.linalg.eig(A_TA)\n",
        "idx = np.argsort(eigvals)  # índices para ordenar\n",
        "eigvals_sorted = eigvals[idx]\n",
        "eigvecs_sorted = eigvecs[:, idx]\n",
        "print(\"\\n(b) Valores propios de A^T A (orden creciente):\\n\", eigvals_sorted)\n",
        "\n",
        "# (c) Valores singulares de A\n",
        "sing_vals = np.sqrt(eigvals_sorted)\n",
        "print(\"\\n(c) Valores singulares de A:\\n\", sing_vals)\n",
        "\n",
        "# (d) Base ortonormal de R^3 compuesta por vectores propios de A^T A\n",
        "# Normalizamos los vectores propios\n",
        "V_ortonormal = eigvecs_sorted / np.linalg.norm(eigvecs_sorted, axis=0)\n",
        "print(\"\\n(d) Base ortonormal de R^3 (vectores propios normalizados):\\n\", V_ortonormal)\n",
        "\n",
        "# (e) Matrices U, Σ, V de la SVD\n",
        "U, Sigma, Vt = np.linalg.svd(A)\n",
        "print(\"\\n(e) Matriz U:\\n\", U)\n",
        "print(\"\\n(e) Matriz Σ (diagonal con valores singulares):\\n\", np.diag(Sigma))\n",
        "print(\"\\n(e) Matriz V^T:\\n\", Vt)\n",
        "\n",
        "# (f) Verificación A = U Σ V^T\n",
        "Sigma_full = np.zeros_like(A, dtype=float)\n",
        "np.fill_diagonal(Sigma_full, Sigma)\n",
        "A_reconstruida = U @ Sigma_full @ Vt\n",
        "print(\"\\n(f) Reconstrucción de A (U Σ V^T):\\n\", A_reconstruida)\n",
        "\n",
        "# Verificar si son iguales (con tolerancia numérica)\n",
        "if np.allclose(A, A_reconstruida):\n",
        "    print(\"\\n La igualdad A = U Σ V^T se cumple.\")\n",
        "else:\n",
        "    print(\"\\n La igualdad no se cumple.\")\n"
      ],
      "metadata": {
        "id": "egCt5MAQPp_t",
        "colab": {
          "base_uri": "https://localhost:8080/"
        },
        "outputId": "7349364b-1921-4898-b36b-28bf5d16f53c"
      },
      "execution_count": 6,
      "outputs": [
        {
          "output_type": "stream",
          "name": "stdout",
          "text": [
            "Matriz A:\n",
            " [[ 4. 11. 14.]\n",
            " [ 8.  7. -2.]]\n",
            "\n",
            "(a) Matriz A^T A:\n",
            " [[ 80. 100.  40.]\n",
            " [100. 170. 140.]\n",
            " [ 40. 140. 200.]]\n",
            "\n",
            "(b) Valores propios de A^T A (orden creciente):\n",
            " [-3.71123759e-15  9.00000000e+01  3.60000000e+02]\n",
            "\n",
            "(c) Valores singulares de A:\n",
            " [        nan  9.48683298 18.97366596]\n",
            "\n",
            "(d) Base ortonormal de R^3 (vectores propios normalizados):\n",
            " [[-0.66666667 -0.66666667 -0.33333333]\n",
            " [ 0.66666667 -0.33333333 -0.66666667]\n",
            " [-0.33333333  0.66666667 -0.66666667]]\n",
            "\n",
            "(e) Matriz U:\n",
            " [[-0.9486833  -0.31622777]\n",
            " [-0.31622777  0.9486833 ]]\n",
            "\n",
            "(e) Matriz Σ (diagonal con valores singulares):\n",
            " [[18.97366596  0.        ]\n",
            " [ 0.          9.48683298]]\n",
            "\n",
            "(e) Matriz V^T:\n",
            " [[-0.33333333 -0.66666667 -0.66666667]\n",
            " [ 0.66666667  0.33333333 -0.66666667]\n",
            " [-0.66666667  0.66666667 -0.33333333]]\n",
            "\n",
            "(f) Reconstrucción de A (U Σ V^T):\n",
            " [[ 4. 11. 14.]\n",
            " [ 8.  7. -2.]]\n",
            "\n",
            " La igualdad A = U Σ V^T se cumple.\n"
          ]
        },
        {
          "output_type": "stream",
          "name": "stderr",
          "text": [
            "/tmp/ipython-input-2044521392.py:23: RuntimeWarning: invalid value encountered in sqrt\n",
            "  sing_vals = np.sqrt(eigvals_sorted)\n"
          ]
        }
      ]
    },
    {
      "cell_type": "code",
      "source": [],
      "metadata": {
        "id": "fFltHzY1aS4p"
      },
      "execution_count": null,
      "outputs": []
    }
  ]
}