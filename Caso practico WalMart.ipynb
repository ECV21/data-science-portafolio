{
 "cells": [
  {
   "cell_type": "markdown",
   "id": "027011e7",
   "metadata": {},
   "source": [
    "# Caso práctico"
   ]
  },
  {
   "cell_type": "markdown",
   "id": "91c55caa",
   "metadata": {},
   "source": [
    "## Análisis de datos"
   ]
  },
  {
   "cell_type": "markdown",
   "id": "883a43ed",
   "metadata": {},
   "source": [
    "### Carga y exporación de datos"
   ]
  },
  {
   "cell_type": "code",
   "execution_count": 2,
   "id": "59775c4c",
   "metadata": {},
   "outputs": [],
   "source": [
    "#importación de librerías\n",
    "\n",
    "import pandas as pd\n",
    "import numpy as np\n",
    "import matplotlib.pyplot as plt\n",
    "import seaborn as sns\n",
    "from sklearn.preprocessing import MinMaxScaler"
   ]
  },
  {
   "cell_type": "code",
   "execution_count": 3,
   "id": "9d335c23",
   "metadata": {},
   "outputs": [
    {
     "data": {
      "text/html": [
       "<div>\n",
       "<style scoped>\n",
       "    .dataframe tbody tr th:only-of-type {\n",
       "        vertical-align: middle;\n",
       "    }\n",
       "\n",
       "    .dataframe tbody tr th {\n",
       "        vertical-align: top;\n",
       "    }\n",
       "\n",
       "    .dataframe thead th {\n",
       "        text-align: right;\n",
       "    }\n",
       "</style>\n",
       "<table border=\"1\" class=\"dataframe\">\n",
       "  <thead>\n",
       "    <tr style=\"text-align: right;\">\n",
       "      <th></th>\n",
       "      <th>Mes</th>\n",
       "      <th>Formato</th>\n",
       "      <th>Tienda</th>\n",
       "      <th>Estado</th>\n",
       "      <th>Area</th>\n",
       "      <th>Venta</th>\n",
       "      <th>Costo</th>\n",
       "      <th>Margen</th>\n",
       "      <th>Desecho</th>\n",
       "      <th>% Desecho</th>\n",
       "      <th>Faltante</th>\n",
       "      <th>% Faltante</th>\n",
       "      <th>Caducado</th>\n",
       "      <th>% Caducado</th>\n",
       "      <th>Total perdida</th>\n",
       "      <th>% Total Perdida</th>\n",
       "    </tr>\n",
       "  </thead>\n",
       "  <tbody>\n",
       "    <tr>\n",
       "      <th>0</th>\n",
       "      <td>Enero</td>\n",
       "      <td>AB</td>\n",
       "      <td>1056</td>\n",
       "      <td>Baja California Sur</td>\n",
       "      <td>Carnico</td>\n",
       "      <td>89332</td>\n",
       "      <td>80398.80</td>\n",
       "      <td>NaN</td>\n",
       "      <td>3450</td>\n",
       "      <td>NaN</td>\n",
       "      <td>5372</td>\n",
       "      <td>NaN</td>\n",
       "      <td>2885</td>\n",
       "      <td>NaN</td>\n",
       "      <td>NaN</td>\n",
       "      <td>NaN</td>\n",
       "    </tr>\n",
       "    <tr>\n",
       "      <th>1</th>\n",
       "      <td>Febrero</td>\n",
       "      <td>AEB</td>\n",
       "      <td>1057</td>\n",
       "      <td>Hidalgo</td>\n",
       "      <td>Carnico</td>\n",
       "      <td>90159</td>\n",
       "      <td>80241.51</td>\n",
       "      <td>NaN</td>\n",
       "      <td>3561</td>\n",
       "      <td>NaN</td>\n",
       "      <td>4870</td>\n",
       "      <td>NaN</td>\n",
       "      <td>2753</td>\n",
       "      <td>NaN</td>\n",
       "      <td>NaN</td>\n",
       "      <td>NaN</td>\n",
       "    </tr>\n",
       "    <tr>\n",
       "      <th>2</th>\n",
       "      <td>Marzo</td>\n",
       "      <td>MV</td>\n",
       "      <td>1058</td>\n",
       "      <td>Sinaloa</td>\n",
       "      <td>Vegetales</td>\n",
       "      <td>90986</td>\n",
       "      <td>80067.68</td>\n",
       "      <td>NaN</td>\n",
       "      <td>2737</td>\n",
       "      <td>NaN</td>\n",
       "      <td>3084</td>\n",
       "      <td>NaN</td>\n",
       "      <td>2336</td>\n",
       "      <td>NaN</td>\n",
       "      <td>NaN</td>\n",
       "      <td>NaN</td>\n",
       "    </tr>\n",
       "    <tr>\n",
       "      <th>3</th>\n",
       "      <td>Abril</td>\n",
       "      <td>AB</td>\n",
       "      <td>1059</td>\n",
       "      <td>Tlaxcala</td>\n",
       "      <td>Vegetales</td>\n",
       "      <td>91813</td>\n",
       "      <td>79877.31</td>\n",
       "      <td>NaN</td>\n",
       "      <td>2954</td>\n",
       "      <td>NaN</td>\n",
       "      <td>3256</td>\n",
       "      <td>NaN</td>\n",
       "      <td>3296</td>\n",
       "      <td>NaN</td>\n",
       "      <td>NaN</td>\n",
       "      <td>NaN</td>\n",
       "    </tr>\n",
       "    <tr>\n",
       "      <th>4</th>\n",
       "      <td>Mayo</td>\n",
       "      <td>AEB</td>\n",
       "      <td>1060</td>\n",
       "      <td>Hidalgo</td>\n",
       "      <td>Frutas</td>\n",
       "      <td>92640</td>\n",
       "      <td>79670.40</td>\n",
       "      <td>NaN</td>\n",
       "      <td>4677</td>\n",
       "      <td>NaN</td>\n",
       "      <td>2090</td>\n",
       "      <td>NaN</td>\n",
       "      <td>2156</td>\n",
       "      <td>NaN</td>\n",
       "      <td>NaN</td>\n",
       "      <td>NaN</td>\n",
       "    </tr>\n",
       "    <tr>\n",
       "      <th>5</th>\n",
       "      <td>Junio</td>\n",
       "      <td>MV</td>\n",
       "      <td>1061</td>\n",
       "      <td>Estado de MÃ©xico</td>\n",
       "      <td>Frutas</td>\n",
       "      <td>93467</td>\n",
       "      <td>79446.95</td>\n",
       "      <td>NaN</td>\n",
       "      <td>4502</td>\n",
       "      <td>NaN</td>\n",
       "      <td>5067</td>\n",
       "      <td>NaN</td>\n",
       "      <td>2592</td>\n",
       "      <td>NaN</td>\n",
       "      <td>NaN</td>\n",
       "      <td>NaN</td>\n",
       "    </tr>\n",
       "    <tr>\n",
       "      <th>6</th>\n",
       "      <td>Julio</td>\n",
       "      <td>AB</td>\n",
       "      <td>1062</td>\n",
       "      <td>Zacatecas</td>\n",
       "      <td>Reposteria</td>\n",
       "      <td>94294</td>\n",
       "      <td>79206.96</td>\n",
       "      <td>NaN</td>\n",
       "      <td>4094</td>\n",
       "      <td>NaN</td>\n",
       "      <td>3862</td>\n",
       "      <td>NaN</td>\n",
       "      <td>2957</td>\n",
       "      <td>NaN</td>\n",
       "      <td>NaN</td>\n",
       "      <td>NaN</td>\n",
       "    </tr>\n",
       "  </tbody>\n",
       "</table>\n",
       "</div>"
      ],
      "text/plain": [
       "       Mes Formato   Tienda              Estado          Area  Venta  \\\n",
       "0    Enero       AB    1056  Baja California Sur     Carnico   89332   \n",
       "1  Febrero      AEB    1057              Hidalgo     Carnico   90159   \n",
       "2    Marzo       MV    1058              Sinaloa    Vegetales  90986   \n",
       "3    Abril       AB    1059             Tlaxcala    Vegetales  91813   \n",
       "4     Mayo      AEB    1060              Hidalgo       Frutas  92640   \n",
       "5    Junio       MV    1061    Estado de MÃ©xico       Frutas  93467   \n",
       "6    Julio       AB    1062            Zacatecas  Reposteria   94294   \n",
       "\n",
       "      Costo  Margen  Desecho  % Desecho  Faltante   % Faltante  Caducado  \\\n",
       "0  80398.80     NaN     3450        NaN       5372         NaN      2885   \n",
       "1  80241.51     NaN     3561        NaN       4870         NaN      2753   \n",
       "2  80067.68     NaN     2737        NaN       3084         NaN      2336   \n",
       "3  79877.31     NaN     2954        NaN       3256         NaN      3296   \n",
       "4  79670.40     NaN     4677        NaN       2090         NaN      2156   \n",
       "5  79446.95     NaN     4502        NaN       5067         NaN      2592   \n",
       "6  79206.96     NaN     4094        NaN       3862         NaN      2957   \n",
       "\n",
       "   % Caducado  Total perdida  % Total Perdida  \n",
       "0         NaN            NaN              NaN  \n",
       "1         NaN            NaN              NaN  \n",
       "2         NaN            NaN              NaN  \n",
       "3         NaN            NaN              NaN  \n",
       "4         NaN            NaN              NaN  \n",
       "5         NaN            NaN              NaN  \n",
       "6         NaN            NaN              NaN  "
      ]
     },
     "execution_count": 3,
     "metadata": {},
     "output_type": "execute_result"
    }
   ],
   "source": [
    "#carga de file\n",
    "\n",
    "data_cp = pd.read_excel(\"C:/Users/eduar/Downloads/Caso practico.xlsx\", sheet_name=\"Hoja1\")\n",
    "data_cp.head(7)"
   ]
  },
  {
   "cell_type": "markdown",
   "id": "53c6f9f5",
   "metadata": {},
   "source": [
    "#### Cáculo de columnas"
   ]
  },
  {
   "cell_type": "code",
   "execution_count": 4,
   "id": "9f1c6506",
   "metadata": {},
   "outputs": [],
   "source": [
    "#Margen es la ganancia que se obtiene de las ventas menos los costos\n",
    "#Marge= Venta - Costo\n",
    "\n",
    "data_cp[\"Margen\"] = data_cp[\"Venta\"]-data_cp[\"Costo\"]\n",
    "#data_cp.head()"
   ]
  },
  {
   "cell_type": "code",
   "execution_count": 5,
   "id": "c00c9117",
   "metadata": {},
   "outputs": [],
   "source": [
    "# % DEsecho: indica la proporción de productos que son inservibles o se tiran respecto a ventas total\n",
    "# % Desecho = (Ventas / Desecho ) * 100\n",
    "data_cp[\"% Desecho\"] = (data_cp[\"Desecho\"] / data_cp[\"Venta\"] )*100\n",
    "#data_cp.head()"
   ]
  },
  {
   "cell_type": "code",
   "execution_count": 6,
   "id": "8724eec0",
   "metadata": {},
   "outputs": [],
   "source": [
    "# % Faltante: es la prporción de productos que no se encuentran respecto a ventas totales\n",
    "# % Faltantes = (Faltante / Venta ) *100\n",
    "\n",
    "#data_cp.columns \n",
    "#columna FALTANTE tiene espacio, entnces:\n",
    "data_cp.columns = data_cp.columns.str.strip() # elimina espacios en los nombres\n",
    "\n",
    "\n",
    "\n",
    "data_cp[\"% Faltante\"] = (data_cp[\"Faltante\"] / data_cp[\"Venta\"] )*100\n",
    "#data_cp.head()"
   ]
  },
  {
   "cell_type": "code",
   "execution_count": 7,
   "id": "2b6c5fbd",
   "metadata": {},
   "outputs": [],
   "source": [
    "# % Caducado: es el % de productos que ha expirado su caducidad en relacion a ventas totales\n",
    "# % Caducado = (Caducado / Ventas )*100\n",
    "\n",
    "data_cp[\"% Caducado\"] = ( data_cp[\"Caducado\"] / data_cp[\"Venta\"] )* 100\n",
    "#data_cp.head()\n",
    "\n",
    "#data_cp.drop(\"% Caduado\", axis=1, inplace=True)"
   ]
  },
  {
   "cell_type": "code",
   "execution_count": 8,
   "id": "647fb167",
   "metadata": {},
   "outputs": [],
   "source": [
    "# Total peridad: suma total de las pérdidas\n",
    "# Total perdida= Desecho + Faltante + Caducado\n",
    "\n",
    "data_cp[\"Total perdida\"] = data_cp[\"Desecho\"] + data_cp[\"Faltante\"] + data_cp[\"Caducado\"]\n",
    "#data_cp.head()"
   ]
  },
  {
   "cell_type": "code",
   "execution_count": 9,
   "id": "fccaef0f",
   "metadata": {},
   "outputs": [
    {
     "data": {
      "text/html": [
       "<div>\n",
       "<style scoped>\n",
       "    .dataframe tbody tr th:only-of-type {\n",
       "        vertical-align: middle;\n",
       "    }\n",
       "\n",
       "    .dataframe tbody tr th {\n",
       "        vertical-align: top;\n",
       "    }\n",
       "\n",
       "    .dataframe thead th {\n",
       "        text-align: right;\n",
       "    }\n",
       "</style>\n",
       "<table border=\"1\" class=\"dataframe\">\n",
       "  <thead>\n",
       "    <tr style=\"text-align: right;\">\n",
       "      <th></th>\n",
       "      <th>Mes</th>\n",
       "      <th>Formato</th>\n",
       "      <th>Tienda</th>\n",
       "      <th>Estado</th>\n",
       "      <th>Area</th>\n",
       "      <th>Venta</th>\n",
       "      <th>Costo</th>\n",
       "      <th>Margen</th>\n",
       "      <th>Desecho</th>\n",
       "      <th>% Desecho</th>\n",
       "      <th>Faltante</th>\n",
       "      <th>% Faltante</th>\n",
       "      <th>Caducado</th>\n",
       "      <th>% Caducado</th>\n",
       "      <th>Total perdida</th>\n",
       "      <th>% Total Perdida</th>\n",
       "    </tr>\n",
       "  </thead>\n",
       "  <tbody>\n",
       "    <tr>\n",
       "      <th>0</th>\n",
       "      <td>Enero</td>\n",
       "      <td>AB</td>\n",
       "      <td>1056</td>\n",
       "      <td>Baja California Sur</td>\n",
       "      <td>Carnico</td>\n",
       "      <td>89332</td>\n",
       "      <td>80398.80</td>\n",
       "      <td>8933.20</td>\n",
       "      <td>3450</td>\n",
       "      <td>3.861998</td>\n",
       "      <td>5372</td>\n",
       "      <td>6.013523</td>\n",
       "      <td>2885</td>\n",
       "      <td>3.229526</td>\n",
       "      <td>11707</td>\n",
       "      <td>13.105046</td>\n",
       "    </tr>\n",
       "    <tr>\n",
       "      <th>1</th>\n",
       "      <td>Febrero</td>\n",
       "      <td>AEB</td>\n",
       "      <td>1057</td>\n",
       "      <td>Hidalgo</td>\n",
       "      <td>Carnico</td>\n",
       "      <td>90159</td>\n",
       "      <td>80241.51</td>\n",
       "      <td>9917.49</td>\n",
       "      <td>3561</td>\n",
       "      <td>3.949689</td>\n",
       "      <td>4870</td>\n",
       "      <td>5.401568</td>\n",
       "      <td>2753</td>\n",
       "      <td>3.053494</td>\n",
       "      <td>11184</td>\n",
       "      <td>12.404752</td>\n",
       "    </tr>\n",
       "    <tr>\n",
       "      <th>2</th>\n",
       "      <td>Marzo</td>\n",
       "      <td>MV</td>\n",
       "      <td>1058</td>\n",
       "      <td>Sinaloa</td>\n",
       "      <td>Vegetales</td>\n",
       "      <td>90986</td>\n",
       "      <td>80067.68</td>\n",
       "      <td>10918.32</td>\n",
       "      <td>2737</td>\n",
       "      <td>3.008155</td>\n",
       "      <td>3084</td>\n",
       "      <td>3.389532</td>\n",
       "      <td>2336</td>\n",
       "      <td>2.567428</td>\n",
       "      <td>8157</td>\n",
       "      <td>8.965116</td>\n",
       "    </tr>\n",
       "    <tr>\n",
       "      <th>3</th>\n",
       "      <td>Abril</td>\n",
       "      <td>AB</td>\n",
       "      <td>1059</td>\n",
       "      <td>Tlaxcala</td>\n",
       "      <td>Vegetales</td>\n",
       "      <td>91813</td>\n",
       "      <td>79877.31</td>\n",
       "      <td>11935.69</td>\n",
       "      <td>2954</td>\n",
       "      <td>3.217409</td>\n",
       "      <td>3256</td>\n",
       "      <td>3.546339</td>\n",
       "      <td>3296</td>\n",
       "      <td>3.589906</td>\n",
       "      <td>9506</td>\n",
       "      <td>10.353654</td>\n",
       "    </tr>\n",
       "    <tr>\n",
       "      <th>4</th>\n",
       "      <td>Mayo</td>\n",
       "      <td>AEB</td>\n",
       "      <td>1060</td>\n",
       "      <td>Hidalgo</td>\n",
       "      <td>Frutas</td>\n",
       "      <td>92640</td>\n",
       "      <td>79670.40</td>\n",
       "      <td>12969.60</td>\n",
       "      <td>4677</td>\n",
       "      <td>5.048575</td>\n",
       "      <td>2090</td>\n",
       "      <td>2.256045</td>\n",
       "      <td>2156</td>\n",
       "      <td>2.327288</td>\n",
       "      <td>8923</td>\n",
       "      <td>9.631908</td>\n",
       "    </tr>\n",
       "  </tbody>\n",
       "</table>\n",
       "</div>"
      ],
      "text/plain": [
       "       Mes Formato  Tienda               Estado       Area  Venta     Costo  \\\n",
       "0    Enero      AB    1056  Baja California Sur   Carnico   89332  80398.80   \n",
       "1  Febrero     AEB    1057              Hidalgo   Carnico   90159  80241.51   \n",
       "2    Marzo      MV    1058              Sinaloa  Vegetales  90986  80067.68   \n",
       "3    Abril      AB    1059             Tlaxcala  Vegetales  91813  79877.31   \n",
       "4     Mayo     AEB    1060              Hidalgo     Frutas  92640  79670.40   \n",
       "\n",
       "     Margen  Desecho  % Desecho  Faltante  % Faltante  Caducado  % Caducado  \\\n",
       "0   8933.20     3450   3.861998      5372    6.013523      2885    3.229526   \n",
       "1   9917.49     3561   3.949689      4870    5.401568      2753    3.053494   \n",
       "2  10918.32     2737   3.008155      3084    3.389532      2336    2.567428   \n",
       "3  11935.69     2954   3.217409      3256    3.546339      3296    3.589906   \n",
       "4  12969.60     4677   5.048575      2090    2.256045      2156    2.327288   \n",
       "\n",
       "   Total perdida  % Total Perdida  \n",
       "0          11707        13.105046  \n",
       "1          11184        12.404752  \n",
       "2           8157         8.965116  \n",
       "3           9506        10.353654  \n",
       "4           8923         9.631908  "
      ]
     },
     "execution_count": 9,
     "metadata": {},
     "output_type": "execute_result"
    }
   ],
   "source": [
    "# % Total perdida: indica la proporción de las pérdidas totales respecto a ventas totoales\n",
    "# % Total perdida: ( Total peridad / Venta ) *100\n",
    "\n",
    "data_cp[\"% Total Perdida\"] = ( data_cp[\"Total perdida\"] / data_cp[\"Venta\"] ) * 100\n",
    "\n",
    "#elinar columna\n",
    "#data_cp.drop([\"% Total perdida\"], axis=1, inplace=True)\n",
    "\n",
    "data_cp.head()"
   ]
  },
  {
   "cell_type": "markdown",
   "id": "9839a647",
   "metadata": {},
   "source": [
    "### Limpieza de datos"
   ]
  },
  {
   "cell_type": "markdown",
   "id": "0009554c",
   "metadata": {},
   "source": [
    "#### valores nulls"
   ]
  },
  {
   "cell_type": "code",
   "execution_count": 10,
   "id": "99f4ba34",
   "metadata": {},
   "outputs": [
    {
     "data": {
      "text/plain": [
       "Mes                0\n",
       "Formato            0\n",
       "Tienda             0\n",
       "Estado             0\n",
       "Area               0\n",
       "Venta              0\n",
       "Costo              0\n",
       "Margen             0\n",
       "Desecho            0\n",
       "% Desecho          0\n",
       "Faltante           0\n",
       "% Faltante         0\n",
       "Caducado           0\n",
       "% Caducado         0\n",
       "Total perdida      0\n",
       "% Total Perdida    0\n",
       "dtype: int64"
      ]
     },
     "execution_count": 10,
     "metadata": {},
     "output_type": "execute_result"
    }
   ],
   "source": [
    "# ttoal del valores null\n",
    "\n",
    "data_cp.isnull().sum()"
   ]
  },
  {
   "cell_type": "markdown",
   "id": "73bd490b",
   "metadata": {},
   "source": [
    "#### imputación de valores"
   ]
  },
  {
   "cell_type": "code",
   "execution_count": 11,
   "id": "d2939e55",
   "metadata": {},
   "outputs": [],
   "source": [
    "#media_venta = data_cp[\"Venta\"].mean()\n",
    "#data_cp[\"Venta\"].fillna(media_venta, inplace=True)\n",
    "\n",
    "\n",
    "#moda_area = data_cp[\"Area\"].mode([0]) #usamo el 1ro con más frecuencia: carnico\n",
    "#moda_area\n",
    "#data_cp[\"Area\"].fillna(moda_area, inplace=True)"
   ]
  },
  {
   "cell_type": "markdown",
   "id": "c987d55f",
   "metadata": {},
   "source": [
    "#### Eliminar duplicados"
   ]
  },
  {
   "cell_type": "code",
   "execution_count": 12,
   "id": "9f8576d8",
   "metadata": {},
   "outputs": [],
   "source": [
    "data_cp.duplicated().sum() #num de duplicados\n",
    "data_cp.drop_duplicates(inplace=True)"
   ]
  },
  {
   "cell_type": "markdown",
   "id": "fa57b113",
   "metadata": {},
   "source": [
    "#### Corrección de tipo de datos"
   ]
  },
  {
   "cell_type": "code",
   "execution_count": 13,
   "id": "d6ac129b",
   "metadata": {},
   "outputs": [],
   "source": [
    "#ej:\n",
    "\n",
    "#data_cp[\"Venta\"] = data_cp[\"Venta\"].astype(float) #int, string\n"
   ]
  },
  {
   "cell_type": "markdown",
   "id": "7846817f",
   "metadata": {},
   "source": [
    "### Estadística descriptiva"
   ]
  },
  {
   "cell_type": "code",
   "execution_count": 14,
   "id": "8a1ff0d7",
   "metadata": {},
   "outputs": [
    {
     "data": {
      "text/html": [
       "<div>\n",
       "<style scoped>\n",
       "    .dataframe tbody tr th:only-of-type {\n",
       "        vertical-align: middle;\n",
       "    }\n",
       "\n",
       "    .dataframe tbody tr th {\n",
       "        vertical-align: top;\n",
       "    }\n",
       "\n",
       "    .dataframe thead th {\n",
       "        text-align: right;\n",
       "    }\n",
       "</style>\n",
       "<table border=\"1\" class=\"dataframe\">\n",
       "  <thead>\n",
       "    <tr style=\"text-align: right;\">\n",
       "      <th></th>\n",
       "      <th>Tienda</th>\n",
       "      <th>Venta</th>\n",
       "      <th>Costo</th>\n",
       "      <th>Margen</th>\n",
       "      <th>Desecho</th>\n",
       "      <th>% Desecho</th>\n",
       "      <th>Faltante</th>\n",
       "      <th>% Faltante</th>\n",
       "      <th>Caducado</th>\n",
       "      <th>% Caducado</th>\n",
       "      <th>Total perdida</th>\n",
       "      <th>% Total Perdida</th>\n",
       "    </tr>\n",
       "  </thead>\n",
       "  <tbody>\n",
       "    <tr>\n",
       "      <th>count</th>\n",
       "      <td>3000.000000</td>\n",
       "      <td>3000.000000</td>\n",
       "      <td>3000.000000</td>\n",
       "      <td>3000.000000</td>\n",
       "      <td>3000.000000</td>\n",
       "      <td>3000.000000</td>\n",
       "      <td>3000.000000</td>\n",
       "      <td>3000.000000</td>\n",
       "      <td>3000.000000</td>\n",
       "      <td>3000.000000</td>\n",
       "      <td>3000.000000</td>\n",
       "      <td>3000.000000</td>\n",
       "    </tr>\n",
       "    <tr>\n",
       "      <th>mean</th>\n",
       "      <td>2555.500000</td>\n",
       "      <td>209374.959000</td>\n",
       "      <td>135953.438790</td>\n",
       "      <td>73421.520210</td>\n",
       "      <td>4014.469333</td>\n",
       "      <td>2.836444</td>\n",
       "      <td>4002.708667</td>\n",
       "      <td>2.849286</td>\n",
       "      <td>3966.201667</td>\n",
       "      <td>2.824394</td>\n",
       "      <td>11983.379667</td>\n",
       "      <td>8.510124</td>\n",
       "    </tr>\n",
       "    <tr>\n",
       "      <th>std</th>\n",
       "      <td>866.169729</td>\n",
       "      <td>118153.838084</td>\n",
       "      <td>83781.662067</td>\n",
       "      <td>55059.459445</td>\n",
       "      <td>1157.270718</td>\n",
       "      <td>2.654932</td>\n",
       "      <td>1152.115442</td>\n",
       "      <td>2.794716</td>\n",
       "      <td>1156.333933</td>\n",
       "      <td>2.826973</td>\n",
       "      <td>2004.967309</td>\n",
       "      <td>7.792212</td>\n",
       "    </tr>\n",
       "    <tr>\n",
       "      <th>min</th>\n",
       "      <td>1056.000000</td>\n",
       "      <td>14231.000000</td>\n",
       "      <td>8396.290000</td>\n",
       "      <td>2203.100000</td>\n",
       "      <td>2000.000000</td>\n",
       "      <td>0.396144</td>\n",
       "      <td>2000.000000</td>\n",
       "      <td>0.356335</td>\n",
       "      <td>2000.000000</td>\n",
       "      <td>0.344170</td>\n",
       "      <td>6344.000000</td>\n",
       "      <td>1.342496</td>\n",
       "    </tr>\n",
       "    <tr>\n",
       "      <th>25%</th>\n",
       "      <td>1805.750000</td>\n",
       "      <td>117650.750000</td>\n",
       "      <td>73222.307500</td>\n",
       "      <td>33346.142500</td>\n",
       "      <td>3006.500000</td>\n",
       "      <td>1.348026</td>\n",
       "      <td>2996.000000</td>\n",
       "      <td>1.334383</td>\n",
       "      <td>2956.500000</td>\n",
       "      <td>1.330764</td>\n",
       "      <td>10560.750000</td>\n",
       "      <td>4.275599</td>\n",
       "    </tr>\n",
       "    <tr>\n",
       "      <th>50%</th>\n",
       "      <td>2555.500000</td>\n",
       "      <td>186337.000000</td>\n",
       "      <td>116241.875000</td>\n",
       "      <td>58335.800000</td>\n",
       "      <td>4033.000000</td>\n",
       "      <td>2.061307</td>\n",
       "      <td>3989.500000</td>\n",
       "      <td>2.137116</td>\n",
       "      <td>3910.500000</td>\n",
       "      <td>2.067980</td>\n",
       "      <td>11930.500000</td>\n",
       "      <td>6.388989</td>\n",
       "    </tr>\n",
       "    <tr>\n",
       "      <th>75%</th>\n",
       "      <td>3305.250000</td>\n",
       "      <td>276987.500000</td>\n",
       "      <td>180812.332500</td>\n",
       "      <td>98985.807500</td>\n",
       "      <td>5013.000000</td>\n",
       "      <td>3.357862</td>\n",
       "      <td>5013.500000</td>\n",
       "      <td>3.397533</td>\n",
       "      <td>4982.500000</td>\n",
       "      <td>3.326766</td>\n",
       "      <td>13409.500000</td>\n",
       "      <td>10.126917</td>\n",
       "    </tr>\n",
       "    <tr>\n",
       "      <th>max</th>\n",
       "      <td>4055.000000</td>\n",
       "      <td>593021.000000</td>\n",
       "      <td>532528.200000</td>\n",
       "      <td>354225.000000</td>\n",
       "      <td>6000.000000</td>\n",
       "      <td>33.422157</td>\n",
       "      <td>5998.000000</td>\n",
       "      <td>36.069036</td>\n",
       "      <td>6000.000000</td>\n",
       "      <td>39.564319</td>\n",
       "      <td>17464.000000</td>\n",
       "      <td>86.869629</td>\n",
       "    </tr>\n",
       "  </tbody>\n",
       "</table>\n",
       "</div>"
      ],
      "text/plain": [
       "            Tienda          Venta          Costo         Margen      Desecho  \\\n",
       "count  3000.000000    3000.000000    3000.000000    3000.000000  3000.000000   \n",
       "mean   2555.500000  209374.959000  135953.438790   73421.520210  4014.469333   \n",
       "std     866.169729  118153.838084   83781.662067   55059.459445  1157.270718   \n",
       "min    1056.000000   14231.000000    8396.290000    2203.100000  2000.000000   \n",
       "25%    1805.750000  117650.750000   73222.307500   33346.142500  3006.500000   \n",
       "50%    2555.500000  186337.000000  116241.875000   58335.800000  4033.000000   \n",
       "75%    3305.250000  276987.500000  180812.332500   98985.807500  5013.000000   \n",
       "max    4055.000000  593021.000000  532528.200000  354225.000000  6000.000000   \n",
       "\n",
       "         % Desecho     Faltante   % Faltante     Caducado   % Caducado  \\\n",
       "count  3000.000000  3000.000000  3000.000000  3000.000000  3000.000000   \n",
       "mean      2.836444  4002.708667     2.849286  3966.201667     2.824394   \n",
       "std       2.654932  1152.115442     2.794716  1156.333933     2.826973   \n",
       "min       0.396144  2000.000000     0.356335  2000.000000     0.344170   \n",
       "25%       1.348026  2996.000000     1.334383  2956.500000     1.330764   \n",
       "50%       2.061307  3989.500000     2.137116  3910.500000     2.067980   \n",
       "75%       3.357862  5013.500000     3.397533  4982.500000     3.326766   \n",
       "max      33.422157  5998.000000    36.069036  6000.000000    39.564319   \n",
       "\n",
       "       Total perdida  % Total Perdida  \n",
       "count    3000.000000      3000.000000  \n",
       "mean    11983.379667         8.510124  \n",
       "std      2004.967309         7.792212  \n",
       "min      6344.000000         1.342496  \n",
       "25%     10560.750000         4.275599  \n",
       "50%     11930.500000         6.388989  \n",
       "75%     13409.500000        10.126917  \n",
       "max     17464.000000        86.869629  "
      ]
     },
     "execution_count": 14,
     "metadata": {},
     "output_type": "execute_result"
    }
   ],
   "source": [
    "data_cp.describe()\n",
    "#data_cp.describe(include=\"all\")"
   ]
  },
  {
   "cell_type": "markdown",
   "id": "7e379271",
   "metadata": {},
   "source": [
    "* Venta promedio: 209,374.9\n",
    "* Costo promedio: 135,953.4\n",
    "* Marge promedio: 73,421.5\n",
    "* Pérdida promedio: 11,983.3"
   ]
  },
  {
   "cell_type": "markdown",
   "id": "13bf55ea",
   "metadata": {},
   "source": [
    "#### corelación"
   ]
  },
  {
   "cell_type": "code",
   "execution_count": 15,
   "id": "8c8c1a11",
   "metadata": {},
   "outputs": [
    {
     "name": "stdout",
     "output_type": "stream",
     "text": [
      "                  Venta     Costo    Margen  Total perdida\n",
      "Venta          1.000000  0.906552  0.766469       0.010664\n",
      "Costo          0.906552  1.000000  0.423742       0.009450\n",
      "Margen         0.766469  0.423742  1.000000       0.008504\n",
      "Total perdida  0.010664  0.009450  0.008504       1.000000\n"
     ]
    }
   ],
   "source": [
    "correlation_cols = ['Venta', 'Costo', 'Margen','Total perdida'] # 'Desecho', 'Faltante', 'Caducado', \n",
    "corr_matrix = data_cp[correlation_cols].corr()\n",
    "print(corr_matrix)"
   ]
  },
  {
   "cell_type": "markdown",
   "id": "9f756fea",
   "metadata": {},
   "source": [
    "* Correlación + fuerte entre Venta y costo: a medida que aumenta las ventas auemnta los costos de manera proporcional\n",
    "* Correlacion + moderada entre venta y marge: mayor venta tiende a generar mayor márgenes\n",
    "* Correlación + débil entre ventas y pérdidas: las pérdidas no estan muy correlacionadas con el vol de ventas"
   ]
  },
  {
   "cell_type": "code",
   "execution_count": 16,
   "id": "b59b22bd",
   "metadata": {},
   "outputs": [
    {
     "data": {
      "text/html": [
       "<div>\n",
       "<style scoped>\n",
       "    .dataframe tbody tr th:only-of-type {\n",
       "        vertical-align: middle;\n",
       "    }\n",
       "\n",
       "    .dataframe tbody tr th {\n",
       "        vertical-align: top;\n",
       "    }\n",
       "\n",
       "    .dataframe thead th {\n",
       "        text-align: right;\n",
       "    }\n",
       "</style>\n",
       "<table border=\"1\" class=\"dataframe\">\n",
       "  <thead>\n",
       "    <tr style=\"text-align: right;\">\n",
       "      <th></th>\n",
       "      <th>Mes</th>\n",
       "      <th>Formato</th>\n",
       "      <th>Tienda</th>\n",
       "      <th>Estado</th>\n",
       "      <th>Area</th>\n",
       "      <th>Venta</th>\n",
       "      <th>Costo</th>\n",
       "      <th>Margen</th>\n",
       "      <th>Desecho</th>\n",
       "      <th>% Desecho</th>\n",
       "      <th>Faltante</th>\n",
       "      <th>% Faltante</th>\n",
       "      <th>Caducado</th>\n",
       "      <th>% Caducado</th>\n",
       "      <th>Total perdida</th>\n",
       "      <th>% Total Perdida</th>\n",
       "      <th>Numero_Mes</th>\n",
       "    </tr>\n",
       "  </thead>\n",
       "  <tbody>\n",
       "    <tr>\n",
       "      <th>0</th>\n",
       "      <td>Enero</td>\n",
       "      <td>AB</td>\n",
       "      <td>1056</td>\n",
       "      <td>Baja California Sur</td>\n",
       "      <td>Carnico</td>\n",
       "      <td>89332</td>\n",
       "      <td>80398.80</td>\n",
       "      <td>8933.20</td>\n",
       "      <td>3450</td>\n",
       "      <td>3.861998</td>\n",
       "      <td>5372</td>\n",
       "      <td>6.013523</td>\n",
       "      <td>2885</td>\n",
       "      <td>3.229526</td>\n",
       "      <td>11707</td>\n",
       "      <td>13.105046</td>\n",
       "      <td>1</td>\n",
       "    </tr>\n",
       "    <tr>\n",
       "      <th>1</th>\n",
       "      <td>Febrero</td>\n",
       "      <td>AEB</td>\n",
       "      <td>1057</td>\n",
       "      <td>Hidalgo</td>\n",
       "      <td>Carnico</td>\n",
       "      <td>90159</td>\n",
       "      <td>80241.51</td>\n",
       "      <td>9917.49</td>\n",
       "      <td>3561</td>\n",
       "      <td>3.949689</td>\n",
       "      <td>4870</td>\n",
       "      <td>5.401568</td>\n",
       "      <td>2753</td>\n",
       "      <td>3.053494</td>\n",
       "      <td>11184</td>\n",
       "      <td>12.404752</td>\n",
       "      <td>2</td>\n",
       "    </tr>\n",
       "    <tr>\n",
       "      <th>2</th>\n",
       "      <td>Marzo</td>\n",
       "      <td>MV</td>\n",
       "      <td>1058</td>\n",
       "      <td>Sinaloa</td>\n",
       "      <td>Vegetales</td>\n",
       "      <td>90986</td>\n",
       "      <td>80067.68</td>\n",
       "      <td>10918.32</td>\n",
       "      <td>2737</td>\n",
       "      <td>3.008155</td>\n",
       "      <td>3084</td>\n",
       "      <td>3.389532</td>\n",
       "      <td>2336</td>\n",
       "      <td>2.567428</td>\n",
       "      <td>8157</td>\n",
       "      <td>8.965116</td>\n",
       "      <td>3</td>\n",
       "    </tr>\n",
       "    <tr>\n",
       "      <th>3</th>\n",
       "      <td>Abril</td>\n",
       "      <td>AB</td>\n",
       "      <td>1059</td>\n",
       "      <td>Tlaxcala</td>\n",
       "      <td>Vegetales</td>\n",
       "      <td>91813</td>\n",
       "      <td>79877.31</td>\n",
       "      <td>11935.69</td>\n",
       "      <td>2954</td>\n",
       "      <td>3.217409</td>\n",
       "      <td>3256</td>\n",
       "      <td>3.546339</td>\n",
       "      <td>3296</td>\n",
       "      <td>3.589906</td>\n",
       "      <td>9506</td>\n",
       "      <td>10.353654</td>\n",
       "      <td>4</td>\n",
       "    </tr>\n",
       "    <tr>\n",
       "      <th>4</th>\n",
       "      <td>Mayo</td>\n",
       "      <td>AEB</td>\n",
       "      <td>1060</td>\n",
       "      <td>Hidalgo</td>\n",
       "      <td>Frutas</td>\n",
       "      <td>92640</td>\n",
       "      <td>79670.40</td>\n",
       "      <td>12969.60</td>\n",
       "      <td>4677</td>\n",
       "      <td>5.048575</td>\n",
       "      <td>2090</td>\n",
       "      <td>2.256045</td>\n",
       "      <td>2156</td>\n",
       "      <td>2.327288</td>\n",
       "      <td>8923</td>\n",
       "      <td>9.631908</td>\n",
       "      <td>5</td>\n",
       "    </tr>\n",
       "  </tbody>\n",
       "</table>\n",
       "</div>"
      ],
      "text/plain": [
       "       Mes Formato  Tienda               Estado       Area  Venta     Costo  \\\n",
       "0    Enero      AB    1056  Baja California Sur   Carnico   89332  80398.80   \n",
       "1  Febrero     AEB    1057              Hidalgo   Carnico   90159  80241.51   \n",
       "2    Marzo      MV    1058              Sinaloa  Vegetales  90986  80067.68   \n",
       "3    Abril      AB    1059             Tlaxcala  Vegetales  91813  79877.31   \n",
       "4     Mayo     AEB    1060              Hidalgo     Frutas  92640  79670.40   \n",
       "\n",
       "     Margen  Desecho  % Desecho  Faltante  % Faltante  Caducado  % Caducado  \\\n",
       "0   8933.20     3450   3.861998      5372    6.013523      2885    3.229526   \n",
       "1   9917.49     3561   3.949689      4870    5.401568      2753    3.053494   \n",
       "2  10918.32     2737   3.008155      3084    3.389532      2336    2.567428   \n",
       "3  11935.69     2954   3.217409      3256    3.546339      3296    3.589906   \n",
       "4  12969.60     4677   5.048575      2090    2.256045      2156    2.327288   \n",
       "\n",
       "   Total perdida  % Total Perdida  Numero_Mes  \n",
       "0          11707        13.105046           1  \n",
       "1          11184        12.404752           2  \n",
       "2           8157         8.965116           3  \n",
       "3           9506        10.353654           4  \n",
       "4           8923         9.631908           5  "
      ]
     },
     "execution_count": 16,
     "metadata": {},
     "output_type": "execute_result"
    }
   ],
   "source": [
    "mes_a_numero = {\n",
    "    'Enero': 1, 'Febrero': 2, 'Marzo': 3, 'Abril': 4,\n",
    "    'Mayo': 5, 'Junio': 6, 'Julio': 7, 'Agosto': 8,\n",
    "    'Septiembre': 9, 'Octubre': 10, 'Noviembre': 11, 'Diciembre': 12\n",
    "}\n",
    "\n",
    "# Crear la columna 'Numero_Mes' usando el método .map()\n",
    "data_cp['Numero_Mes'] = data_cp['Mes'].map(mes_a_numero)\n",
    "\n",
    "#data_cp[\"Numero_Mes\"].unique()\n",
    "data_cp.head()"
   ]
  },
  {
   "cell_type": "markdown",
   "id": "04ff642d",
   "metadata": {},
   "source": [
    "#### Análisis de tendecia"
   ]
  },
  {
   "cell_type": "code",
   "execution_count": 21,
   "id": "11ba00cc",
   "metadata": {},
   "outputs": [
    {
     "data": {
      "application/vnd.plotly.v1+json": {
       "config": {
        "plotlyServerURL": "https://plot.ly"
       },
       "data": [
        {
         "hovertemplate": "Numero_Mes=%{x}<br>Venta=%{y}<extra></extra>",
         "legendgroup": "",
         "line": {
          "color": "#636efa",
          "dash": "solid"
         },
         "marker": {
          "symbol": "circle"
         },
         "mode": "lines+markers",
         "name": "",
         "orientation": "v",
         "showlegend": false,
         "type": "scatter",
         "x": [
          1,
          2,
          3,
          4,
          5,
          6,
          7,
          8,
          9,
          10,
          11,
          12
         ],
         "xaxis": "x",
         "y": [
          52365050,
          52549833,
          51982954,
          52061384,
          52246095,
          52324422,
          52509030,
          52693638,
          52586947,
          52596758,
          52012140,
          52196626
         ],
         "yaxis": "y"
        }
       ],
       "layout": {
        "legend": {
         "tracegroupgap": 0
        },
        "template": {
         "data": {
          "bar": [
           {
            "error_x": {
             "color": "#2a3f5f"
            },
            "error_y": {
             "color": "#2a3f5f"
            },
            "marker": {
             "line": {
              "color": "#E5ECF6",
              "width": 0.5
             },
             "pattern": {
              "fillmode": "overlay",
              "size": 10,
              "solidity": 0.2
             }
            },
            "type": "bar"
           }
          ],
          "barpolar": [
           {
            "marker": {
             "line": {
              "color": "#E5ECF6",
              "width": 0.5
             },
             "pattern": {
              "fillmode": "overlay",
              "size": 10,
              "solidity": 0.2
             }
            },
            "type": "barpolar"
           }
          ],
          "carpet": [
           {
            "aaxis": {
             "endlinecolor": "#2a3f5f",
             "gridcolor": "white",
             "linecolor": "white",
             "minorgridcolor": "white",
             "startlinecolor": "#2a3f5f"
            },
            "baxis": {
             "endlinecolor": "#2a3f5f",
             "gridcolor": "white",
             "linecolor": "white",
             "minorgridcolor": "white",
             "startlinecolor": "#2a3f5f"
            },
            "type": "carpet"
           }
          ],
          "choropleth": [
           {
            "colorbar": {
             "outlinewidth": 0,
             "ticks": ""
            },
            "type": "choropleth"
           }
          ],
          "contour": [
           {
            "colorbar": {
             "outlinewidth": 0,
             "ticks": ""
            },
            "colorscale": [
             [
              0,
              "#0d0887"
             ],
             [
              0.1111111111111111,
              "#46039f"
             ],
             [
              0.2222222222222222,
              "#7201a8"
             ],
             [
              0.3333333333333333,
              "#9c179e"
             ],
             [
              0.4444444444444444,
              "#bd3786"
             ],
             [
              0.5555555555555556,
              "#d8576b"
             ],
             [
              0.6666666666666666,
              "#ed7953"
             ],
             [
              0.7777777777777778,
              "#fb9f3a"
             ],
             [
              0.8888888888888888,
              "#fdca26"
             ],
             [
              1,
              "#f0f921"
             ]
            ],
            "type": "contour"
           }
          ],
          "contourcarpet": [
           {
            "colorbar": {
             "outlinewidth": 0,
             "ticks": ""
            },
            "type": "contourcarpet"
           }
          ],
          "heatmap": [
           {
            "colorbar": {
             "outlinewidth": 0,
             "ticks": ""
            },
            "colorscale": [
             [
              0,
              "#0d0887"
             ],
             [
              0.1111111111111111,
              "#46039f"
             ],
             [
              0.2222222222222222,
              "#7201a8"
             ],
             [
              0.3333333333333333,
              "#9c179e"
             ],
             [
              0.4444444444444444,
              "#bd3786"
             ],
             [
              0.5555555555555556,
              "#d8576b"
             ],
             [
              0.6666666666666666,
              "#ed7953"
             ],
             [
              0.7777777777777778,
              "#fb9f3a"
             ],
             [
              0.8888888888888888,
              "#fdca26"
             ],
             [
              1,
              "#f0f921"
             ]
            ],
            "type": "heatmap"
           }
          ],
          "heatmapgl": [
           {
            "colorbar": {
             "outlinewidth": 0,
             "ticks": ""
            },
            "colorscale": [
             [
              0,
              "#0d0887"
             ],
             [
              0.1111111111111111,
              "#46039f"
             ],
             [
              0.2222222222222222,
              "#7201a8"
             ],
             [
              0.3333333333333333,
              "#9c179e"
             ],
             [
              0.4444444444444444,
              "#bd3786"
             ],
             [
              0.5555555555555556,
              "#d8576b"
             ],
             [
              0.6666666666666666,
              "#ed7953"
             ],
             [
              0.7777777777777778,
              "#fb9f3a"
             ],
             [
              0.8888888888888888,
              "#fdca26"
             ],
             [
              1,
              "#f0f921"
             ]
            ],
            "type": "heatmapgl"
           }
          ],
          "histogram": [
           {
            "marker": {
             "pattern": {
              "fillmode": "overlay",
              "size": 10,
              "solidity": 0.2
             }
            },
            "type": "histogram"
           }
          ],
          "histogram2d": [
           {
            "colorbar": {
             "outlinewidth": 0,
             "ticks": ""
            },
            "colorscale": [
             [
              0,
              "#0d0887"
             ],
             [
              0.1111111111111111,
              "#46039f"
             ],
             [
              0.2222222222222222,
              "#7201a8"
             ],
             [
              0.3333333333333333,
              "#9c179e"
             ],
             [
              0.4444444444444444,
              "#bd3786"
             ],
             [
              0.5555555555555556,
              "#d8576b"
             ],
             [
              0.6666666666666666,
              "#ed7953"
             ],
             [
              0.7777777777777778,
              "#fb9f3a"
             ],
             [
              0.8888888888888888,
              "#fdca26"
             ],
             [
              1,
              "#f0f921"
             ]
            ],
            "type": "histogram2d"
           }
          ],
          "histogram2dcontour": [
           {
            "colorbar": {
             "outlinewidth": 0,
             "ticks": ""
            },
            "colorscale": [
             [
              0,
              "#0d0887"
             ],
             [
              0.1111111111111111,
              "#46039f"
             ],
             [
              0.2222222222222222,
              "#7201a8"
             ],
             [
              0.3333333333333333,
              "#9c179e"
             ],
             [
              0.4444444444444444,
              "#bd3786"
             ],
             [
              0.5555555555555556,
              "#d8576b"
             ],
             [
              0.6666666666666666,
              "#ed7953"
             ],
             [
              0.7777777777777778,
              "#fb9f3a"
             ],
             [
              0.8888888888888888,
              "#fdca26"
             ],
             [
              1,
              "#f0f921"
             ]
            ],
            "type": "histogram2dcontour"
           }
          ],
          "mesh3d": [
           {
            "colorbar": {
             "outlinewidth": 0,
             "ticks": ""
            },
            "type": "mesh3d"
           }
          ],
          "parcoords": [
           {
            "line": {
             "colorbar": {
              "outlinewidth": 0,
              "ticks": ""
             }
            },
            "type": "parcoords"
           }
          ],
          "pie": [
           {
            "automargin": true,
            "type": "pie"
           }
          ],
          "scatter": [
           {
            "fillpattern": {
             "fillmode": "overlay",
             "size": 10,
             "solidity": 0.2
            },
            "type": "scatter"
           }
          ],
          "scatter3d": [
           {
            "line": {
             "colorbar": {
              "outlinewidth": 0,
              "ticks": ""
             }
            },
            "marker": {
             "colorbar": {
              "outlinewidth": 0,
              "ticks": ""
             }
            },
            "type": "scatter3d"
           }
          ],
          "scattercarpet": [
           {
            "marker": {
             "colorbar": {
              "outlinewidth": 0,
              "ticks": ""
             }
            },
            "type": "scattercarpet"
           }
          ],
          "scattergeo": [
           {
            "marker": {
             "colorbar": {
              "outlinewidth": 0,
              "ticks": ""
             }
            },
            "type": "scattergeo"
           }
          ],
          "scattergl": [
           {
            "marker": {
             "colorbar": {
              "outlinewidth": 0,
              "ticks": ""
             }
            },
            "type": "scattergl"
           }
          ],
          "scattermapbox": [
           {
            "marker": {
             "colorbar": {
              "outlinewidth": 0,
              "ticks": ""
             }
            },
            "type": "scattermapbox"
           }
          ],
          "scatterpolar": [
           {
            "marker": {
             "colorbar": {
              "outlinewidth": 0,
              "ticks": ""
             }
            },
            "type": "scatterpolar"
           }
          ],
          "scatterpolargl": [
           {
            "marker": {
             "colorbar": {
              "outlinewidth": 0,
              "ticks": ""
             }
            },
            "type": "scatterpolargl"
           }
          ],
          "scatterternary": [
           {
            "marker": {
             "colorbar": {
              "outlinewidth": 0,
              "ticks": ""
             }
            },
            "type": "scatterternary"
           }
          ],
          "surface": [
           {
            "colorbar": {
             "outlinewidth": 0,
             "ticks": ""
            },
            "colorscale": [
             [
              0,
              "#0d0887"
             ],
             [
              0.1111111111111111,
              "#46039f"
             ],
             [
              0.2222222222222222,
              "#7201a8"
             ],
             [
              0.3333333333333333,
              "#9c179e"
             ],
             [
              0.4444444444444444,
              "#bd3786"
             ],
             [
              0.5555555555555556,
              "#d8576b"
             ],
             [
              0.6666666666666666,
              "#ed7953"
             ],
             [
              0.7777777777777778,
              "#fb9f3a"
             ],
             [
              0.8888888888888888,
              "#fdca26"
             ],
             [
              1,
              "#f0f921"
             ]
            ],
            "type": "surface"
           }
          ],
          "table": [
           {
            "cells": {
             "fill": {
              "color": "#EBF0F8"
             },
             "line": {
              "color": "white"
             }
            },
            "header": {
             "fill": {
              "color": "#C8D4E3"
             },
             "line": {
              "color": "white"
             }
            },
            "type": "table"
           }
          ]
         },
         "layout": {
          "annotationdefaults": {
           "arrowcolor": "#2a3f5f",
           "arrowhead": 0,
           "arrowwidth": 1
          },
          "autotypenumbers": "strict",
          "coloraxis": {
           "colorbar": {
            "outlinewidth": 0,
            "ticks": ""
           }
          },
          "colorscale": {
           "diverging": [
            [
             0,
             "#8e0152"
            ],
            [
             0.1,
             "#c51b7d"
            ],
            [
             0.2,
             "#de77ae"
            ],
            [
             0.3,
             "#f1b6da"
            ],
            [
             0.4,
             "#fde0ef"
            ],
            [
             0.5,
             "#f7f7f7"
            ],
            [
             0.6,
             "#e6f5d0"
            ],
            [
             0.7,
             "#b8e186"
            ],
            [
             0.8,
             "#7fbc41"
            ],
            [
             0.9,
             "#4d9221"
            ],
            [
             1,
             "#276419"
            ]
           ],
           "sequential": [
            [
             0,
             "#0d0887"
            ],
            [
             0.1111111111111111,
             "#46039f"
            ],
            [
             0.2222222222222222,
             "#7201a8"
            ],
            [
             0.3333333333333333,
             "#9c179e"
            ],
            [
             0.4444444444444444,
             "#bd3786"
            ],
            [
             0.5555555555555556,
             "#d8576b"
            ],
            [
             0.6666666666666666,
             "#ed7953"
            ],
            [
             0.7777777777777778,
             "#fb9f3a"
            ],
            [
             0.8888888888888888,
             "#fdca26"
            ],
            [
             1,
             "#f0f921"
            ]
           ],
           "sequentialminus": [
            [
             0,
             "#0d0887"
            ],
            [
             0.1111111111111111,
             "#46039f"
            ],
            [
             0.2222222222222222,
             "#7201a8"
            ],
            [
             0.3333333333333333,
             "#9c179e"
            ],
            [
             0.4444444444444444,
             "#bd3786"
            ],
            [
             0.5555555555555556,
             "#d8576b"
            ],
            [
             0.6666666666666666,
             "#ed7953"
            ],
            [
             0.7777777777777778,
             "#fb9f3a"
            ],
            [
             0.8888888888888888,
             "#fdca26"
            ],
            [
             1,
             "#f0f921"
            ]
           ]
          },
          "colorway": [
           "#636efa",
           "#EF553B",
           "#00cc96",
           "#ab63fa",
           "#FFA15A",
           "#19d3f3",
           "#FF6692",
           "#B6E880",
           "#FF97FF",
           "#FECB52"
          ],
          "font": {
           "color": "#2a3f5f"
          },
          "geo": {
           "bgcolor": "white",
           "lakecolor": "white",
           "landcolor": "#E5ECF6",
           "showlakes": true,
           "showland": true,
           "subunitcolor": "white"
          },
          "hoverlabel": {
           "align": "left"
          },
          "hovermode": "closest",
          "mapbox": {
           "style": "light"
          },
          "paper_bgcolor": "white",
          "plot_bgcolor": "#E5ECF6",
          "polar": {
           "angularaxis": {
            "gridcolor": "white",
            "linecolor": "white",
            "ticks": ""
           },
           "bgcolor": "#E5ECF6",
           "radialaxis": {
            "gridcolor": "white",
            "linecolor": "white",
            "ticks": ""
           }
          },
          "scene": {
           "xaxis": {
            "backgroundcolor": "#E5ECF6",
            "gridcolor": "white",
            "gridwidth": 2,
            "linecolor": "white",
            "showbackground": true,
            "ticks": "",
            "zerolinecolor": "white"
           },
           "yaxis": {
            "backgroundcolor": "#E5ECF6",
            "gridcolor": "white",
            "gridwidth": 2,
            "linecolor": "white",
            "showbackground": true,
            "ticks": "",
            "zerolinecolor": "white"
           },
           "zaxis": {
            "backgroundcolor": "#E5ECF6",
            "gridcolor": "white",
            "gridwidth": 2,
            "linecolor": "white",
            "showbackground": true,
            "ticks": "",
            "zerolinecolor": "white"
           }
          },
          "shapedefaults": {
           "line": {
            "color": "#2a3f5f"
           }
          },
          "ternary": {
           "aaxis": {
            "gridcolor": "white",
            "linecolor": "white",
            "ticks": ""
           },
           "baxis": {
            "gridcolor": "white",
            "linecolor": "white",
            "ticks": ""
           },
           "bgcolor": "#E5ECF6",
           "caxis": {
            "gridcolor": "white",
            "linecolor": "white",
            "ticks": ""
           }
          },
          "title": {
           "x": 0.05
          },
          "xaxis": {
           "automargin": true,
           "gridcolor": "white",
           "linecolor": "white",
           "ticks": "",
           "title": {
            "standoff": 15
           },
           "zerolinecolor": "white",
           "zerolinewidth": 2
          },
          "yaxis": {
           "automargin": true,
           "gridcolor": "white",
           "linecolor": "white",
           "ticks": "",
           "title": {
            "standoff": 15
           },
           "zerolinecolor": "white",
           "zerolinewidth": 2
          }
         }
        },
        "title": {
         "text": "Tendencia de Ventas Mensuales"
        },
        "xaxis": {
         "anchor": "y",
         "domain": [
          0,
          1
         ],
         "title": {
          "text": "Numero_Mes"
         }
        },
        "yaxis": {
         "anchor": "x",
         "domain": [
          0,
          1
         ],
         "title": {
          "text": "Venta"
         }
        }
       }
      },
      "text/html": [
       "<div>                            <div id=\"cbc2aaf8-500c-44ab-bb7c-959f0b2967c0\" class=\"plotly-graph-div\" style=\"height:525px; width:100%;\"></div>            <script type=\"text/javascript\">                require([\"plotly\"], function(Plotly) {                    window.PLOTLYENV=window.PLOTLYENV || {};                                    if (document.getElementById(\"cbc2aaf8-500c-44ab-bb7c-959f0b2967c0\")) {                    Plotly.newPlot(                        \"cbc2aaf8-500c-44ab-bb7c-959f0b2967c0\",                        [{\"hovertemplate\":\"Numero_Mes=%{x}<br>Venta=%{y}<extra></extra>\",\"legendgroup\":\"\",\"line\":{\"color\":\"#636efa\",\"dash\":\"solid\"},\"marker\":{\"symbol\":\"circle\"},\"mode\":\"lines+markers\",\"name\":\"\",\"orientation\":\"v\",\"showlegend\":false,\"x\":[1,2,3,4,5,6,7,8,9,10,11,12],\"xaxis\":\"x\",\"y\":[52365050,52549833,51982954,52061384,52246095,52324422,52509030,52693638,52586947,52596758,52012140,52196626],\"yaxis\":\"y\",\"type\":\"scatter\"}],                        {\"template\":{\"data\":{\"histogram2dcontour\":[{\"type\":\"histogram2dcontour\",\"colorbar\":{\"outlinewidth\":0,\"ticks\":\"\"},\"colorscale\":[[0.0,\"#0d0887\"],[0.1111111111111111,\"#46039f\"],[0.2222222222222222,\"#7201a8\"],[0.3333333333333333,\"#9c179e\"],[0.4444444444444444,\"#bd3786\"],[0.5555555555555556,\"#d8576b\"],[0.6666666666666666,\"#ed7953\"],[0.7777777777777778,\"#fb9f3a\"],[0.8888888888888888,\"#fdca26\"],[1.0,\"#f0f921\"]]}],\"choropleth\":[{\"type\":\"choropleth\",\"colorbar\":{\"outlinewidth\":0,\"ticks\":\"\"}}],\"histogram2d\":[{\"type\":\"histogram2d\",\"colorbar\":{\"outlinewidth\":0,\"ticks\":\"\"},\"colorscale\":[[0.0,\"#0d0887\"],[0.1111111111111111,\"#46039f\"],[0.2222222222222222,\"#7201a8\"],[0.3333333333333333,\"#9c179e\"],[0.4444444444444444,\"#bd3786\"],[0.5555555555555556,\"#d8576b\"],[0.6666666666666666,\"#ed7953\"],[0.7777777777777778,\"#fb9f3a\"],[0.8888888888888888,\"#fdca26\"],[1.0,\"#f0f921\"]]}],\"heatmap\":[{\"type\":\"heatmap\",\"colorbar\":{\"outlinewidth\":0,\"ticks\":\"\"},\"colorscale\":[[0.0,\"#0d0887\"],[0.1111111111111111,\"#46039f\"],[0.2222222222222222,\"#7201a8\"],[0.3333333333333333,\"#9c179e\"],[0.4444444444444444,\"#bd3786\"],[0.5555555555555556,\"#d8576b\"],[0.6666666666666666,\"#ed7953\"],[0.7777777777777778,\"#fb9f3a\"],[0.8888888888888888,\"#fdca26\"],[1.0,\"#f0f921\"]]}],\"heatmapgl\":[{\"type\":\"heatmapgl\",\"colorbar\":{\"outlinewidth\":0,\"ticks\":\"\"},\"colorscale\":[[0.0,\"#0d0887\"],[0.1111111111111111,\"#46039f\"],[0.2222222222222222,\"#7201a8\"],[0.3333333333333333,\"#9c179e\"],[0.4444444444444444,\"#bd3786\"],[0.5555555555555556,\"#d8576b\"],[0.6666666666666666,\"#ed7953\"],[0.7777777777777778,\"#fb9f3a\"],[0.8888888888888888,\"#fdca26\"],[1.0,\"#f0f921\"]]}],\"contourcarpet\":[{\"type\":\"contourcarpet\",\"colorbar\":{\"outlinewidth\":0,\"ticks\":\"\"}}],\"contour\":[{\"type\":\"contour\",\"colorbar\":{\"outlinewidth\":0,\"ticks\":\"\"},\"colorscale\":[[0.0,\"#0d0887\"],[0.1111111111111111,\"#46039f\"],[0.2222222222222222,\"#7201a8\"],[0.3333333333333333,\"#9c179e\"],[0.4444444444444444,\"#bd3786\"],[0.5555555555555556,\"#d8576b\"],[0.6666666666666666,\"#ed7953\"],[0.7777777777777778,\"#fb9f3a\"],[0.8888888888888888,\"#fdca26\"],[1.0,\"#f0f921\"]]}],\"surface\":[{\"type\":\"surface\",\"colorbar\":{\"outlinewidth\":0,\"ticks\":\"\"},\"colorscale\":[[0.0,\"#0d0887\"],[0.1111111111111111,\"#46039f\"],[0.2222222222222222,\"#7201a8\"],[0.3333333333333333,\"#9c179e\"],[0.4444444444444444,\"#bd3786\"],[0.5555555555555556,\"#d8576b\"],[0.6666666666666666,\"#ed7953\"],[0.7777777777777778,\"#fb9f3a\"],[0.8888888888888888,\"#fdca26\"],[1.0,\"#f0f921\"]]}],\"mesh3d\":[{\"type\":\"mesh3d\",\"colorbar\":{\"outlinewidth\":0,\"ticks\":\"\"}}],\"scatter\":[{\"fillpattern\":{\"fillmode\":\"overlay\",\"size\":10,\"solidity\":0.2},\"type\":\"scatter\"}],\"parcoords\":[{\"type\":\"parcoords\",\"line\":{\"colorbar\":{\"outlinewidth\":0,\"ticks\":\"\"}}}],\"scatterpolargl\":[{\"type\":\"scatterpolargl\",\"marker\":{\"colorbar\":{\"outlinewidth\":0,\"ticks\":\"\"}}}],\"bar\":[{\"error_x\":{\"color\":\"#2a3f5f\"},\"error_y\":{\"color\":\"#2a3f5f\"},\"marker\":{\"line\":{\"color\":\"#E5ECF6\",\"width\":0.5},\"pattern\":{\"fillmode\":\"overlay\",\"size\":10,\"solidity\":0.2}},\"type\":\"bar\"}],\"scattergeo\":[{\"type\":\"scattergeo\",\"marker\":{\"colorbar\":{\"outlinewidth\":0,\"ticks\":\"\"}}}],\"scatterpolar\":[{\"type\":\"scatterpolar\",\"marker\":{\"colorbar\":{\"outlinewidth\":0,\"ticks\":\"\"}}}],\"histogram\":[{\"marker\":{\"pattern\":{\"fillmode\":\"overlay\",\"size\":10,\"solidity\":0.2}},\"type\":\"histogram\"}],\"scattergl\":[{\"type\":\"scattergl\",\"marker\":{\"colorbar\":{\"outlinewidth\":0,\"ticks\":\"\"}}}],\"scatter3d\":[{\"type\":\"scatter3d\",\"line\":{\"colorbar\":{\"outlinewidth\":0,\"ticks\":\"\"}},\"marker\":{\"colorbar\":{\"outlinewidth\":0,\"ticks\":\"\"}}}],\"scattermapbox\":[{\"type\":\"scattermapbox\",\"marker\":{\"colorbar\":{\"outlinewidth\":0,\"ticks\":\"\"}}}],\"scatterternary\":[{\"type\":\"scatterternary\",\"marker\":{\"colorbar\":{\"outlinewidth\":0,\"ticks\":\"\"}}}],\"scattercarpet\":[{\"type\":\"scattercarpet\",\"marker\":{\"colorbar\":{\"outlinewidth\":0,\"ticks\":\"\"}}}],\"carpet\":[{\"aaxis\":{\"endlinecolor\":\"#2a3f5f\",\"gridcolor\":\"white\",\"linecolor\":\"white\",\"minorgridcolor\":\"white\",\"startlinecolor\":\"#2a3f5f\"},\"baxis\":{\"endlinecolor\":\"#2a3f5f\",\"gridcolor\":\"white\",\"linecolor\":\"white\",\"minorgridcolor\":\"white\",\"startlinecolor\":\"#2a3f5f\"},\"type\":\"carpet\"}],\"table\":[{\"cells\":{\"fill\":{\"color\":\"#EBF0F8\"},\"line\":{\"color\":\"white\"}},\"header\":{\"fill\":{\"color\":\"#C8D4E3\"},\"line\":{\"color\":\"white\"}},\"type\":\"table\"}],\"barpolar\":[{\"marker\":{\"line\":{\"color\":\"#E5ECF6\",\"width\":0.5},\"pattern\":{\"fillmode\":\"overlay\",\"size\":10,\"solidity\":0.2}},\"type\":\"barpolar\"}],\"pie\":[{\"automargin\":true,\"type\":\"pie\"}]},\"layout\":{\"autotypenumbers\":\"strict\",\"colorway\":[\"#636efa\",\"#EF553B\",\"#00cc96\",\"#ab63fa\",\"#FFA15A\",\"#19d3f3\",\"#FF6692\",\"#B6E880\",\"#FF97FF\",\"#FECB52\"],\"font\":{\"color\":\"#2a3f5f\"},\"hovermode\":\"closest\",\"hoverlabel\":{\"align\":\"left\"},\"paper_bgcolor\":\"white\",\"plot_bgcolor\":\"#E5ECF6\",\"polar\":{\"bgcolor\":\"#E5ECF6\",\"angularaxis\":{\"gridcolor\":\"white\",\"linecolor\":\"white\",\"ticks\":\"\"},\"radialaxis\":{\"gridcolor\":\"white\",\"linecolor\":\"white\",\"ticks\":\"\"}},\"ternary\":{\"bgcolor\":\"#E5ECF6\",\"aaxis\":{\"gridcolor\":\"white\",\"linecolor\":\"white\",\"ticks\":\"\"},\"baxis\":{\"gridcolor\":\"white\",\"linecolor\":\"white\",\"ticks\":\"\"},\"caxis\":{\"gridcolor\":\"white\",\"linecolor\":\"white\",\"ticks\":\"\"}},\"coloraxis\":{\"colorbar\":{\"outlinewidth\":0,\"ticks\":\"\"}},\"colorscale\":{\"sequential\":[[0.0,\"#0d0887\"],[0.1111111111111111,\"#46039f\"],[0.2222222222222222,\"#7201a8\"],[0.3333333333333333,\"#9c179e\"],[0.4444444444444444,\"#bd3786\"],[0.5555555555555556,\"#d8576b\"],[0.6666666666666666,\"#ed7953\"],[0.7777777777777778,\"#fb9f3a\"],[0.8888888888888888,\"#fdca26\"],[1.0,\"#f0f921\"]],\"sequentialminus\":[[0.0,\"#0d0887\"],[0.1111111111111111,\"#46039f\"],[0.2222222222222222,\"#7201a8\"],[0.3333333333333333,\"#9c179e\"],[0.4444444444444444,\"#bd3786\"],[0.5555555555555556,\"#d8576b\"],[0.6666666666666666,\"#ed7953\"],[0.7777777777777778,\"#fb9f3a\"],[0.8888888888888888,\"#fdca26\"],[1.0,\"#f0f921\"]],\"diverging\":[[0,\"#8e0152\"],[0.1,\"#c51b7d\"],[0.2,\"#de77ae\"],[0.3,\"#f1b6da\"],[0.4,\"#fde0ef\"],[0.5,\"#f7f7f7\"],[0.6,\"#e6f5d0\"],[0.7,\"#b8e186\"],[0.8,\"#7fbc41\"],[0.9,\"#4d9221\"],[1,\"#276419\"]]},\"xaxis\":{\"gridcolor\":\"white\",\"linecolor\":\"white\",\"ticks\":\"\",\"title\":{\"standoff\":15},\"zerolinecolor\":\"white\",\"automargin\":true,\"zerolinewidth\":2},\"yaxis\":{\"gridcolor\":\"white\",\"linecolor\":\"white\",\"ticks\":\"\",\"title\":{\"standoff\":15},\"zerolinecolor\":\"white\",\"automargin\":true,\"zerolinewidth\":2},\"scene\":{\"xaxis\":{\"backgroundcolor\":\"#E5ECF6\",\"gridcolor\":\"white\",\"linecolor\":\"white\",\"showbackground\":true,\"ticks\":\"\",\"zerolinecolor\":\"white\",\"gridwidth\":2},\"yaxis\":{\"backgroundcolor\":\"#E5ECF6\",\"gridcolor\":\"white\",\"linecolor\":\"white\",\"showbackground\":true,\"ticks\":\"\",\"zerolinecolor\":\"white\",\"gridwidth\":2},\"zaxis\":{\"backgroundcolor\":\"#E5ECF6\",\"gridcolor\":\"white\",\"linecolor\":\"white\",\"showbackground\":true,\"ticks\":\"\",\"zerolinecolor\":\"white\",\"gridwidth\":2}},\"shapedefaults\":{\"line\":{\"color\":\"#2a3f5f\"}},\"annotationdefaults\":{\"arrowcolor\":\"#2a3f5f\",\"arrowhead\":0,\"arrowwidth\":1},\"geo\":{\"bgcolor\":\"white\",\"landcolor\":\"#E5ECF6\",\"subunitcolor\":\"white\",\"showland\":true,\"showlakes\":true,\"lakecolor\":\"white\"},\"title\":{\"x\":0.05},\"mapbox\":{\"style\":\"light\"}}},\"xaxis\":{\"anchor\":\"y\",\"domain\":[0.0,1.0],\"title\":{\"text\":\"Numero_Mes\"}},\"yaxis\":{\"anchor\":\"x\",\"domain\":[0.0,1.0],\"title\":{\"text\":\"Venta\"}},\"legend\":{\"tracegroupgap\":0},\"title\":{\"text\":\"Tendencia de Ventas Mensuales\"}},                        {\"responsive\": true}                    ).then(function(){\n",
       "                            \n",
       "var gd = document.getElementById('cbc2aaf8-500c-44ab-bb7c-959f0b2967c0');\n",
       "var x = new MutationObserver(function (mutations, observer) {{\n",
       "        var display = window.getComputedStyle(gd).display;\n",
       "        if (!display || display === 'none') {{\n",
       "            console.log([gd, 'removed!']);\n",
       "            Plotly.purge(gd);\n",
       "            observer.disconnect();\n",
       "        }}\n",
       "}});\n",
       "\n",
       "// Listen for the removal of the full notebook cells\n",
       "var notebookContainer = gd.closest('#notebook-container');\n",
       "if (notebookContainer) {{\n",
       "    x.observe(notebookContainer, {childList: true});\n",
       "}}\n",
       "\n",
       "// Listen for the clearing of the current output cell\n",
       "var outputEl = gd.closest('.output');\n",
       "if (outputEl) {{\n",
       "    x.observe(outputEl, {childList: true});\n",
       "}}\n",
       "\n",
       "                        })                };                });            </script>        </div>"
      ]
     },
     "metadata": {},
     "output_type": "display_data"
    }
   ],
   "source": [
    "import plotly.express as px\n",
    "\n",
    "\n",
    "# Agrupar por mes y sumar las métricas\n",
    "monthly_summary = data_cp.groupby('Numero_Mes')[['Venta', 'Desecho', 'Faltante', 'Caducado', 'Total perdida']].sum().reset_index()\n",
    "\n",
    "# Tendencia de Ventas\n",
    "fig_venta = px.line(monthly_summary, x='Numero_Mes', y='Venta', title='Tendencia de Ventas Mensuales', markers=True)\n",
    "fig_venta.show()\n"
   ]
  },
  {
   "cell_type": "code",
   "execution_count": 20,
   "id": "31c05194",
   "metadata": {},
   "outputs": [
    {
     "data": {
      "application/vnd.plotly.v1+json": {
       "config": {
        "plotlyServerURL": "https://plot.ly"
       },
       "data": [
        {
         "hovertemplate": "Numero_Mes=%{x}<br>Total perdida=%{y}<extra></extra>",
         "legendgroup": "",
         "line": {
          "color": "#636efa",
          "dash": "solid"
         },
         "marker": {
          "symbol": "circle"
         },
         "mode": "lines+markers",
         "name": "",
         "orientation": "v",
         "showlegend": false,
         "type": "scatter",
         "x": [
          1,
          2,
          3,
          4,
          5,
          6,
          7,
          8,
          9,
          10,
          11,
          12
         ],
         "xaxis": "x",
         "y": [
          2989352,
          2975969,
          2985872,
          3012400,
          2985720,
          3013265,
          3041118,
          3003929,
          3029932,
          2905999,
          2985763,
          3020820
         ],
         "yaxis": "y"
        }
       ],
       "layout": {
        "legend": {
         "tracegroupgap": 0
        },
        "template": {
         "data": {
          "bar": [
           {
            "error_x": {
             "color": "#2a3f5f"
            },
            "error_y": {
             "color": "#2a3f5f"
            },
            "marker": {
             "line": {
              "color": "#E5ECF6",
              "width": 0.5
             },
             "pattern": {
              "fillmode": "overlay",
              "size": 10,
              "solidity": 0.2
             }
            },
            "type": "bar"
           }
          ],
          "barpolar": [
           {
            "marker": {
             "line": {
              "color": "#E5ECF6",
              "width": 0.5
             },
             "pattern": {
              "fillmode": "overlay",
              "size": 10,
              "solidity": 0.2
             }
            },
            "type": "barpolar"
           }
          ],
          "carpet": [
           {
            "aaxis": {
             "endlinecolor": "#2a3f5f",
             "gridcolor": "white",
             "linecolor": "white",
             "minorgridcolor": "white",
             "startlinecolor": "#2a3f5f"
            },
            "baxis": {
             "endlinecolor": "#2a3f5f",
             "gridcolor": "white",
             "linecolor": "white",
             "minorgridcolor": "white",
             "startlinecolor": "#2a3f5f"
            },
            "type": "carpet"
           }
          ],
          "choropleth": [
           {
            "colorbar": {
             "outlinewidth": 0,
             "ticks": ""
            },
            "type": "choropleth"
           }
          ],
          "contour": [
           {
            "colorbar": {
             "outlinewidth": 0,
             "ticks": ""
            },
            "colorscale": [
             [
              0,
              "#0d0887"
             ],
             [
              0.1111111111111111,
              "#46039f"
             ],
             [
              0.2222222222222222,
              "#7201a8"
             ],
             [
              0.3333333333333333,
              "#9c179e"
             ],
             [
              0.4444444444444444,
              "#bd3786"
             ],
             [
              0.5555555555555556,
              "#d8576b"
             ],
             [
              0.6666666666666666,
              "#ed7953"
             ],
             [
              0.7777777777777778,
              "#fb9f3a"
             ],
             [
              0.8888888888888888,
              "#fdca26"
             ],
             [
              1,
              "#f0f921"
             ]
            ],
            "type": "contour"
           }
          ],
          "contourcarpet": [
           {
            "colorbar": {
             "outlinewidth": 0,
             "ticks": ""
            },
            "type": "contourcarpet"
           }
          ],
          "heatmap": [
           {
            "colorbar": {
             "outlinewidth": 0,
             "ticks": ""
            },
            "colorscale": [
             [
              0,
              "#0d0887"
             ],
             [
              0.1111111111111111,
              "#46039f"
             ],
             [
              0.2222222222222222,
              "#7201a8"
             ],
             [
              0.3333333333333333,
              "#9c179e"
             ],
             [
              0.4444444444444444,
              "#bd3786"
             ],
             [
              0.5555555555555556,
              "#d8576b"
             ],
             [
              0.6666666666666666,
              "#ed7953"
             ],
             [
              0.7777777777777778,
              "#fb9f3a"
             ],
             [
              0.8888888888888888,
              "#fdca26"
             ],
             [
              1,
              "#f0f921"
             ]
            ],
            "type": "heatmap"
           }
          ],
          "heatmapgl": [
           {
            "colorbar": {
             "outlinewidth": 0,
             "ticks": ""
            },
            "colorscale": [
             [
              0,
              "#0d0887"
             ],
             [
              0.1111111111111111,
              "#46039f"
             ],
             [
              0.2222222222222222,
              "#7201a8"
             ],
             [
              0.3333333333333333,
              "#9c179e"
             ],
             [
              0.4444444444444444,
              "#bd3786"
             ],
             [
              0.5555555555555556,
              "#d8576b"
             ],
             [
              0.6666666666666666,
              "#ed7953"
             ],
             [
              0.7777777777777778,
              "#fb9f3a"
             ],
             [
              0.8888888888888888,
              "#fdca26"
             ],
             [
              1,
              "#f0f921"
             ]
            ],
            "type": "heatmapgl"
           }
          ],
          "histogram": [
           {
            "marker": {
             "pattern": {
              "fillmode": "overlay",
              "size": 10,
              "solidity": 0.2
             }
            },
            "type": "histogram"
           }
          ],
          "histogram2d": [
           {
            "colorbar": {
             "outlinewidth": 0,
             "ticks": ""
            },
            "colorscale": [
             [
              0,
              "#0d0887"
             ],
             [
              0.1111111111111111,
              "#46039f"
             ],
             [
              0.2222222222222222,
              "#7201a8"
             ],
             [
              0.3333333333333333,
              "#9c179e"
             ],
             [
              0.4444444444444444,
              "#bd3786"
             ],
             [
              0.5555555555555556,
              "#d8576b"
             ],
             [
              0.6666666666666666,
              "#ed7953"
             ],
             [
              0.7777777777777778,
              "#fb9f3a"
             ],
             [
              0.8888888888888888,
              "#fdca26"
             ],
             [
              1,
              "#f0f921"
             ]
            ],
            "type": "histogram2d"
           }
          ],
          "histogram2dcontour": [
           {
            "colorbar": {
             "outlinewidth": 0,
             "ticks": ""
            },
            "colorscale": [
             [
              0,
              "#0d0887"
             ],
             [
              0.1111111111111111,
              "#46039f"
             ],
             [
              0.2222222222222222,
              "#7201a8"
             ],
             [
              0.3333333333333333,
              "#9c179e"
             ],
             [
              0.4444444444444444,
              "#bd3786"
             ],
             [
              0.5555555555555556,
              "#d8576b"
             ],
             [
              0.6666666666666666,
              "#ed7953"
             ],
             [
              0.7777777777777778,
              "#fb9f3a"
             ],
             [
              0.8888888888888888,
              "#fdca26"
             ],
             [
              1,
              "#f0f921"
             ]
            ],
            "type": "histogram2dcontour"
           }
          ],
          "mesh3d": [
           {
            "colorbar": {
             "outlinewidth": 0,
             "ticks": ""
            },
            "type": "mesh3d"
           }
          ],
          "parcoords": [
           {
            "line": {
             "colorbar": {
              "outlinewidth": 0,
              "ticks": ""
             }
            },
            "type": "parcoords"
           }
          ],
          "pie": [
           {
            "automargin": true,
            "type": "pie"
           }
          ],
          "scatter": [
           {
            "fillpattern": {
             "fillmode": "overlay",
             "size": 10,
             "solidity": 0.2
            },
            "type": "scatter"
           }
          ],
          "scatter3d": [
           {
            "line": {
             "colorbar": {
              "outlinewidth": 0,
              "ticks": ""
             }
            },
            "marker": {
             "colorbar": {
              "outlinewidth": 0,
              "ticks": ""
             }
            },
            "type": "scatter3d"
           }
          ],
          "scattercarpet": [
           {
            "marker": {
             "colorbar": {
              "outlinewidth": 0,
              "ticks": ""
             }
            },
            "type": "scattercarpet"
           }
          ],
          "scattergeo": [
           {
            "marker": {
             "colorbar": {
              "outlinewidth": 0,
              "ticks": ""
             }
            },
            "type": "scattergeo"
           }
          ],
          "scattergl": [
           {
            "marker": {
             "colorbar": {
              "outlinewidth": 0,
              "ticks": ""
             }
            },
            "type": "scattergl"
           }
          ],
          "scattermapbox": [
           {
            "marker": {
             "colorbar": {
              "outlinewidth": 0,
              "ticks": ""
             }
            },
            "type": "scattermapbox"
           }
          ],
          "scatterpolar": [
           {
            "marker": {
             "colorbar": {
              "outlinewidth": 0,
              "ticks": ""
             }
            },
            "type": "scatterpolar"
           }
          ],
          "scatterpolargl": [
           {
            "marker": {
             "colorbar": {
              "outlinewidth": 0,
              "ticks": ""
             }
            },
            "type": "scatterpolargl"
           }
          ],
          "scatterternary": [
           {
            "marker": {
             "colorbar": {
              "outlinewidth": 0,
              "ticks": ""
             }
            },
            "type": "scatterternary"
           }
          ],
          "surface": [
           {
            "colorbar": {
             "outlinewidth": 0,
             "ticks": ""
            },
            "colorscale": [
             [
              0,
              "#0d0887"
             ],
             [
              0.1111111111111111,
              "#46039f"
             ],
             [
              0.2222222222222222,
              "#7201a8"
             ],
             [
              0.3333333333333333,
              "#9c179e"
             ],
             [
              0.4444444444444444,
              "#bd3786"
             ],
             [
              0.5555555555555556,
              "#d8576b"
             ],
             [
              0.6666666666666666,
              "#ed7953"
             ],
             [
              0.7777777777777778,
              "#fb9f3a"
             ],
             [
              0.8888888888888888,
              "#fdca26"
             ],
             [
              1,
              "#f0f921"
             ]
            ],
            "type": "surface"
           }
          ],
          "table": [
           {
            "cells": {
             "fill": {
              "color": "#EBF0F8"
             },
             "line": {
              "color": "white"
             }
            },
            "header": {
             "fill": {
              "color": "#C8D4E3"
             },
             "line": {
              "color": "white"
             }
            },
            "type": "table"
           }
          ]
         },
         "layout": {
          "annotationdefaults": {
           "arrowcolor": "#2a3f5f",
           "arrowhead": 0,
           "arrowwidth": 1
          },
          "autotypenumbers": "strict",
          "coloraxis": {
           "colorbar": {
            "outlinewidth": 0,
            "ticks": ""
           }
          },
          "colorscale": {
           "diverging": [
            [
             0,
             "#8e0152"
            ],
            [
             0.1,
             "#c51b7d"
            ],
            [
             0.2,
             "#de77ae"
            ],
            [
             0.3,
             "#f1b6da"
            ],
            [
             0.4,
             "#fde0ef"
            ],
            [
             0.5,
             "#f7f7f7"
            ],
            [
             0.6,
             "#e6f5d0"
            ],
            [
             0.7,
             "#b8e186"
            ],
            [
             0.8,
             "#7fbc41"
            ],
            [
             0.9,
             "#4d9221"
            ],
            [
             1,
             "#276419"
            ]
           ],
           "sequential": [
            [
             0,
             "#0d0887"
            ],
            [
             0.1111111111111111,
             "#46039f"
            ],
            [
             0.2222222222222222,
             "#7201a8"
            ],
            [
             0.3333333333333333,
             "#9c179e"
            ],
            [
             0.4444444444444444,
             "#bd3786"
            ],
            [
             0.5555555555555556,
             "#d8576b"
            ],
            [
             0.6666666666666666,
             "#ed7953"
            ],
            [
             0.7777777777777778,
             "#fb9f3a"
            ],
            [
             0.8888888888888888,
             "#fdca26"
            ],
            [
             1,
             "#f0f921"
            ]
           ],
           "sequentialminus": [
            [
             0,
             "#0d0887"
            ],
            [
             0.1111111111111111,
             "#46039f"
            ],
            [
             0.2222222222222222,
             "#7201a8"
            ],
            [
             0.3333333333333333,
             "#9c179e"
            ],
            [
             0.4444444444444444,
             "#bd3786"
            ],
            [
             0.5555555555555556,
             "#d8576b"
            ],
            [
             0.6666666666666666,
             "#ed7953"
            ],
            [
             0.7777777777777778,
             "#fb9f3a"
            ],
            [
             0.8888888888888888,
             "#fdca26"
            ],
            [
             1,
             "#f0f921"
            ]
           ]
          },
          "colorway": [
           "#636efa",
           "#EF553B",
           "#00cc96",
           "#ab63fa",
           "#FFA15A",
           "#19d3f3",
           "#FF6692",
           "#B6E880",
           "#FF97FF",
           "#FECB52"
          ],
          "font": {
           "color": "#2a3f5f"
          },
          "geo": {
           "bgcolor": "white",
           "lakecolor": "white",
           "landcolor": "#E5ECF6",
           "showlakes": true,
           "showland": true,
           "subunitcolor": "white"
          },
          "hoverlabel": {
           "align": "left"
          },
          "hovermode": "closest",
          "mapbox": {
           "style": "light"
          },
          "paper_bgcolor": "white",
          "plot_bgcolor": "#E5ECF6",
          "polar": {
           "angularaxis": {
            "gridcolor": "white",
            "linecolor": "white",
            "ticks": ""
           },
           "bgcolor": "#E5ECF6",
           "radialaxis": {
            "gridcolor": "white",
            "linecolor": "white",
            "ticks": ""
           }
          },
          "scene": {
           "xaxis": {
            "backgroundcolor": "#E5ECF6",
            "gridcolor": "white",
            "gridwidth": 2,
            "linecolor": "white",
            "showbackground": true,
            "ticks": "",
            "zerolinecolor": "white"
           },
           "yaxis": {
            "backgroundcolor": "#E5ECF6",
            "gridcolor": "white",
            "gridwidth": 2,
            "linecolor": "white",
            "showbackground": true,
            "ticks": "",
            "zerolinecolor": "white"
           },
           "zaxis": {
            "backgroundcolor": "#E5ECF6",
            "gridcolor": "white",
            "gridwidth": 2,
            "linecolor": "white",
            "showbackground": true,
            "ticks": "",
            "zerolinecolor": "white"
           }
          },
          "shapedefaults": {
           "line": {
            "color": "#2a3f5f"
           }
          },
          "ternary": {
           "aaxis": {
            "gridcolor": "white",
            "linecolor": "white",
            "ticks": ""
           },
           "baxis": {
            "gridcolor": "white",
            "linecolor": "white",
            "ticks": ""
           },
           "bgcolor": "#E5ECF6",
           "caxis": {
            "gridcolor": "white",
            "linecolor": "white",
            "ticks": ""
           }
          },
          "title": {
           "x": 0.05
          },
          "xaxis": {
           "automargin": true,
           "gridcolor": "white",
           "linecolor": "white",
           "ticks": "",
           "title": {
            "standoff": 15
           },
           "zerolinecolor": "white",
           "zerolinewidth": 2
          },
          "yaxis": {
           "automargin": true,
           "gridcolor": "white",
           "linecolor": "white",
           "ticks": "",
           "title": {
            "standoff": 15
           },
           "zerolinecolor": "white",
           "zerolinewidth": 2
          }
         }
        },
        "title": {
         "text": "Tendencia de Pérdida Total Mensual"
        },
        "xaxis": {
         "anchor": "y",
         "domain": [
          0,
          1
         ],
         "title": {
          "text": "Numero_Mes"
         }
        },
        "yaxis": {
         "anchor": "x",
         "domain": [
          0,
          1
         ],
         "title": {
          "text": "Total perdida"
         }
        }
       }
      },
      "text/html": [
       "<div>                            <div id=\"378c8322-33d8-4bb8-8255-fcddecfd5fcb\" class=\"plotly-graph-div\" style=\"height:525px; width:100%;\"></div>            <script type=\"text/javascript\">                require([\"plotly\"], function(Plotly) {                    window.PLOTLYENV=window.PLOTLYENV || {};                                    if (document.getElementById(\"378c8322-33d8-4bb8-8255-fcddecfd5fcb\")) {                    Plotly.newPlot(                        \"378c8322-33d8-4bb8-8255-fcddecfd5fcb\",                        [{\"hovertemplate\":\"Numero_Mes=%{x}<br>Total perdida=%{y}<extra></extra>\",\"legendgroup\":\"\",\"line\":{\"color\":\"#636efa\",\"dash\":\"solid\"},\"marker\":{\"symbol\":\"circle\"},\"mode\":\"lines+markers\",\"name\":\"\",\"orientation\":\"v\",\"showlegend\":false,\"x\":[1,2,3,4,5,6,7,8,9,10,11,12],\"xaxis\":\"x\",\"y\":[2989352,2975969,2985872,3012400,2985720,3013265,3041118,3003929,3029932,2905999,2985763,3020820],\"yaxis\":\"y\",\"type\":\"scatter\"}],                        {\"template\":{\"data\":{\"histogram2dcontour\":[{\"type\":\"histogram2dcontour\",\"colorbar\":{\"outlinewidth\":0,\"ticks\":\"\"},\"colorscale\":[[0.0,\"#0d0887\"],[0.1111111111111111,\"#46039f\"],[0.2222222222222222,\"#7201a8\"],[0.3333333333333333,\"#9c179e\"],[0.4444444444444444,\"#bd3786\"],[0.5555555555555556,\"#d8576b\"],[0.6666666666666666,\"#ed7953\"],[0.7777777777777778,\"#fb9f3a\"],[0.8888888888888888,\"#fdca26\"],[1.0,\"#f0f921\"]]}],\"choropleth\":[{\"type\":\"choropleth\",\"colorbar\":{\"outlinewidth\":0,\"ticks\":\"\"}}],\"histogram2d\":[{\"type\":\"histogram2d\",\"colorbar\":{\"outlinewidth\":0,\"ticks\":\"\"},\"colorscale\":[[0.0,\"#0d0887\"],[0.1111111111111111,\"#46039f\"],[0.2222222222222222,\"#7201a8\"],[0.3333333333333333,\"#9c179e\"],[0.4444444444444444,\"#bd3786\"],[0.5555555555555556,\"#d8576b\"],[0.6666666666666666,\"#ed7953\"],[0.7777777777777778,\"#fb9f3a\"],[0.8888888888888888,\"#fdca26\"],[1.0,\"#f0f921\"]]}],\"heatmap\":[{\"type\":\"heatmap\",\"colorbar\":{\"outlinewidth\":0,\"ticks\":\"\"},\"colorscale\":[[0.0,\"#0d0887\"],[0.1111111111111111,\"#46039f\"],[0.2222222222222222,\"#7201a8\"],[0.3333333333333333,\"#9c179e\"],[0.4444444444444444,\"#bd3786\"],[0.5555555555555556,\"#d8576b\"],[0.6666666666666666,\"#ed7953\"],[0.7777777777777778,\"#fb9f3a\"],[0.8888888888888888,\"#fdca26\"],[1.0,\"#f0f921\"]]}],\"heatmapgl\":[{\"type\":\"heatmapgl\",\"colorbar\":{\"outlinewidth\":0,\"ticks\":\"\"},\"colorscale\":[[0.0,\"#0d0887\"],[0.1111111111111111,\"#46039f\"],[0.2222222222222222,\"#7201a8\"],[0.3333333333333333,\"#9c179e\"],[0.4444444444444444,\"#bd3786\"],[0.5555555555555556,\"#d8576b\"],[0.6666666666666666,\"#ed7953\"],[0.7777777777777778,\"#fb9f3a\"],[0.8888888888888888,\"#fdca26\"],[1.0,\"#f0f921\"]]}],\"contourcarpet\":[{\"type\":\"contourcarpet\",\"colorbar\":{\"outlinewidth\":0,\"ticks\":\"\"}}],\"contour\":[{\"type\":\"contour\",\"colorbar\":{\"outlinewidth\":0,\"ticks\":\"\"},\"colorscale\":[[0.0,\"#0d0887\"],[0.1111111111111111,\"#46039f\"],[0.2222222222222222,\"#7201a8\"],[0.3333333333333333,\"#9c179e\"],[0.4444444444444444,\"#bd3786\"],[0.5555555555555556,\"#d8576b\"],[0.6666666666666666,\"#ed7953\"],[0.7777777777777778,\"#fb9f3a\"],[0.8888888888888888,\"#fdca26\"],[1.0,\"#f0f921\"]]}],\"surface\":[{\"type\":\"surface\",\"colorbar\":{\"outlinewidth\":0,\"ticks\":\"\"},\"colorscale\":[[0.0,\"#0d0887\"],[0.1111111111111111,\"#46039f\"],[0.2222222222222222,\"#7201a8\"],[0.3333333333333333,\"#9c179e\"],[0.4444444444444444,\"#bd3786\"],[0.5555555555555556,\"#d8576b\"],[0.6666666666666666,\"#ed7953\"],[0.7777777777777778,\"#fb9f3a\"],[0.8888888888888888,\"#fdca26\"],[1.0,\"#f0f921\"]]}],\"mesh3d\":[{\"type\":\"mesh3d\",\"colorbar\":{\"outlinewidth\":0,\"ticks\":\"\"}}],\"scatter\":[{\"fillpattern\":{\"fillmode\":\"overlay\",\"size\":10,\"solidity\":0.2},\"type\":\"scatter\"}],\"parcoords\":[{\"type\":\"parcoords\",\"line\":{\"colorbar\":{\"outlinewidth\":0,\"ticks\":\"\"}}}],\"scatterpolargl\":[{\"type\":\"scatterpolargl\",\"marker\":{\"colorbar\":{\"outlinewidth\":0,\"ticks\":\"\"}}}],\"bar\":[{\"error_x\":{\"color\":\"#2a3f5f\"},\"error_y\":{\"color\":\"#2a3f5f\"},\"marker\":{\"line\":{\"color\":\"#E5ECF6\",\"width\":0.5},\"pattern\":{\"fillmode\":\"overlay\",\"size\":10,\"solidity\":0.2}},\"type\":\"bar\"}],\"scattergeo\":[{\"type\":\"scattergeo\",\"marker\":{\"colorbar\":{\"outlinewidth\":0,\"ticks\":\"\"}}}],\"scatterpolar\":[{\"type\":\"scatterpolar\",\"marker\":{\"colorbar\":{\"outlinewidth\":0,\"ticks\":\"\"}}}],\"histogram\":[{\"marker\":{\"pattern\":{\"fillmode\":\"overlay\",\"size\":10,\"solidity\":0.2}},\"type\":\"histogram\"}],\"scattergl\":[{\"type\":\"scattergl\",\"marker\":{\"colorbar\":{\"outlinewidth\":0,\"ticks\":\"\"}}}],\"scatter3d\":[{\"type\":\"scatter3d\",\"line\":{\"colorbar\":{\"outlinewidth\":0,\"ticks\":\"\"}},\"marker\":{\"colorbar\":{\"outlinewidth\":0,\"ticks\":\"\"}}}],\"scattermapbox\":[{\"type\":\"scattermapbox\",\"marker\":{\"colorbar\":{\"outlinewidth\":0,\"ticks\":\"\"}}}],\"scatterternary\":[{\"type\":\"scatterternary\",\"marker\":{\"colorbar\":{\"outlinewidth\":0,\"ticks\":\"\"}}}],\"scattercarpet\":[{\"type\":\"scattercarpet\",\"marker\":{\"colorbar\":{\"outlinewidth\":0,\"ticks\":\"\"}}}],\"carpet\":[{\"aaxis\":{\"endlinecolor\":\"#2a3f5f\",\"gridcolor\":\"white\",\"linecolor\":\"white\",\"minorgridcolor\":\"white\",\"startlinecolor\":\"#2a3f5f\"},\"baxis\":{\"endlinecolor\":\"#2a3f5f\",\"gridcolor\":\"white\",\"linecolor\":\"white\",\"minorgridcolor\":\"white\",\"startlinecolor\":\"#2a3f5f\"},\"type\":\"carpet\"}],\"table\":[{\"cells\":{\"fill\":{\"color\":\"#EBF0F8\"},\"line\":{\"color\":\"white\"}},\"header\":{\"fill\":{\"color\":\"#C8D4E3\"},\"line\":{\"color\":\"white\"}},\"type\":\"table\"}],\"barpolar\":[{\"marker\":{\"line\":{\"color\":\"#E5ECF6\",\"width\":0.5},\"pattern\":{\"fillmode\":\"overlay\",\"size\":10,\"solidity\":0.2}},\"type\":\"barpolar\"}],\"pie\":[{\"automargin\":true,\"type\":\"pie\"}]},\"layout\":{\"autotypenumbers\":\"strict\",\"colorway\":[\"#636efa\",\"#EF553B\",\"#00cc96\",\"#ab63fa\",\"#FFA15A\",\"#19d3f3\",\"#FF6692\",\"#B6E880\",\"#FF97FF\",\"#FECB52\"],\"font\":{\"color\":\"#2a3f5f\"},\"hovermode\":\"closest\",\"hoverlabel\":{\"align\":\"left\"},\"paper_bgcolor\":\"white\",\"plot_bgcolor\":\"#E5ECF6\",\"polar\":{\"bgcolor\":\"#E5ECF6\",\"angularaxis\":{\"gridcolor\":\"white\",\"linecolor\":\"white\",\"ticks\":\"\"},\"radialaxis\":{\"gridcolor\":\"white\",\"linecolor\":\"white\",\"ticks\":\"\"}},\"ternary\":{\"bgcolor\":\"#E5ECF6\",\"aaxis\":{\"gridcolor\":\"white\",\"linecolor\":\"white\",\"ticks\":\"\"},\"baxis\":{\"gridcolor\":\"white\",\"linecolor\":\"white\",\"ticks\":\"\"},\"caxis\":{\"gridcolor\":\"white\",\"linecolor\":\"white\",\"ticks\":\"\"}},\"coloraxis\":{\"colorbar\":{\"outlinewidth\":0,\"ticks\":\"\"}},\"colorscale\":{\"sequential\":[[0.0,\"#0d0887\"],[0.1111111111111111,\"#46039f\"],[0.2222222222222222,\"#7201a8\"],[0.3333333333333333,\"#9c179e\"],[0.4444444444444444,\"#bd3786\"],[0.5555555555555556,\"#d8576b\"],[0.6666666666666666,\"#ed7953\"],[0.7777777777777778,\"#fb9f3a\"],[0.8888888888888888,\"#fdca26\"],[1.0,\"#f0f921\"]],\"sequentialminus\":[[0.0,\"#0d0887\"],[0.1111111111111111,\"#46039f\"],[0.2222222222222222,\"#7201a8\"],[0.3333333333333333,\"#9c179e\"],[0.4444444444444444,\"#bd3786\"],[0.5555555555555556,\"#d8576b\"],[0.6666666666666666,\"#ed7953\"],[0.7777777777777778,\"#fb9f3a\"],[0.8888888888888888,\"#fdca26\"],[1.0,\"#f0f921\"]],\"diverging\":[[0,\"#8e0152\"],[0.1,\"#c51b7d\"],[0.2,\"#de77ae\"],[0.3,\"#f1b6da\"],[0.4,\"#fde0ef\"],[0.5,\"#f7f7f7\"],[0.6,\"#e6f5d0\"],[0.7,\"#b8e186\"],[0.8,\"#7fbc41\"],[0.9,\"#4d9221\"],[1,\"#276419\"]]},\"xaxis\":{\"gridcolor\":\"white\",\"linecolor\":\"white\",\"ticks\":\"\",\"title\":{\"standoff\":15},\"zerolinecolor\":\"white\",\"automargin\":true,\"zerolinewidth\":2},\"yaxis\":{\"gridcolor\":\"white\",\"linecolor\":\"white\",\"ticks\":\"\",\"title\":{\"standoff\":15},\"zerolinecolor\":\"white\",\"automargin\":true,\"zerolinewidth\":2},\"scene\":{\"xaxis\":{\"backgroundcolor\":\"#E5ECF6\",\"gridcolor\":\"white\",\"linecolor\":\"white\",\"showbackground\":true,\"ticks\":\"\",\"zerolinecolor\":\"white\",\"gridwidth\":2},\"yaxis\":{\"backgroundcolor\":\"#E5ECF6\",\"gridcolor\":\"white\",\"linecolor\":\"white\",\"showbackground\":true,\"ticks\":\"\",\"zerolinecolor\":\"white\",\"gridwidth\":2},\"zaxis\":{\"backgroundcolor\":\"#E5ECF6\",\"gridcolor\":\"white\",\"linecolor\":\"white\",\"showbackground\":true,\"ticks\":\"\",\"zerolinecolor\":\"white\",\"gridwidth\":2}},\"shapedefaults\":{\"line\":{\"color\":\"#2a3f5f\"}},\"annotationdefaults\":{\"arrowcolor\":\"#2a3f5f\",\"arrowhead\":0,\"arrowwidth\":1},\"geo\":{\"bgcolor\":\"white\",\"landcolor\":\"#E5ECF6\",\"subunitcolor\":\"white\",\"showland\":true,\"showlakes\":true,\"lakecolor\":\"white\"},\"title\":{\"x\":0.05},\"mapbox\":{\"style\":\"light\"}}},\"xaxis\":{\"anchor\":\"y\",\"domain\":[0.0,1.0],\"title\":{\"text\":\"Numero_Mes\"}},\"yaxis\":{\"anchor\":\"x\",\"domain\":[0.0,1.0],\"title\":{\"text\":\"Total perdida\"}},\"legend\":{\"tracegroupgap\":0},\"title\":{\"text\":\"Tendencia de P\\u00e9rdida Total Mensual\"}},                        {\"responsive\": true}                    ).then(function(){\n",
       "                            \n",
       "var gd = document.getElementById('378c8322-33d8-4bb8-8255-fcddecfd5fcb');\n",
       "var x = new MutationObserver(function (mutations, observer) {{\n",
       "        var display = window.getComputedStyle(gd).display;\n",
       "        if (!display || display === 'none') {{\n",
       "            console.log([gd, 'removed!']);\n",
       "            Plotly.purge(gd);\n",
       "            observer.disconnect();\n",
       "        }}\n",
       "}});\n",
       "\n",
       "// Listen for the removal of the full notebook cells\n",
       "var notebookContainer = gd.closest('#notebook-container');\n",
       "if (notebookContainer) {{\n",
       "    x.observe(notebookContainer, {childList: true});\n",
       "}}\n",
       "\n",
       "// Listen for the clearing of the current output cell\n",
       "var outputEl = gd.closest('.output');\n",
       "if (outputEl) {{\n",
       "    x.observe(outputEl, {childList: true});\n",
       "}}\n",
       "\n",
       "                        })                };                });            </script>        </div>"
      ]
     },
     "metadata": {},
     "output_type": "display_data"
    }
   ],
   "source": [
    "# Tendencia de Total Pérdida\n",
    "fig_perdida = px.line(monthly_summary, x='Numero_Mes', y='Total perdida', title='Tendencia de Pérdida Total Mensual', markers=True)\n",
    "fig_perdida.show()"
   ]
  },
  {
   "cell_type": "markdown",
   "id": "422fc183",
   "metadata": {},
   "source": [
    "#### Análisis comparativo"
   ]
  },
  {
   "cell_type": "code",
   "execution_count": 22,
   "id": "4d8eb6f6",
   "metadata": {},
   "outputs": [
    {
     "name": "stdout",
     "output_type": "stream",
     "text": [
      "Comparación de Desempeño por formato (Venta y % Pérdida)\n",
      "         Venta_Promedio  Total_Perdida_Promedio  Porcentaje_Perdida_Promedio\n",
      "Formato                                                                     \n",
      "AB           209532.222               11948.869                     8.514907\n",
      "AEB          209501.706               11951.381                     8.461749\n",
      "MV           209090.949               12049.889                     8.553716\n"
     ]
    }
   ],
   "source": [
    "print(\"Comparación de Desempeño por formato (Venta y % Pérdida)\")\n",
    "\n",
    "formato_metrics = data_cp.groupby('Formato').agg(\n",
    "    Venta_Promedio=('Venta', 'mean'),\n",
    "    Total_Perdida_Promedio=('Total perdida', 'mean'),\n",
    "    Porcentaje_Perdida_Promedio=('% Total Perdida', 'mean')\n",
    ").sort_values(by='Venta_Promedio', ascending=False)\n",
    "print(formato_metrics)\n"
   ]
  },
  {
   "cell_type": "code",
   "execution_count": 25,
   "id": "18183ca7",
   "metadata": {},
   "outputs": [
    {
     "name": "stdout",
     "output_type": "stream",
     "text": [
      "Comparación de venta promedio por formato\n"
     ]
    },
    {
     "data": {
      "text/plain": [
       "Text(0, 0.5, 'Venta Promedio')"
      ]
     },
     "execution_count": 25,
     "metadata": {},
     "output_type": "execute_result"
    },
    {
     "data": {
      "image/png": "[encoded data removed]",
      "text/plain": [
       "<Figure size 1400x600 with 1 Axes>"
      ]
     },
     "metadata": {},
     "output_type": "display_data"
    }
   ],
   "source": [
    "print(\"Comparación de venta promedio por formato\")\n",
    "\n",
    "plt.figure(figsize=(14, 6))\n",
    "plt.subplot(1, 2, 1)\n",
    "sns.barplot(x=formato_metrics.index, y=formato_metrics['Venta_Promedio'], palette='viridis')\n",
    "plt.title('Venta Promedio por Formato')\n",
    "plt.ylabel('Venta Promedio')"
   ]
  },
  {
   "cell_type": "code",
   "execution_count": null,
   "id": "18714b6f",
   "metadata": {},
   "outputs": [],
   "source": []
  },
  {
   "cell_type": "code",
   "execution_count": 24,
   "id": "7348c544",
   "metadata": {},
   "outputs": [
    {
     "name": "stdout",
     "output_type": "stream",
     "text": [
      "Comparación de Pérdidas por Área\n",
      "                  Desecho  Faltante  Caducado  Total perdida\n",
      "Area                                                        \n",
      "Frutas            1770689   1731113   1724366        5226168\n",
      "Vegetales         1736841   1704158   1736820        5177819\n",
      "Fuente de sodas   1716114   1749910   1709976        5176000\n",
      "Pan               1730678   1732143   1689594        5152415\n",
      "Reposteria        1725096   1720521   1680273        5125890\n",
      "Carnico           1700910   1705366   1679441        5085717\n",
      "Pollo             1663080   1664915   1678135        5006130\n"
     ]
    }
   ],
   "source": [
    "print(\"Comparación de Pérdidas por Área\")\n",
    "area_losses = data_cp.groupby('Area')[['Desecho', 'Faltante', 'Caducado', 'Total perdida']].sum()\n",
    "print(area_losses.sort_values(by='Total perdida', ascending=False))"
   ]
  },
  {
   "cell_type": "code",
   "execution_count": 27,
   "id": "0873c3a8",
   "metadata": {},
   "outputs": [
    {
     "data": {
      "image/png": "[encoded data removed]",
      "text/plain": [
       "<Figure size 1000x600 with 1 Axes>"
      ]
     },
     "metadata": {},
     "output_type": "display_data"
    }
   ],
   "source": [
    "area_losses.plot(kind='bar', figsize=(10, 6), title='Pérdidas Totales por Área (Desecho, Faltante, Caducado)', rot=45)\n",
    "plt.ylabel('Monto Total')\n",
    "plt.show()"
   ]
  },
  {
   "cell_type": "markdown",
   "id": "14465c79",
   "metadata": {},
   "source": [
    "## Etapa 1"
   ]
  },
  {
   "cell_type": "markdown",
   "id": "9ce6c053",
   "metadata": {},
   "source": [
    "### ¿Cuántos formatos componen la compañía?"
   ]
  },
  {
   "cell_type": "code",
   "execution_count": 28,
   "id": "335175f4",
   "metadata": {},
   "outputs": [
    {
     "name": "stdout",
     "output_type": "stream",
     "text": [
      "¿Cuántos formatos componen la compañía? ['AB' 'AEB' 'MV']\n"
     ]
    }
   ],
   "source": [
    "\n",
    "formatos_total =data_cp[\"Formato\"].unique() #R:3\n",
    "\n",
    "print(f\"¿Cuántos formatos componen la compañía? {formatos_total}\")"
   ]
  },
  {
   "cell_type": "markdown",
   "id": "e4556236",
   "metadata": {},
   "source": [
    "### ¿Cuál es el total de tiendas y cuántas tiendas componen cada formato?"
   ]
  },
  {
   "cell_type": "code",
   "execution_count": 29,
   "id": "25a31590",
   "metadata": {},
   "outputs": [
    {
     "name": "stdout",
     "output_type": "stream",
     "text": [
      "¿Cuál es el total de tiendas y cuántas tiendas componen cada formato? 3000\n",
      "\n"
     ]
    },
    {
     "data": {
      "text/plain": [
       "Formato\n",
       "AB     1000\n",
       "AEB    1000\n",
       "MV     1000\n",
       "Name: Tienda, dtype: int64"
      ]
     },
     "execution_count": 29,
     "metadata": {},
     "output_type": "execute_result"
    }
   ],
   "source": [
    "num_tiendas_unicas = len(data_cp[\"Tienda\"].unique()) #3,000 únicas\n",
    "\n",
    "print(f\"¿Cuál es el total de tiendas y cuántas tiendas componen cada formato? {num_tiendas_unicas}\")\n",
    "print()\n",
    "data_cp.groupby(\"Formato\")[\"Tienda\"].count()#cada formato tiene 1000 tiendas"
   ]
  },
  {
   "cell_type": "markdown",
   "id": "e2f5b8ac",
   "metadata": {},
   "source": [
    "### ¿Cuáles estados conforman el top 5 de ventas?"
   ]
  },
  {
   "cell_type": "code",
   "execution_count": 32,
   "id": "9d3fd084",
   "metadata": {},
   "outputs": [
    {
     "name": "stdout",
     "output_type": "stream",
     "text": [
      "¿Cuáles estados conforman el top 5 de ventas?\n"
     ]
    },
    {
     "data": {
      "text/plain": [
       "Estado\n",
       "Oaxaca                  25974409\n",
       "Tlaxcala                24707088\n",
       "Estado de MÃ©xico       24679123\n",
       "MichoacÃ¡n de Ocampo    23262806\n",
       "Colima                  22648421\n",
       "Name: Venta, dtype: int64"
      ]
     },
     "execution_count": 32,
     "metadata": {},
     "output_type": "execute_result"
    }
   ],
   "source": [
    "#data_cp[\"Venta\"].sum() total ventas: 628,124,877\n",
    "len(data_cp[\"Estado\"].unique()) #núm de estados: 32\n",
    "\n",
    "#data_cp.groupby(\"Estado\")[\"Venta\"].sum() #.sort_values(ascending=False).head(5)\n",
    "\n",
    "print(\"¿Cuáles estados conforman el top 5 de ventas?\")\n",
    "data_cp.groupby(\"Estado\")[\"Venta\"].sum().sort_values(ascending=False).head(5)"
   ]
  },
  {
   "cell_type": "markdown",
   "id": "63154108",
   "metadata": {},
   "source": [
    "### Determina las ventas y costos totales por área."
   ]
  },
  {
   "cell_type": "code",
   "execution_count": 33,
   "id": "c1217458",
   "metadata": {},
   "outputs": [
    {
     "name": "stdout",
     "output_type": "stream",
     "text": [
      "Determina las ventas y costos totales por área: \n"
     ]
    },
    {
     "data": {
      "text/html": [
       "<div>\n",
       "<style scoped>\n",
       "    .dataframe tbody tr th:only-of-type {\n",
       "        vertical-align: middle;\n",
       "    }\n",
       "\n",
       "    .dataframe tbody tr th {\n",
       "        vertical-align: top;\n",
       "    }\n",
       "\n",
       "    .dataframe thead th {\n",
       "        text-align: right;\n",
       "    }\n",
       "</style>\n",
       "<table border=\"1\" class=\"dataframe\">\n",
       "  <thead>\n",
       "    <tr style=\"text-align: right;\">\n",
       "      <th></th>\n",
       "      <th>Venta</th>\n",
       "      <th>Costo</th>\n",
       "    </tr>\n",
       "    <tr>\n",
       "      <th>Area</th>\n",
       "      <th></th>\n",
       "      <th></th>\n",
       "    </tr>\n",
       "  </thead>\n",
       "  <tbody>\n",
       "    <tr>\n",
       "      <th>Pan</th>\n",
       "      <td>90847414</td>\n",
       "      <td>59344262.30</td>\n",
       "    </tr>\n",
       "    <tr>\n",
       "      <th>Fuente de sodas</th>\n",
       "      <td>90794382</td>\n",
       "      <td>58752868.65</td>\n",
       "    </tr>\n",
       "    <tr>\n",
       "      <th>Reposteria</th>\n",
       "      <td>90740574</td>\n",
       "      <td>58777954.82</td>\n",
       "    </tr>\n",
       "    <tr>\n",
       "      <th>Frutas</th>\n",
       "      <td>90103974</td>\n",
       "      <td>58489846.82</td>\n",
       "    </tr>\n",
       "    <tr>\n",
       "      <th>Vegetales</th>\n",
       "      <td>89467374</td>\n",
       "      <td>58078974.98</td>\n",
       "    </tr>\n",
       "    <tr>\n",
       "      <th>Carnico</th>\n",
       "      <td>89394818</td>\n",
       "      <td>58162235.93</td>\n",
       "    </tr>\n",
       "    <tr>\n",
       "      <th>Pollo</th>\n",
       "      <td>86776341</td>\n",
       "      <td>56254172.87</td>\n",
       "    </tr>\n",
       "  </tbody>\n",
       "</table>\n",
       "</div>"
      ],
      "text/plain": [
       "                     Venta        Costo\n",
       "Area                                   \n",
       "Pan               90847414  59344262.30\n",
       "Fuente de sodas   90794382  58752868.65\n",
       "Reposteria        90740574  58777954.82\n",
       "Frutas            90103974  58489846.82\n",
       "Vegetales         89467374  58078974.98\n",
       "Carnico           89394818  58162235.93\n",
       "Pollo             86776341  56254172.87"
      ]
     },
     "execution_count": 33,
     "metadata": {},
     "output_type": "execute_result"
    }
   ],
   "source": [
    "print(\"Determina las ventas y costos totales por área: \")\n",
    "venta_costo_area = data_cp.groupby(\"Area\")[[\"Venta\", \"Costo\"]].sum().sort_values(by=\"Venta\", ascending=False)\n",
    "venta_costo_area"
   ]
  },
  {
   "cell_type": "markdown",
   "id": "d40af9bf",
   "metadata": {},
   "source": [
    "### Con base a los datos de ventas y costos determina el margen para cada tienda."
   ]
  },
  {
   "cell_type": "code",
   "execution_count": 34,
   "id": "e646fbe3",
   "metadata": {},
   "outputs": [
    {
     "name": "stdout",
     "output_type": "stream",
     "text": [
      "Con base a los datos de ventas y costos determina el margen para cada tienda: \n"
     ]
    },
    {
     "data": {
      "text/html": [
       "<div>\n",
       "<style scoped>\n",
       "    .dataframe tbody tr th:only-of-type {\n",
       "        vertical-align: middle;\n",
       "    }\n",
       "\n",
       "    .dataframe tbody tr th {\n",
       "        vertical-align: top;\n",
       "    }\n",
       "\n",
       "    .dataframe thead th {\n",
       "        text-align: right;\n",
       "    }\n",
       "</style>\n",
       "<table border=\"1\" class=\"dataframe\">\n",
       "  <thead>\n",
       "    <tr style=\"text-align: right;\">\n",
       "      <th></th>\n",
       "      <th>Venta</th>\n",
       "      <th>Costo</th>\n",
       "      <th>Margen_area</th>\n",
       "    </tr>\n",
       "    <tr>\n",
       "      <th>Area</th>\n",
       "      <th></th>\n",
       "      <th></th>\n",
       "      <th></th>\n",
       "    </tr>\n",
       "  </thead>\n",
       "  <tbody>\n",
       "    <tr>\n",
       "      <th>Pan</th>\n",
       "      <td>90847414</td>\n",
       "      <td>59344262.30</td>\n",
       "      <td>31503151.70</td>\n",
       "    </tr>\n",
       "    <tr>\n",
       "      <th>Fuente de sodas</th>\n",
       "      <td>90794382</td>\n",
       "      <td>58752868.65</td>\n",
       "      <td>32041513.35</td>\n",
       "    </tr>\n",
       "    <tr>\n",
       "      <th>Reposteria</th>\n",
       "      <td>90740574</td>\n",
       "      <td>58777954.82</td>\n",
       "      <td>31962619.18</td>\n",
       "    </tr>\n",
       "    <tr>\n",
       "      <th>Frutas</th>\n",
       "      <td>90103974</td>\n",
       "      <td>58489846.82</td>\n",
       "      <td>31614127.18</td>\n",
       "    </tr>\n",
       "    <tr>\n",
       "      <th>Vegetales</th>\n",
       "      <td>89467374</td>\n",
       "      <td>58078974.98</td>\n",
       "      <td>31388399.02</td>\n",
       "    </tr>\n",
       "    <tr>\n",
       "      <th>Carnico</th>\n",
       "      <td>89394818</td>\n",
       "      <td>58162235.93</td>\n",
       "      <td>31232582.07</td>\n",
       "    </tr>\n",
       "    <tr>\n",
       "      <th>Pollo</th>\n",
       "      <td>86776341</td>\n",
       "      <td>56254172.87</td>\n",
       "      <td>30522168.13</td>\n",
       "    </tr>\n",
       "  </tbody>\n",
       "</table>\n",
       "</div>"
      ],
      "text/plain": [
       "                     Venta        Costo  Margen_area\n",
       "Area                                                \n",
       "Pan               90847414  59344262.30  31503151.70\n",
       "Fuente de sodas   90794382  58752868.65  32041513.35\n",
       "Reposteria        90740574  58777954.82  31962619.18\n",
       "Frutas            90103974  58489846.82  31614127.18\n",
       "Vegetales         89467374  58078974.98  31388399.02\n",
       "Carnico           89394818  58162235.93  31232582.07\n",
       "Pollo             86776341  56254172.87  30522168.13"
      ]
     },
     "execution_count": 34,
     "metadata": {},
     "output_type": "execute_result"
    }
   ],
   "source": [
    "venta_costo_area[\"Margen_area\"] = venta_costo_area[\"Venta\"] - venta_costo_area[\"Costo\"]\n",
    "\n",
    "print(\"Con base a los datos de ventas y costos determina el margen para cada tienda: \")\n",
    "venta_costo_area\n",
    "\n",
    "#venta_costo_area.sort_values(by=\"Margen_area\", ascending=False)"
   ]
  },
  {
   "cell_type": "markdown",
   "id": "c9ae3116",
   "metadata": {},
   "source": [
    "### Determina los % para los rubros de Desecho, Faltante y Caducado para cada tienda, así como el monto Total Perdida y %.\n"
   ]
  },
  {
   "cell_type": "code",
   "execution_count": 35,
   "id": "8eb2f7d4",
   "metadata": {},
   "outputs": [
    {
     "name": "stdout",
     "output_type": "stream",
     "text": [
      "Determina los % para los rubros de Desecho, Faltante y Caducado para cada tienda, así como el monto Total Perdida y %.\n"
     ]
    },
    {
     "data": {
      "text/html": [
       "<div>\n",
       "<style scoped>\n",
       "    .dataframe tbody tr th:only-of-type {\n",
       "        vertical-align: middle;\n",
       "    }\n",
       "\n",
       "    .dataframe tbody tr th {\n",
       "        vertical-align: top;\n",
       "    }\n",
       "\n",
       "    .dataframe thead th {\n",
       "        text-align: right;\n",
       "    }\n",
       "</style>\n",
       "<table border=\"1\" class=\"dataframe\">\n",
       "  <thead>\n",
       "    <tr style=\"text-align: right;\">\n",
       "      <th></th>\n",
       "      <th>Tienda</th>\n",
       "      <th>% Desecho</th>\n",
       "      <th>% Faltante</th>\n",
       "      <th>% Caducado</th>\n",
       "      <th>Total perdida</th>\n",
       "      <th>% Total Perdida</th>\n",
       "    </tr>\n",
       "  </thead>\n",
       "  <tbody>\n",
       "    <tr>\n",
       "      <th>0</th>\n",
       "      <td>1056</td>\n",
       "      <td>3.861998</td>\n",
       "      <td>6.013523</td>\n",
       "      <td>3.229526</td>\n",
       "      <td>11707</td>\n",
       "      <td>13.105046</td>\n",
       "    </tr>\n",
       "    <tr>\n",
       "      <th>1</th>\n",
       "      <td>1057</td>\n",
       "      <td>3.949689</td>\n",
       "      <td>5.401568</td>\n",
       "      <td>3.053494</td>\n",
       "      <td>11184</td>\n",
       "      <td>12.404752</td>\n",
       "    </tr>\n",
       "    <tr>\n",
       "      <th>2</th>\n",
       "      <td>1058</td>\n",
       "      <td>3.008155</td>\n",
       "      <td>3.389532</td>\n",
       "      <td>2.567428</td>\n",
       "      <td>8157</td>\n",
       "      <td>8.965116</td>\n",
       "    </tr>\n",
       "    <tr>\n",
       "      <th>3</th>\n",
       "      <td>1059</td>\n",
       "      <td>3.217409</td>\n",
       "      <td>3.546339</td>\n",
       "      <td>3.589906</td>\n",
       "      <td>9506</td>\n",
       "      <td>10.353654</td>\n",
       "    </tr>\n",
       "    <tr>\n",
       "      <th>4</th>\n",
       "      <td>1060</td>\n",
       "      <td>5.048575</td>\n",
       "      <td>2.256045</td>\n",
       "      <td>2.327288</td>\n",
       "      <td>8923</td>\n",
       "      <td>9.631908</td>\n",
       "    </tr>\n",
       "    <tr>\n",
       "      <th>...</th>\n",
       "      <td>...</td>\n",
       "      <td>...</td>\n",
       "      <td>...</td>\n",
       "      <td>...</td>\n",
       "      <td>...</td>\n",
       "      <td>...</td>\n",
       "    </tr>\n",
       "    <tr>\n",
       "      <th>2995</th>\n",
       "      <td>4051</td>\n",
       "      <td>3.383166</td>\n",
       "      <td>4.944328</td>\n",
       "      <td>3.724792</td>\n",
       "      <td>12383</td>\n",
       "      <td>12.052285</td>\n",
       "    </tr>\n",
       "    <tr>\n",
       "      <th>2996</th>\n",
       "      <td>4052</td>\n",
       "      <td>4.079439</td>\n",
       "      <td>5.172648</td>\n",
       "      <td>2.426555</td>\n",
       "      <td>12061</td>\n",
       "      <td>11.678641</td>\n",
       "    </tr>\n",
       "    <tr>\n",
       "      <th>2997</th>\n",
       "      <td>4053</td>\n",
       "      <td>5.018111</td>\n",
       "      <td>3.174251</td>\n",
       "      <td>2.523024</td>\n",
       "      <td>11123</td>\n",
       "      <td>10.715387</td>\n",
       "    </tr>\n",
       "    <tr>\n",
       "      <th>2998</th>\n",
       "      <td>4054</td>\n",
       "      <td>5.141181</td>\n",
       "      <td>5.569613</td>\n",
       "      <td>4.916901</td>\n",
       "      <td>16305</td>\n",
       "      <td>15.627696</td>\n",
       "    </tr>\n",
       "    <tr>\n",
       "      <th>2999</th>\n",
       "      <td>4055</td>\n",
       "      <td>5.324992</td>\n",
       "      <td>4.523955</td>\n",
       "      <td>5.004577</td>\n",
       "      <td>15576</td>\n",
       "      <td>14.853525</td>\n",
       "    </tr>\n",
       "  </tbody>\n",
       "</table>\n",
       "<p>3000 rows × 6 columns</p>\n",
       "</div>"
      ],
      "text/plain": [
       "      Tienda  % Desecho  % Faltante  % Caducado  Total perdida  \\\n",
       "0       1056   3.861998    6.013523    3.229526          11707   \n",
       "1       1057   3.949689    5.401568    3.053494          11184   \n",
       "2       1058   3.008155    3.389532    2.567428           8157   \n",
       "3       1059   3.217409    3.546339    3.589906           9506   \n",
       "4       1060   5.048575    2.256045    2.327288           8923   \n",
       "...      ...        ...         ...         ...            ...   \n",
       "2995    4051   3.383166    4.944328    3.724792          12383   \n",
       "2996    4052   4.079439    5.172648    2.426555          12061   \n",
       "2997    4053   5.018111    3.174251    2.523024          11123   \n",
       "2998    4054   5.141181    5.569613    4.916901          16305   \n",
       "2999    4055   5.324992    4.523955    5.004577          15576   \n",
       "\n",
       "      % Total Perdida  \n",
       "0           13.105046  \n",
       "1           12.404752  \n",
       "2            8.965116  \n",
       "3           10.353654  \n",
       "4            9.631908  \n",
       "...               ...  \n",
       "2995        12.052285  \n",
       "2996        11.678641  \n",
       "2997        10.715387  \n",
       "2998        15.627696  \n",
       "2999        14.853525  \n",
       "\n",
       "[3000 rows x 6 columns]"
      ]
     },
     "execution_count": 35,
     "metadata": {},
     "output_type": "execute_result"
    }
   ],
   "source": [
    "info_x_tienda = data_cp[[\"Tienda\", \"% Desecho\", \"% Faltante\", \"% Caducado\", \"Total perdida\", \"% Total Perdida\"]]\n",
    "\n",
    "print(\"Determina los % para los rubros de Desecho, Faltante y Caducado para cada tienda, así como el monto Total Perdida y %.\")\n",
    "info_x_tienda #tenemos 3000 tiendas"
   ]
  },
  {
   "cell_type": "markdown",
   "id": "d38c6094",
   "metadata": {},
   "source": [
    "### Determina el área con mayor monto de total perdida."
   ]
  },
  {
   "cell_type": "code",
   "execution_count": 36,
   "id": "ff0d79d7",
   "metadata": {},
   "outputs": [
    {
     "name": "stdout",
     "output_type": "stream",
     "text": [
      "Determina el área con mayor monto de total perdida\n"
     ]
    },
    {
     "data": {
      "text/html": [
       "<div>\n",
       "<style scoped>\n",
       "    .dataframe tbody tr th:only-of-type {\n",
       "        vertical-align: middle;\n",
       "    }\n",
       "\n",
       "    .dataframe tbody tr th {\n",
       "        vertical-align: top;\n",
       "    }\n",
       "\n",
       "    .dataframe thead th {\n",
       "        text-align: right;\n",
       "    }\n",
       "</style>\n",
       "<table border=\"1\" class=\"dataframe\">\n",
       "  <thead>\n",
       "    <tr style=\"text-align: right;\">\n",
       "      <th></th>\n",
       "      <th>Total perdida</th>\n",
       "    </tr>\n",
       "    <tr>\n",
       "      <th>Area</th>\n",
       "      <th></th>\n",
       "    </tr>\n",
       "  </thead>\n",
       "  <tbody>\n",
       "    <tr>\n",
       "      <th>Frutas</th>\n",
       "      <td>5226168</td>\n",
       "    </tr>\n",
       "    <tr>\n",
       "      <th>Vegetales</th>\n",
       "      <td>5177819</td>\n",
       "    </tr>\n",
       "    <tr>\n",
       "      <th>Fuente de sodas</th>\n",
       "      <td>5176000</td>\n",
       "    </tr>\n",
       "    <tr>\n",
       "      <th>Pan</th>\n",
       "      <td>5152415</td>\n",
       "    </tr>\n",
       "    <tr>\n",
       "      <th>Reposteria</th>\n",
       "      <td>5125890</td>\n",
       "    </tr>\n",
       "    <tr>\n",
       "      <th>Carnico</th>\n",
       "      <td>5085717</td>\n",
       "    </tr>\n",
       "    <tr>\n",
       "      <th>Pollo</th>\n",
       "      <td>5006130</td>\n",
       "    </tr>\n",
       "  </tbody>\n",
       "</table>\n",
       "</div>"
      ],
      "text/plain": [
       "                  Total perdida\n",
       "Area                           \n",
       "Frutas                  5226168\n",
       "Vegetales               5177819\n",
       "Fuente de sodas         5176000\n",
       "Pan                     5152415\n",
       "Reposteria              5125890\n",
       "Carnico                 5085717\n",
       "Pollo                   5006130"
      ]
     },
     "execution_count": 36,
     "metadata": {},
     "output_type": "execute_result"
    }
   ],
   "source": [
    "perdida_x_area = data_cp.groupby(\"Area\")[[\"Total perdida\"]].sum().sort_values(by=\"Total perdida\", ascending=False)\n",
    "\n",
    "print(\"Determina el área con mayor monto de total perdida\")\n",
    "perdida_x_area"
   ]
  },
  {
   "cell_type": "markdown",
   "id": "91c20a50",
   "metadata": {},
   "source": [
    "### Determina el área con menor monto de Desecho."
   ]
  },
  {
   "cell_type": "code",
   "execution_count": 37,
   "id": "36d1fa78",
   "metadata": {},
   "outputs": [
    {
     "name": "stdout",
     "output_type": "stream",
     "text": [
      "Determina el área con menor monto de Desecho\n"
     ]
    },
    {
     "data": {
      "text/html": [
       "<div>\n",
       "<style scoped>\n",
       "    .dataframe tbody tr th:only-of-type {\n",
       "        vertical-align: middle;\n",
       "    }\n",
       "\n",
       "    .dataframe tbody tr th {\n",
       "        vertical-align: top;\n",
       "    }\n",
       "\n",
       "    .dataframe thead th {\n",
       "        text-align: right;\n",
       "    }\n",
       "</style>\n",
       "<table border=\"1\" class=\"dataframe\">\n",
       "  <thead>\n",
       "    <tr style=\"text-align: right;\">\n",
       "      <th></th>\n",
       "      <th>Desecho</th>\n",
       "    </tr>\n",
       "    <tr>\n",
       "      <th>Area</th>\n",
       "      <th></th>\n",
       "    </tr>\n",
       "  </thead>\n",
       "  <tbody>\n",
       "    <tr>\n",
       "      <th>Frutas</th>\n",
       "      <td>1770689</td>\n",
       "    </tr>\n",
       "    <tr>\n",
       "      <th>Vegetales</th>\n",
       "      <td>1736841</td>\n",
       "    </tr>\n",
       "    <tr>\n",
       "      <th>Pan</th>\n",
       "      <td>1730678</td>\n",
       "    </tr>\n",
       "    <tr>\n",
       "      <th>Reposteria</th>\n",
       "      <td>1725096</td>\n",
       "    </tr>\n",
       "    <tr>\n",
       "      <th>Fuente de sodas</th>\n",
       "      <td>1716114</td>\n",
       "    </tr>\n",
       "    <tr>\n",
       "      <th>Carnico</th>\n",
       "      <td>1700910</td>\n",
       "    </tr>\n",
       "    <tr>\n",
       "      <th>Pollo</th>\n",
       "      <td>1663080</td>\n",
       "    </tr>\n",
       "  </tbody>\n",
       "</table>\n",
       "</div>"
      ],
      "text/plain": [
       "                  Desecho\n",
       "Area                     \n",
       "Frutas            1770689\n",
       "Vegetales         1736841\n",
       "Pan               1730678\n",
       "Reposteria        1725096\n",
       "Fuente de sodas   1716114\n",
       "Carnico           1700910\n",
       "Pollo             1663080"
      ]
     },
     "execution_count": 37,
     "metadata": {},
     "output_type": "execute_result"
    }
   ],
   "source": [
    "desecho_x_area = data_cp.groupby(\"Area\")[[\"Desecho\"]].sum().sort_values(by=\"Desecho\", ascending=False)\n",
    "\n",
    "print(\"Determina el área con menor monto de Desecho\")\n",
    "desecho_x_area\n"
   ]
  },
  {
   "cell_type": "code",
   "execution_count": 38,
   "id": "0be5b2ab",
   "metadata": {},
   "outputs": [
    {
     "name": "stdout",
     "output_type": "stream",
     "text": [
      "Dataset guardado exitosamente en: 'C:/Users/eduar/Downloads\\caso_practico_final.csv'\n"
     ]
    }
   ],
   "source": [
    "#Guradar y descargar dataset\n",
    "import os \n",
    "nombre_archivo = 'caso_practico_final.csv'\n",
    "ruta = \"C:/Users/eduar/Downloads\"\n",
    "ruta_completa = os.path.join(ruta, nombre_archivo)\n",
    "\n",
    "\n",
    "data_cp.to_csv(ruta_completa, index=False, encoding='utf-8-sig', sep=',')\n",
    "\n",
    "print(f\"Dataset guardado exitosamente en: '{ruta_completa}'\")"
   ]
  },
  {
   "cell_type": "markdown",
   "id": "9a4b48ee",
   "metadata": {},
   "source": [
    "## Etapa 2"
   ]
  },
  {
   "cell_type": "code",
   "execution_count": 52,
   "id": "29ea5867",
   "metadata": {},
   "outputs": [],
   "source": [
    "### hacer un dashboard-->"
   ]
  },
  {
   "cell_type": "code",
   "execution_count": 39,
   "id": "3d100516",
   "metadata": {},
   "outputs": [
    {
     "data": {
      "text/html": [
       "<div>\n",
       "<style scoped>\n",
       "    .dataframe tbody tr th:only-of-type {\n",
       "        vertical-align: middle;\n",
       "    }\n",
       "\n",
       "    .dataframe tbody tr th {\n",
       "        vertical-align: top;\n",
       "    }\n",
       "\n",
       "    .dataframe thead th {\n",
       "        text-align: right;\n",
       "    }\n",
       "</style>\n",
       "<table border=\"1\" class=\"dataframe\">\n",
       "  <thead>\n",
       "    <tr style=\"text-align: right;\">\n",
       "      <th></th>\n",
       "      <th>Mes</th>\n",
       "      <th>Formato</th>\n",
       "      <th>Tienda</th>\n",
       "      <th>Estado</th>\n",
       "      <th>Area</th>\n",
       "      <th>Venta</th>\n",
       "      <th>Costo</th>\n",
       "      <th>Margen</th>\n",
       "      <th>Desecho</th>\n",
       "      <th>% Desecho</th>\n",
       "      <th>Faltante</th>\n",
       "      <th>% Faltante</th>\n",
       "      <th>Caducado</th>\n",
       "      <th>% Caducado</th>\n",
       "      <th>Total perdida</th>\n",
       "      <th>% Total Perdida</th>\n",
       "      <th>Numero_Mes</th>\n",
       "    </tr>\n",
       "  </thead>\n",
       "  <tbody>\n",
       "    <tr>\n",
       "      <th>0</th>\n",
       "      <td>Enero</td>\n",
       "      <td>AB</td>\n",
       "      <td>1056</td>\n",
       "      <td>Baja California Sur</td>\n",
       "      <td>Carnico</td>\n",
       "      <td>89332</td>\n",
       "      <td>80398.80</td>\n",
       "      <td>8933.20</td>\n",
       "      <td>3450</td>\n",
       "      <td>3.861998</td>\n",
       "      <td>5372</td>\n",
       "      <td>6.013523</td>\n",
       "      <td>2885</td>\n",
       "      <td>3.229526</td>\n",
       "      <td>11707</td>\n",
       "      <td>13.105046</td>\n",
       "      <td>1</td>\n",
       "    </tr>\n",
       "    <tr>\n",
       "      <th>1</th>\n",
       "      <td>Febrero</td>\n",
       "      <td>AEB</td>\n",
       "      <td>1057</td>\n",
       "      <td>Hidalgo</td>\n",
       "      <td>Carnico</td>\n",
       "      <td>90159</td>\n",
       "      <td>80241.51</td>\n",
       "      <td>9917.49</td>\n",
       "      <td>3561</td>\n",
       "      <td>3.949689</td>\n",
       "      <td>4870</td>\n",
       "      <td>5.401568</td>\n",
       "      <td>2753</td>\n",
       "      <td>3.053494</td>\n",
       "      <td>11184</td>\n",
       "      <td>12.404752</td>\n",
       "      <td>2</td>\n",
       "    </tr>\n",
       "    <tr>\n",
       "      <th>2</th>\n",
       "      <td>Marzo</td>\n",
       "      <td>MV</td>\n",
       "      <td>1058</td>\n",
       "      <td>Sinaloa</td>\n",
       "      <td>Vegetales</td>\n",
       "      <td>90986</td>\n",
       "      <td>80067.68</td>\n",
       "      <td>10918.32</td>\n",
       "      <td>2737</td>\n",
       "      <td>3.008155</td>\n",
       "      <td>3084</td>\n",
       "      <td>3.389532</td>\n",
       "      <td>2336</td>\n",
       "      <td>2.567428</td>\n",
       "      <td>8157</td>\n",
       "      <td>8.965116</td>\n",
       "      <td>3</td>\n",
       "    </tr>\n",
       "    <tr>\n",
       "      <th>3</th>\n",
       "      <td>Abril</td>\n",
       "      <td>AB</td>\n",
       "      <td>1059</td>\n",
       "      <td>Tlaxcala</td>\n",
       "      <td>Vegetales</td>\n",
       "      <td>91813</td>\n",
       "      <td>79877.31</td>\n",
       "      <td>11935.69</td>\n",
       "      <td>2954</td>\n",
       "      <td>3.217409</td>\n",
       "      <td>3256</td>\n",
       "      <td>3.546339</td>\n",
       "      <td>3296</td>\n",
       "      <td>3.589906</td>\n",
       "      <td>9506</td>\n",
       "      <td>10.353654</td>\n",
       "      <td>4</td>\n",
       "    </tr>\n",
       "    <tr>\n",
       "      <th>4</th>\n",
       "      <td>Mayo</td>\n",
       "      <td>AEB</td>\n",
       "      <td>1060</td>\n",
       "      <td>Hidalgo</td>\n",
       "      <td>Frutas</td>\n",
       "      <td>92640</td>\n",
       "      <td>79670.40</td>\n",
       "      <td>12969.60</td>\n",
       "      <td>4677</td>\n",
       "      <td>5.048575</td>\n",
       "      <td>2090</td>\n",
       "      <td>2.256045</td>\n",
       "      <td>2156</td>\n",
       "      <td>2.327288</td>\n",
       "      <td>8923</td>\n",
       "      <td>9.631908</td>\n",
       "      <td>5</td>\n",
       "    </tr>\n",
       "  </tbody>\n",
       "</table>\n",
       "</div>"
      ],
      "text/plain": [
       "       Mes Formato  Tienda               Estado       Area  Venta     Costo  \\\n",
       "0    Enero      AB    1056  Baja California Sur   Carnico   89332  80398.80   \n",
       "1  Febrero     AEB    1057              Hidalgo   Carnico   90159  80241.51   \n",
       "2    Marzo      MV    1058              Sinaloa  Vegetales  90986  80067.68   \n",
       "3    Abril      AB    1059             Tlaxcala  Vegetales  91813  79877.31   \n",
       "4     Mayo     AEB    1060              Hidalgo     Frutas  92640  79670.40   \n",
       "\n",
       "     Margen  Desecho  % Desecho  Faltante  % Faltante  Caducado  % Caducado  \\\n",
       "0   8933.20     3450   3.861998      5372    6.013523      2885    3.229526   \n",
       "1   9917.49     3561   3.949689      4870    5.401568      2753    3.053494   \n",
       "2  10918.32     2737   3.008155      3084    3.389532      2336    2.567428   \n",
       "3  11935.69     2954   3.217409      3256    3.546339      3296    3.589906   \n",
       "4  12969.60     4677   5.048575      2090    2.256045      2156    2.327288   \n",
       "\n",
       "   Total perdida  % Total Perdida  Numero_Mes  \n",
       "0          11707        13.105046           1  \n",
       "1          11184        12.404752           2  \n",
       "2           8157         8.965116           3  \n",
       "3           9506        10.353654           4  \n",
       "4           8923         9.631908           5  "
      ]
     },
     "execution_count": 39,
     "metadata": {},
     "output_type": "execute_result"
    }
   ],
   "source": [
    "data_cp.head()"
   ]
  },
  {
   "cell_type": "code",
   "execution_count": 53,
   "id": "607dfe30",
   "metadata": {},
   "outputs": [],
   "source": [
    "#Mapa de calor para los rubros de ventas y total perdida"
   ]
  },
  {
   "cell_type": "code",
   "execution_count": 51,
   "id": "f728c5fd",
   "metadata": {},
   "outputs": [
    {
     "data": {
      "image/png": "[encoded data removed]",
      "text/plain": [
       "<Figure size 1200x600 with 2 Axes>"
      ]
     },
     "metadata": {},
     "output_type": "display_data"
    }
   ],
   "source": [
    "# Agrupar: Ventas por Área y Mes\n",
    "ventas_heatmap = data_cp.groupby(['Area', 'Numero_Mes'])['Venta'].sum().unstack(fill_value=0)\n",
    "\n",
    "# Calcular porcentaje respecto al total general\n",
    "ventas_pct = ventas_heatmap / ventas_heatmap.values.sum() * 100\n",
    "\n",
    "# Graficar el heatmap en porcentaje\n",
    "plt.figure(figsize=(12, 6))\n",
    "sns.heatmap(ventas_pct, annot=True, fmt='.2f', cmap='Greens', cbar_kws={'label': '% de Ventas'})\n",
    "plt.title('Ventas por Área y Mes (%)')\n",
    "plt.xlabel('Mes')\n",
    "plt.ylabel('Área')\n",
    "plt.tight_layout()\n",
    "plt.show()\n"
   ]
  },
  {
   "cell_type": "code",
   "execution_count": 48,
   "id": "c22acdab",
   "metadata": {},
   "outputs": [
    {
     "data": {
      "image/png": "[encoded data removed]",
      "text/plain": [
       "<Figure size 1200x600 with 2 Axes>"
      ]
     },
     "metadata": {},
     "output_type": "display_data"
    }
   ],
   "source": [
    "# Agrupar: Pérdidas por Área y Mes\n",
    "perdidas_heatmap = data_cp.groupby(['Area', 'Numero_Mes'])['Total perdida'].sum().unstack(fill_value=0)\n",
    "\n",
    "# Calcular porcentaje respecto al total general de pérdidas\n",
    "perdidas_pct = perdidas_heatmap / perdidas_heatmap.values.sum() * 100\n",
    "\n",
    "# Graficar el heatmap en porcentaje, mismo formato que ventas\n",
    "plt.figure(figsize=(12, 6))\n",
    "sns.heatmap(perdidas_pct, annot=True, fmt='.2f', cmap='Reds', cbar_kws={'label': '% de Pérdidas'})\n",
    "plt.title('Total Pérdidas por Área y Mes (%)')\n",
    "plt.xlabel('Mes')\n",
    "plt.ylabel('Área')\n",
    "plt.tight_layout()\n",
    "plt.show()\n"
   ]
  },
  {
   "cell_type": "code",
   "execution_count": null,
   "id": "dc173918",
   "metadata": {},
   "outputs": [],
   "source": []
  },
  {
   "cell_type": "code",
   "execution_count": null,
   "id": "81d3039b",
   "metadata": {},
   "outputs": [],
   "source": []
  },
  {
   "cell_type": "code",
   "execution_count": 55,
   "id": "8f066783",
   "metadata": {},
   "outputs": [
    {
     "data": {
      "text/html": [
       "<div>\n",
       "<style scoped>\n",
       "    .dataframe tbody tr th:only-of-type {\n",
       "        vertical-align: middle;\n",
       "    }\n",
       "\n",
       "    .dataframe tbody tr th {\n",
       "        vertical-align: top;\n",
       "    }\n",
       "\n",
       "    .dataframe thead th {\n",
       "        text-align: right;\n",
       "    }\n",
       "</style>\n",
       "<table border=\"1\" class=\"dataframe\">\n",
       "  <thead>\n",
       "    <tr style=\"text-align: right;\">\n",
       "      <th></th>\n",
       "      <th>Numero_Mes</th>\n",
       "      <th>Formato</th>\n",
       "      <th>Desecho</th>\n",
       "      <th>Faltante</th>\n",
       "      <th>Caducado</th>\n",
       "    </tr>\n",
       "  </thead>\n",
       "  <tbody>\n",
       "    <tr>\n",
       "      <th>0</th>\n",
       "      <td>1</td>\n",
       "      <td>AB</td>\n",
       "      <td>1025077</td>\n",
       "      <td>989092</td>\n",
       "      <td>975183</td>\n",
       "    </tr>\n",
       "    <tr>\n",
       "      <th>1</th>\n",
       "      <td>2</td>\n",
       "      <td>AEB</td>\n",
       "      <td>1001128</td>\n",
       "      <td>977299</td>\n",
       "      <td>997542</td>\n",
       "    </tr>\n",
       "    <tr>\n",
       "      <th>2</th>\n",
       "      <td>3</td>\n",
       "      <td>MV</td>\n",
       "      <td>977857</td>\n",
       "      <td>1019218</td>\n",
       "      <td>988797</td>\n",
       "    </tr>\n",
       "    <tr>\n",
       "      <th>3</th>\n",
       "      <td>4</td>\n",
       "      <td>AB</td>\n",
       "      <td>993278</td>\n",
       "      <td>1004982</td>\n",
       "      <td>1014140</td>\n",
       "    </tr>\n",
       "    <tr>\n",
       "      <th>4</th>\n",
       "      <td>5</td>\n",
       "      <td>AEB</td>\n",
       "      <td>1012691</td>\n",
       "      <td>984029</td>\n",
       "      <td>989000</td>\n",
       "    </tr>\n",
       "    <tr>\n",
       "      <th>5</th>\n",
       "      <td>6</td>\n",
       "      <td>MV</td>\n",
       "      <td>1021965</td>\n",
       "      <td>998102</td>\n",
       "      <td>993198</td>\n",
       "    </tr>\n",
       "    <tr>\n",
       "      <th>6</th>\n",
       "      <td>7</td>\n",
       "      <td>AB</td>\n",
       "      <td>1033461</td>\n",
       "      <td>1006155</td>\n",
       "      <td>1001502</td>\n",
       "    </tr>\n",
       "    <tr>\n",
       "      <th>7</th>\n",
       "      <td>8</td>\n",
       "      <td>AEB</td>\n",
       "      <td>1005457</td>\n",
       "      <td>1002289</td>\n",
       "      <td>996183</td>\n",
       "    </tr>\n",
       "    <tr>\n",
       "      <th>8</th>\n",
       "      <td>9</td>\n",
       "      <td>MV</td>\n",
       "      <td>1004194</td>\n",
       "      <td>1028694</td>\n",
       "      <td>997044</td>\n",
       "    </tr>\n",
       "    <tr>\n",
       "      <th>9</th>\n",
       "      <td>10</td>\n",
       "      <td>AB</td>\n",
       "      <td>963041</td>\n",
       "      <td>1002283</td>\n",
       "      <td>940675</td>\n",
       "    </tr>\n",
       "    <tr>\n",
       "      <th>10</th>\n",
       "      <td>11</td>\n",
       "      <td>AEB</td>\n",
       "      <td>997935</td>\n",
       "      <td>979239</td>\n",
       "      <td>1008589</td>\n",
       "    </tr>\n",
       "    <tr>\n",
       "      <th>11</th>\n",
       "      <td>12</td>\n",
       "      <td>MV</td>\n",
       "      <td>1007324</td>\n",
       "      <td>1016744</td>\n",
       "      <td>996752</td>\n",
       "    </tr>\n",
       "  </tbody>\n",
       "</table>\n",
       "</div>"
      ],
      "text/plain": [
       "    Numero_Mes Formato  Desecho  Faltante  Caducado\n",
       "0            1      AB  1025077    989092    975183\n",
       "1            2     AEB  1001128    977299    997542\n",
       "2            3      MV   977857   1019218    988797\n",
       "3            4      AB   993278   1004982   1014140\n",
       "4            5     AEB  1012691    984029    989000\n",
       "5            6      MV  1021965    998102    993198\n",
       "6            7      AB  1033461   1006155   1001502\n",
       "7            8     AEB  1005457   1002289    996183\n",
       "8            9      MV  1004194   1028694    997044\n",
       "9           10      AB   963041   1002283    940675\n",
       "10          11     AEB   997935    979239   1008589\n",
       "11          12      MV  1007324   1016744    996752"
      ]
     },
     "execution_count": 55,
     "metadata": {},
     "output_type": "execute_result"
    }
   ],
   "source": [
    "formato_mensual"
   ]
  },
  {
   "cell_type": "code",
   "execution_count": 49,
   "id": "b0cf5b19",
   "metadata": {},
   "outputs": [
    {
     "data": {
      "application/vnd.plotly.v1+json": {
       "config": {
        "plotlyServerURL": "https://plot.ly"
       },
       "data": [
        {
         "alignmentgroup": "True",
         "hovertemplate": "Area=Carnico <br>Numero_Mes=%{x}<br>Total perdida=%{y}<extra></extra>",
         "legendgroup": "Carnico ",
         "marker": {
          "color": "#636efa",
          "pattern": {
           "shape": ""
          }
         },
         "name": "Carnico ",
         "offsetgroup": "Carnico ",
         "orientation": "v",
         "showlegend": true,
         "textposition": "auto",
         "type": "bar",
         "x": [
          1,
          2,
          3,
          4,
          5,
          6,
          7,
          8,
          9,
          10,
          11,
          12
         ],
         "xaxis": "x",
         "y": [
          460105,
          415657,
          391593,
          447119,
          398076,
          430810,
          445290,
          422509,
          417965,
          420408,
          412904,
          423281
         ],
         "yaxis": "y"
        },
        {
         "alignmentgroup": "True",
         "hovertemplate": "Area=Frutas<br>Numero_Mes=%{x}<br>Total perdida=%{y}<extra></extra>",
         "legendgroup": "Frutas",
         "marker": {
          "color": "#EF553B",
          "pattern": {
           "shape": ""
          }
         },
         "name": "Frutas",
         "offsetgroup": "Frutas",
         "orientation": "v",
         "showlegend": true,
         "textposition": "auto",
         "type": "bar",
         "x": [
          1,
          2,
          3,
          4,
          5,
          6,
          7,
          8,
          9,
          10,
          11,
          12
         ],
         "xaxis": "x",
         "y": [
          429436,
          436214,
          410757,
          449624,
          444848,
          426622,
          435073,
          470238,
          429492,
          419421,
          447296,
          427147
         ],
         "yaxis": "y"
        },
        {
         "alignmentgroup": "True",
         "hovertemplate": "Area=Fuente de sodas <br>Numero_Mes=%{x}<br>Total perdida=%{y}<extra></extra>",
         "legendgroup": "Fuente de sodas ",
         "marker": {
          "color": "#00cc96",
          "pattern": {
           "shape": ""
          }
         },
         "name": "Fuente de sodas ",
         "offsetgroup": "Fuente de sodas ",
         "orientation": "v",
         "showlegend": true,
         "textposition": "auto",
         "type": "bar",
         "x": [
          1,
          2,
          3,
          4,
          5,
          6,
          7,
          8,
          9,
          10,
          11,
          12
         ],
         "xaxis": "x",
         "y": [
          415554,
          413381,
          454362,
          427981,
          416688,
          449136,
          430900,
          419813,
          474031,
          414512,
          398154,
          461488
         ],
         "yaxis": "y"
        },
        {
         "alignmentgroup": "True",
         "hovertemplate": "Area=Pan<br>Numero_Mes=%{x}<br>Total perdida=%{y}<extra></extra>",
         "legendgroup": "Pan",
         "marker": {
          "color": "#ab63fa",
          "pattern": {
           "shape": ""
          }
         },
         "name": "Pan",
         "offsetgroup": "Pan",
         "orientation": "v",
         "showlegend": true,
         "textposition": "auto",
         "type": "bar",
         "x": [
          1,
          2,
          3,
          4,
          5,
          6,
          7,
          8,
          9,
          10,
          11,
          12
         ],
         "xaxis": "x",
         "y": [
          412670,
          459948,
          437835,
          421665,
          429986,
          404744,
          427994,
          440162,
          430917,
          393434,
          473733,
          419327
         ],
         "yaxis": "y"
        },
        {
         "alignmentgroup": "True",
         "hovertemplate": "Area=Pollo <br>Numero_Mes=%{x}<br>Total perdida=%{y}<extra></extra>",
         "legendgroup": "Pollo ",
         "marker": {
          "color": "#FFA15A",
          "pattern": {
           "shape": ""
          }
         },
         "name": "Pollo ",
         "offsetgroup": "Pollo ",
         "orientation": "v",
         "showlegend": true,
         "textposition": "auto",
         "type": "bar",
         "x": [
          1,
          2,
          3,
          4,
          5,
          6,
          7,
          8,
          9,
          10,
          11,
          12
         ],
         "xaxis": "x",
         "y": [
          416047,
          431539,
          422166,
          414070,
          411261,
          434850,
          397912,
          415938,
          419770,
          404837,
          423903,
          413837
         ],
         "yaxis": "y"
        },
        {
         "alignmentgroup": "True",
         "hovertemplate": "Area=Reposteria <br>Numero_Mes=%{x}<br>Total perdida=%{y}<extra></extra>",
         "legendgroup": "Reposteria ",
         "marker": {
          "color": "#19d3f3",
          "pattern": {
           "shape": ""
          }
         },
         "name": "Reposteria ",
         "offsetgroup": "Reposteria ",
         "orientation": "v",
         "showlegend": true,
         "textposition": "auto",
         "type": "bar",
         "x": [
          1,
          2,
          3,
          4,
          5,
          6,
          7,
          8,
          9,
          10,
          11,
          12
         ],
         "xaxis": "x",
         "y": [
          428531,
          417404,
          398892,
          434417,
          454495,
          421244,
          473438,
          414110,
          414129,
          435911,
          419299,
          414020
         ],
         "yaxis": "y"
        },
        {
         "alignmentgroup": "True",
         "hovertemplate": "Area=Vegetales<br>Numero_Mes=%{x}<br>Total perdida=%{y}<extra></extra>",
         "legendgroup": "Vegetales",
         "marker": {
          "color": "#FF6692",
          "pattern": {
           "shape": ""
          }
         },
         "name": "Vegetales",
         "offsetgroup": "Vegetales",
         "orientation": "v",
         "showlegend": true,
         "textposition": "auto",
         "type": "bar",
         "x": [
          1,
          2,
          3,
          4,
          5,
          6,
          7,
          8,
          9,
          10,
          11,
          12
         ],
         "xaxis": "x",
         "y": [
          427009,
          401826,
          470267,
          417524,
          430366,
          445859,
          430511,
          421159,
          443628,
          417476,
          410474,
          461720
         ],
         "yaxis": "y"
        }
       ],
       "layout": {
        "barmode": "group",
        "legend": {
         "title": {
          "text": "Area"
         },
         "tracegroupgap": 0
        },
        "template": {
         "data": {
          "bar": [
           {
            "error_x": {
             "color": "#2a3f5f"
            },
            "error_y": {
             "color": "#2a3f5f"
            },
            "marker": {
             "line": {
              "color": "#E5ECF6",
              "width": 0.5
             },
             "pattern": {
              "fillmode": "overlay",
              "size": 10,
              "solidity": 0.2
             }
            },
            "type": "bar"
           }
          ],
          "barpolar": [
           {
            "marker": {
             "line": {
              "color": "#E5ECF6",
              "width": 0.5
             },
             "pattern": {
              "fillmode": "overlay",
              "size": 10,
              "solidity": 0.2
             }
            },
            "type": "barpolar"
           }
          ],
          "carpet": [
           {
            "aaxis": {
             "endlinecolor": "#2a3f5f",
             "gridcolor": "white",
             "linecolor": "white",
             "minorgridcolor": "white",
             "startlinecolor": "#2a3f5f"
            },
            "baxis": {
             "endlinecolor": "#2a3f5f",
             "gridcolor": "white",
             "linecolor": "white",
             "minorgridcolor": "white",
             "startlinecolor": "#2a3f5f"
            },
            "type": "carpet"
           }
          ],
          "choropleth": [
           {
            "colorbar": {
             "outlinewidth": 0,
             "ticks": ""
            },
            "type": "choropleth"
           }
          ],
          "contour": [
           {
            "colorbar": {
             "outlinewidth": 0,
             "ticks": ""
            },
            "colorscale": [
             [
              0,
              "#0d0887"
             ],
             [
              0.1111111111111111,
              "#46039f"
             ],
             [
              0.2222222222222222,
              "#7201a8"
             ],
             [
              0.3333333333333333,
              "#9c179e"
             ],
             [
              0.4444444444444444,
              "#bd3786"
             ],
             [
              0.5555555555555556,
              "#d8576b"
             ],
             [
              0.6666666666666666,
              "#ed7953"
             ],
             [
              0.7777777777777778,
              "#fb9f3a"
             ],
             [
              0.8888888888888888,
              "#fdca26"
             ],
             [
              1,
              "#f0f921"
             ]
            ],
            "type": "contour"
           }
          ],
          "contourcarpet": [
           {
            "colorbar": {
             "outlinewidth": 0,
             "ticks": ""
            },
            "type": "contourcarpet"
           }
          ],
          "heatmap": [
           {
            "colorbar": {
             "outlinewidth": 0,
             "ticks": ""
            },
            "colorscale": [
             [
              0,
              "#0d0887"
             ],
             [
              0.1111111111111111,
              "#46039f"
             ],
             [
              0.2222222222222222,
              "#7201a8"
             ],
             [
              0.3333333333333333,
              "#9c179e"
             ],
             [
              0.4444444444444444,
              "#bd3786"
             ],
             [
              0.5555555555555556,
              "#d8576b"
             ],
             [
              0.6666666666666666,
              "#ed7953"
             ],
             [
              0.7777777777777778,
              "#fb9f3a"
             ],
             [
              0.8888888888888888,
              "#fdca26"
             ],
             [
              1,
              "#f0f921"
             ]
            ],
            "type": "heatmap"
           }
          ],
          "heatmapgl": [
           {
            "colorbar": {
             "outlinewidth": 0,
             "ticks": ""
            },
            "colorscale": [
             [
              0,
              "#0d0887"
             ],
             [
              0.1111111111111111,
              "#46039f"
             ],
             [
              0.2222222222222222,
              "#7201a8"
             ],
             [
              0.3333333333333333,
              "#9c179e"
             ],
             [
              0.4444444444444444,
              "#bd3786"
             ],
             [
              0.5555555555555556,
              "#d8576b"
             ],
             [
              0.6666666666666666,
              "#ed7953"
             ],
             [
              0.7777777777777778,
              "#fb9f3a"
             ],
             [
              0.8888888888888888,
              "#fdca26"
             ],
             [
              1,
              "#f0f921"
             ]
            ],
            "type": "heatmapgl"
           }
          ],
          "histogram": [
           {
            "marker": {
             "pattern": {
              "fillmode": "overlay",
              "size": 10,
              "solidity": 0.2
             }
            },
            "type": "histogram"
           }
          ],
          "histogram2d": [
           {
            "colorbar": {
             "outlinewidth": 0,
             "ticks": ""
            },
            "colorscale": [
             [
              0,
              "#0d0887"
             ],
             [
              0.1111111111111111,
              "#46039f"
             ],
             [
              0.2222222222222222,
              "#7201a8"
             ],
             [
              0.3333333333333333,
              "#9c179e"
             ],
             [
              0.4444444444444444,
              "#bd3786"
             ],
             [
              0.5555555555555556,
              "#d8576b"
             ],
             [
              0.6666666666666666,
              "#ed7953"
             ],
             [
              0.7777777777777778,
              "#fb9f3a"
             ],
             [
              0.8888888888888888,
              "#fdca26"
             ],
             [
              1,
              "#f0f921"
             ]
            ],
            "type": "histogram2d"
           }
          ],
          "histogram2dcontour": [
           {
            "colorbar": {
             "outlinewidth": 0,
             "ticks": ""
            },
            "colorscale": [
             [
              0,
              "#0d0887"
             ],
             [
              0.1111111111111111,
              "#46039f"
             ],
             [
              0.2222222222222222,
              "#7201a8"
             ],
             [
              0.3333333333333333,
              "#9c179e"
             ],
             [
              0.4444444444444444,
              "#bd3786"
             ],
             [
              0.5555555555555556,
              "#d8576b"
             ],
             [
              0.6666666666666666,
              "#ed7953"
             ],
             [
              0.7777777777777778,
              "#fb9f3a"
             ],
             [
              0.8888888888888888,
              "#fdca26"
             ],
             [
              1,
              "#f0f921"
             ]
            ],
            "type": "histogram2dcontour"
           }
          ],
          "mesh3d": [
           {
            "colorbar": {
             "outlinewidth": 0,
             "ticks": ""
            },
            "type": "mesh3d"
           }
          ],
          "parcoords": [
           {
            "line": {
             "colorbar": {
              "outlinewidth": 0,
              "ticks": ""
             }
            },
            "type": "parcoords"
           }
          ],
          "pie": [
           {
            "automargin": true,
            "type": "pie"
           }
          ],
          "scatter": [
           {
            "fillpattern": {
             "fillmode": "overlay",
             "size": 10,
             "solidity": 0.2
            },
            "type": "scatter"
           }
          ],
          "scatter3d": [
           {
            "line": {
             "colorbar": {
              "outlinewidth": 0,
              "ticks": ""
             }
            },
            "marker": {
             "colorbar": {
              "outlinewidth": 0,
              "ticks": ""
             }
            },
            "type": "scatter3d"
           }
          ],
          "scattercarpet": [
           {
            "marker": {
             "colorbar": {
              "outlinewidth": 0,
              "ticks": ""
             }
            },
            "type": "scattercarpet"
           }
          ],
          "scattergeo": [
           {
            "marker": {
             "colorbar": {
              "outlinewidth": 0,
              "ticks": ""
             }
            },
            "type": "scattergeo"
           }
          ],
          "scattergl": [
           {
            "marker": {
             "colorbar": {
              "outlinewidth": 0,
              "ticks": ""
             }
            },
            "type": "scattergl"
           }
          ],
          "scattermapbox": [
           {
            "marker": {
             "colorbar": {
              "outlinewidth": 0,
              "ticks": ""
             }
            },
            "type": "scattermapbox"
           }
          ],
          "scatterpolar": [
           {
            "marker": {
             "colorbar": {
              "outlinewidth": 0,
              "ticks": ""
             }
            },
            "type": "scatterpolar"
           }
          ],
          "scatterpolargl": [
           {
            "marker": {
             "colorbar": {
              "outlinewidth": 0,
              "ticks": ""
             }
            },
            "type": "scatterpolargl"
           }
          ],
          "scatterternary": [
           {
            "marker": {
             "colorbar": {
              "outlinewidth": 0,
              "ticks": ""
             }
            },
            "type": "scatterternary"
           }
          ],
          "surface": [
           {
            "colorbar": {
             "outlinewidth": 0,
             "ticks": ""
            },
            "colorscale": [
             [
              0,
              "#0d0887"
             ],
             [
              0.1111111111111111,
              "#46039f"
             ],
             [
              0.2222222222222222,
              "#7201a8"
             ],
             [
              0.3333333333333333,
              "#9c179e"
             ],
             [
              0.4444444444444444,
              "#bd3786"
             ],
             [
              0.5555555555555556,
              "#d8576b"
             ],
             [
              0.6666666666666666,
              "#ed7953"
             ],
             [
              0.7777777777777778,
              "#fb9f3a"
             ],
             [
              0.8888888888888888,
              "#fdca26"
             ],
             [
              1,
              "#f0f921"
             ]
            ],
            "type": "surface"
           }
          ],
          "table": [
           {
            "cells": {
             "fill": {
              "color": "#EBF0F8"
             },
             "line": {
              "color": "white"
             }
            },
            "header": {
             "fill": {
              "color": "#C8D4E3"
             },
             "line": {
              "color": "white"
             }
            },
            "type": "table"
           }
          ]
         },
         "layout": {
          "annotationdefaults": {
           "arrowcolor": "#2a3f5f",
           "arrowhead": 0,
           "arrowwidth": 1
          },
          "autotypenumbers": "strict",
          "coloraxis": {
           "colorbar": {
            "outlinewidth": 0,
            "ticks": ""
           }
          },
          "colorscale": {
           "diverging": [
            [
             0,
             "#8e0152"
            ],
            [
             0.1,
             "#c51b7d"
            ],
            [
             0.2,
             "#de77ae"
            ],
            [
             0.3,
             "#f1b6da"
            ],
            [
             0.4,
             "#fde0ef"
            ],
            [
             0.5,
             "#f7f7f7"
            ],
            [
             0.6,
             "#e6f5d0"
            ],
            [
             0.7,
             "#b8e186"
            ],
            [
             0.8,
             "#7fbc41"
            ],
            [
             0.9,
             "#4d9221"
            ],
            [
             1,
             "#276419"
            ]
           ],
           "sequential": [
            [
             0,
             "#0d0887"
            ],
            [
             0.1111111111111111,
             "#46039f"
            ],
            [
             0.2222222222222222,
             "#7201a8"
            ],
            [
             0.3333333333333333,
             "#9c179e"
            ],
            [
             0.4444444444444444,
             "#bd3786"
            ],
            [
             0.5555555555555556,
             "#d8576b"
            ],
            [
             0.6666666666666666,
             "#ed7953"
            ],
            [
             0.7777777777777778,
             "#fb9f3a"
            ],
            [
             0.8888888888888888,
             "#fdca26"
            ],
            [
             1,
             "#f0f921"
            ]
           ],
           "sequentialminus": [
            [
             0,
             "#0d0887"
            ],
            [
             0.1111111111111111,
             "#46039f"
            ],
            [
             0.2222222222222222,
             "#7201a8"
            ],
            [
             0.3333333333333333,
             "#9c179e"
            ],
            [
             0.4444444444444444,
             "#bd3786"
            ],
            [
             0.5555555555555556,
             "#d8576b"
            ],
            [
             0.6666666666666666,
             "#ed7953"
            ],
            [
             0.7777777777777778,
             "#fb9f3a"
            ],
            [
             0.8888888888888888,
             "#fdca26"
            ],
            [
             1,
             "#f0f921"
            ]
           ]
          },
          "colorway": [
           "#636efa",
           "#EF553B",
           "#00cc96",
           "#ab63fa",
           "#FFA15A",
           "#19d3f3",
           "#FF6692",
           "#B6E880",
           "#FF97FF",
           "#FECB52"
          ],
          "font": {
           "color": "#2a3f5f"
          },
          "geo": {
           "bgcolor": "white",
           "lakecolor": "white",
           "landcolor": "#E5ECF6",
           "showlakes": true,
           "showland": true,
           "subunitcolor": "white"
          },
          "hoverlabel": {
           "align": "left"
          },
          "hovermode": "closest",
          "mapbox": {
           "style": "light"
          },
          "paper_bgcolor": "white",
          "plot_bgcolor": "#E5ECF6",
          "polar": {
           "angularaxis": {
            "gridcolor": "white",
            "linecolor": "white",
            "ticks": ""
           },
           "bgcolor": "#E5ECF6",
           "radialaxis": {
            "gridcolor": "white",
            "linecolor": "white",
            "ticks": ""
           }
          },
          "scene": {
           "xaxis": {
            "backgroundcolor": "#E5ECF6",
            "gridcolor": "white",
            "gridwidth": 2,
            "linecolor": "white",
            "showbackground": true,
            "ticks": "",
            "zerolinecolor": "white"
           },
           "yaxis": {
            "backgroundcolor": "#E5ECF6",
            "gridcolor": "white",
            "gridwidth": 2,
            "linecolor": "white",
            "showbackground": true,
            "ticks": "",
            "zerolinecolor": "white"
           },
           "zaxis": {
            "backgroundcolor": "#E5ECF6",
            "gridcolor": "white",
            "gridwidth": 2,
            "linecolor": "white",
            "showbackground": true,
            "ticks": "",
            "zerolinecolor": "white"
           }
          },
          "shapedefaults": {
           "line": {
            "color": "#2a3f5f"
           }
          },
          "ternary": {
           "aaxis": {
            "gridcolor": "white",
            "linecolor": "white",
            "ticks": ""
           },
           "baxis": {
            "gridcolor": "white",
            "linecolor": "white",
            "ticks": ""
           },
           "bgcolor": "#E5ECF6",
           "caxis": {
            "gridcolor": "white",
            "linecolor": "white",
            "ticks": ""
           }
          },
          "title": {
           "x": 0.05
          },
          "xaxis": {
           "automargin": true,
           "gridcolor": "white",
           "linecolor": "white",
           "ticks": "",
           "title": {
            "standoff": 15
           },
           "zerolinecolor": "white",
           "zerolinewidth": 2
          },
          "yaxis": {
           "automargin": true,
           "gridcolor": "white",
           "linecolor": "white",
           "ticks": "",
           "title": {
            "standoff": 15
           },
           "zerolinecolor": "white",
           "zerolinewidth": 2
          }
         }
        },
        "title": {
         "text": "Total Perdida mensual por Área"
        },
        "xaxis": {
         "anchor": "y",
         "domain": [
          0,
          1
         ],
         "title": {
          "text": "Numero_Mes"
         }
        },
        "yaxis": {
         "anchor": "x",
         "domain": [
          0,
          1
         ],
         "title": {
          "text": "Total perdida"
         }
        }
       }
      },
      "text/html": [
       "<div>                            <div id=\"98335221-6ec2-4f9d-9aeb-f3cf9271e8d2\" class=\"plotly-graph-div\" style=\"height:525px; width:100%;\"></div>            <script type=\"text/javascript\">                require([\"plotly\"], function(Plotly) {                    window.PLOTLYENV=window.PLOTLYENV || {};                                    if (document.getElementById(\"98335221-6ec2-4f9d-9aeb-f3cf9271e8d2\")) {                    Plotly.newPlot(                        \"98335221-6ec2-4f9d-9aeb-f3cf9271e8d2\",                        [{\"alignmentgroup\":\"True\",\"hovertemplate\":\"Area=Carnico <br>Numero_Mes=%{x}<br>Total perdida=%{y}<extra></extra>\",\"legendgroup\":\"Carnico \",\"marker\":{\"color\":\"#636efa\",\"pattern\":{\"shape\":\"\"}},\"name\":\"Carnico \",\"offsetgroup\":\"Carnico \",\"orientation\":\"v\",\"showlegend\":true,\"textposition\":\"auto\",\"x\":[1,2,3,4,5,6,7,8,9,10,11,12],\"xaxis\":\"x\",\"y\":[460105,415657,391593,447119,398076,430810,445290,422509,417965,420408,412904,423281],\"yaxis\":\"y\",\"type\":\"bar\"},{\"alignmentgroup\":\"True\",\"hovertemplate\":\"Area=Frutas<br>Numero_Mes=%{x}<br>Total perdida=%{y}<extra></extra>\",\"legendgroup\":\"Frutas\",\"marker\":{\"color\":\"#EF553B\",\"pattern\":{\"shape\":\"\"}},\"name\":\"Frutas\",\"offsetgroup\":\"Frutas\",\"orientation\":\"v\",\"showlegend\":true,\"textposition\":\"auto\",\"x\":[1,2,3,4,5,6,7,8,9,10,11,12],\"xaxis\":\"x\",\"y\":[429436,436214,410757,449624,444848,426622,435073,470238,429492,419421,447296,427147],\"yaxis\":\"y\",\"type\":\"bar\"},{\"alignmentgroup\":\"True\",\"hovertemplate\":\"Area=Fuente de sodas <br>Numero_Mes=%{x}<br>Total perdida=%{y}<extra></extra>\",\"legendgroup\":\"Fuente de sodas \",\"marker\":{\"color\":\"#00cc96\",\"pattern\":{\"shape\":\"\"}},\"name\":\"Fuente de sodas \",\"offsetgroup\":\"Fuente de sodas \",\"orientation\":\"v\",\"showlegend\":true,\"textposition\":\"auto\",\"x\":[1,2,3,4,5,6,7,8,9,10,11,12],\"xaxis\":\"x\",\"y\":[415554,413381,454362,427981,416688,449136,430900,419813,474031,414512,398154,461488],\"yaxis\":\"y\",\"type\":\"bar\"},{\"alignmentgroup\":\"True\",\"hovertemplate\":\"Area=Pan<br>Numero_Mes=%{x}<br>Total perdida=%{y}<extra></extra>\",\"legendgroup\":\"Pan\",\"marker\":{\"color\":\"#ab63fa\",\"pattern\":{\"shape\":\"\"}},\"name\":\"Pan\",\"offsetgroup\":\"Pan\",\"orientation\":\"v\",\"showlegend\":true,\"textposition\":\"auto\",\"x\":[1,2,3,4,5,6,7,8,9,10,11,12],\"xaxis\":\"x\",\"y\":[412670,459948,437835,421665,429986,404744,427994,440162,430917,393434,473733,419327],\"yaxis\":\"y\",\"type\":\"bar\"},{\"alignmentgroup\":\"True\",\"hovertemplate\":\"Area=Pollo <br>Numero_Mes=%{x}<br>Total perdida=%{y}<extra></extra>\",\"legendgroup\":\"Pollo \",\"marker\":{\"color\":\"#FFA15A\",\"pattern\":{\"shape\":\"\"}},\"name\":\"Pollo \",\"offsetgroup\":\"Pollo \",\"orientation\":\"v\",\"showlegend\":true,\"textposition\":\"auto\",\"x\":[1,2,3,4,5,6,7,8,9,10,11,12],\"xaxis\":\"x\",\"y\":[416047,431539,422166,414070,411261,434850,397912,415938,419770,404837,423903,413837],\"yaxis\":\"y\",\"type\":\"bar\"},{\"alignmentgroup\":\"True\",\"hovertemplate\":\"Area=Reposteria <br>Numero_Mes=%{x}<br>Total perdida=%{y}<extra></extra>\",\"legendgroup\":\"Reposteria \",\"marker\":{\"color\":\"#19d3f3\",\"pattern\":{\"shape\":\"\"}},\"name\":\"Reposteria \",\"offsetgroup\":\"Reposteria \",\"orientation\":\"v\",\"showlegend\":true,\"textposition\":\"auto\",\"x\":[1,2,3,4,5,6,7,8,9,10,11,12],\"xaxis\":\"x\",\"y\":[428531,417404,398892,434417,454495,421244,473438,414110,414129,435911,419299,414020],\"yaxis\":\"y\",\"type\":\"bar\"},{\"alignmentgroup\":\"True\",\"hovertemplate\":\"Area=Vegetales<br>Numero_Mes=%{x}<br>Total perdida=%{y}<extra></extra>\",\"legendgroup\":\"Vegetales\",\"marker\":{\"color\":\"#FF6692\",\"pattern\":{\"shape\":\"\"}},\"name\":\"Vegetales\",\"offsetgroup\":\"Vegetales\",\"orientation\":\"v\",\"showlegend\":true,\"textposition\":\"auto\",\"x\":[1,2,3,4,5,6,7,8,9,10,11,12],\"xaxis\":\"x\",\"y\":[427009,401826,470267,417524,430366,445859,430511,421159,443628,417476,410474,461720],\"yaxis\":\"y\",\"type\":\"bar\"}],                        {\"template\":{\"data\":{\"histogram2dcontour\":[{\"type\":\"histogram2dcontour\",\"colorbar\":{\"outlinewidth\":0,\"ticks\":\"\"},\"colorscale\":[[0.0,\"#0d0887\"],[0.1111111111111111,\"#46039f\"],[0.2222222222222222,\"#7201a8\"],[0.3333333333333333,\"#9c179e\"],[0.4444444444444444,\"#bd3786\"],[0.5555555555555556,\"#d8576b\"],[0.6666666666666666,\"#ed7953\"],[0.7777777777777778,\"#fb9f3a\"],[0.8888888888888888,\"#fdca26\"],[1.0,\"#f0f921\"]]}],\"choropleth\":[{\"type\":\"choropleth\",\"colorbar\":{\"outlinewidth\":0,\"ticks\":\"\"}}],\"histogram2d\":[{\"type\":\"histogram2d\",\"colorbar\":{\"outlinewidth\":0,\"ticks\":\"\"},\"colorscale\":[[0.0,\"#0d0887\"],[0.1111111111111111,\"#46039f\"],[0.2222222222222222,\"#7201a8\"],[0.3333333333333333,\"#9c179e\"],[0.4444444444444444,\"#bd3786\"],[0.5555555555555556,\"#d8576b\"],[0.6666666666666666,\"#ed7953\"],[0.7777777777777778,\"#fb9f3a\"],[0.8888888888888888,\"#fdca26\"],[1.0,\"#f0f921\"]]}],\"heatmap\":[{\"type\":\"heatmap\",\"colorbar\":{\"outlinewidth\":0,\"ticks\":\"\"},\"colorscale\":[[0.0,\"#0d0887\"],[0.1111111111111111,\"#46039f\"],[0.2222222222222222,\"#7201a8\"],[0.3333333333333333,\"#9c179e\"],[0.4444444444444444,\"#bd3786\"],[0.5555555555555556,\"#d8576b\"],[0.6666666666666666,\"#ed7953\"],[0.7777777777777778,\"#fb9f3a\"],[0.8888888888888888,\"#fdca26\"],[1.0,\"#f0f921\"]]}],\"heatmapgl\":[{\"type\":\"heatmapgl\",\"colorbar\":{\"outlinewidth\":0,\"ticks\":\"\"},\"colorscale\":[[0.0,\"#0d0887\"],[0.1111111111111111,\"#46039f\"],[0.2222222222222222,\"#7201a8\"],[0.3333333333333333,\"#9c179e\"],[0.4444444444444444,\"#bd3786\"],[0.5555555555555556,\"#d8576b\"],[0.6666666666666666,\"#ed7953\"],[0.7777777777777778,\"#fb9f3a\"],[0.8888888888888888,\"#fdca26\"],[1.0,\"#f0f921\"]]}],\"contourcarpet\":[{\"type\":\"contourcarpet\",\"colorbar\":{\"outlinewidth\":0,\"ticks\":\"\"}}],\"contour\":[{\"type\":\"contour\",\"colorbar\":{\"outlinewidth\":0,\"ticks\":\"\"},\"colorscale\":[[0.0,\"#0d0887\"],[0.1111111111111111,\"#46039f\"],[0.2222222222222222,\"#7201a8\"],[0.3333333333333333,\"#9c179e\"],[0.4444444444444444,\"#bd3786\"],[0.5555555555555556,\"#d8576b\"],[0.6666666666666666,\"#ed7953\"],[0.7777777777777778,\"#fb9f3a\"],[0.8888888888888888,\"#fdca26\"],[1.0,\"#f0f921\"]]}],\"surface\":[{\"type\":\"surface\",\"colorbar\":{\"outlinewidth\":0,\"ticks\":\"\"},\"colorscale\":[[0.0,\"#0d0887\"],[0.1111111111111111,\"#46039f\"],[0.2222222222222222,\"#7201a8\"],[0.3333333333333333,\"#9c179e\"],[0.4444444444444444,\"#bd3786\"],[0.5555555555555556,\"#d8576b\"],[0.6666666666666666,\"#ed7953\"],[0.7777777777777778,\"#fb9f3a\"],[0.8888888888888888,\"#fdca26\"],[1.0,\"#f0f921\"]]}],\"mesh3d\":[{\"type\":\"mesh3d\",\"colorbar\":{\"outlinewidth\":0,\"ticks\":\"\"}}],\"scatter\":[{\"fillpattern\":{\"fillmode\":\"overlay\",\"size\":10,\"solidity\":0.2},\"type\":\"scatter\"}],\"parcoords\":[{\"type\":\"parcoords\",\"line\":{\"colorbar\":{\"outlinewidth\":0,\"ticks\":\"\"}}}],\"scatterpolargl\":[{\"type\":\"scatterpolargl\",\"marker\":{\"colorbar\":{\"outlinewidth\":0,\"ticks\":\"\"}}}],\"bar\":[{\"error_x\":{\"color\":\"#2a3f5f\"},\"error_y\":{\"color\":\"#2a3f5f\"},\"marker\":{\"line\":{\"color\":\"#E5ECF6\",\"width\":0.5},\"pattern\":{\"fillmode\":\"overlay\",\"size\":10,\"solidity\":0.2}},\"type\":\"bar\"}],\"scattergeo\":[{\"type\":\"scattergeo\",\"marker\":{\"colorbar\":{\"outlinewidth\":0,\"ticks\":\"\"}}}],\"scatterpolar\":[{\"type\":\"scatterpolar\",\"marker\":{\"colorbar\":{\"outlinewidth\":0,\"ticks\":\"\"}}}],\"histogram\":[{\"marker\":{\"pattern\":{\"fillmode\":\"overlay\",\"size\":10,\"solidity\":0.2}},\"type\":\"histogram\"}],\"scattergl\":[{\"type\":\"scattergl\",\"marker\":{\"colorbar\":{\"outlinewidth\":0,\"ticks\":\"\"}}}],\"scatter3d\":[{\"type\":\"scatter3d\",\"line\":{\"colorbar\":{\"outlinewidth\":0,\"ticks\":\"\"}},\"marker\":{\"colorbar\":{\"outlinewidth\":0,\"ticks\":\"\"}}}],\"scattermapbox\":[{\"type\":\"scattermapbox\",\"marker\":{\"colorbar\":{\"outlinewidth\":0,\"ticks\":\"\"}}}],\"scatterternary\":[{\"type\":\"scatterternary\",\"marker\":{\"colorbar\":{\"outlinewidth\":0,\"ticks\":\"\"}}}],\"scattercarpet\":[{\"type\":\"scattercarpet\",\"marker\":{\"colorbar\":{\"outlinewidth\":0,\"ticks\":\"\"}}}],\"carpet\":[{\"aaxis\":{\"endlinecolor\":\"#2a3f5f\",\"gridcolor\":\"white\",\"linecolor\":\"white\",\"minorgridcolor\":\"white\",\"startlinecolor\":\"#2a3f5f\"},\"baxis\":{\"endlinecolor\":\"#2a3f5f\",\"gridcolor\":\"white\",\"linecolor\":\"white\",\"minorgridcolor\":\"white\",\"startlinecolor\":\"#2a3f5f\"},\"type\":\"carpet\"}],\"table\":[{\"cells\":{\"fill\":{\"color\":\"#EBF0F8\"},\"line\":{\"color\":\"white\"}},\"header\":{\"fill\":{\"color\":\"#C8D4E3\"},\"line\":{\"color\":\"white\"}},\"type\":\"table\"}],\"barpolar\":[{\"marker\":{\"line\":{\"color\":\"#E5ECF6\",\"width\":0.5},\"pattern\":{\"fillmode\":\"overlay\",\"size\":10,\"solidity\":0.2}},\"type\":\"barpolar\"}],\"pie\":[{\"automargin\":true,\"type\":\"pie\"}]},\"layout\":{\"autotypenumbers\":\"strict\",\"colorway\":[\"#636efa\",\"#EF553B\",\"#00cc96\",\"#ab63fa\",\"#FFA15A\",\"#19d3f3\",\"#FF6692\",\"#B6E880\",\"#FF97FF\",\"#FECB52\"],\"font\":{\"color\":\"#2a3f5f\"},\"hovermode\":\"closest\",\"hoverlabel\":{\"align\":\"left\"},\"paper_bgcolor\":\"white\",\"plot_bgcolor\":\"#E5ECF6\",\"polar\":{\"bgcolor\":\"#E5ECF6\",\"angularaxis\":{\"gridcolor\":\"white\",\"linecolor\":\"white\",\"ticks\":\"\"},\"radialaxis\":{\"gridcolor\":\"white\",\"linecolor\":\"white\",\"ticks\":\"\"}},\"ternary\":{\"bgcolor\":\"#E5ECF6\",\"aaxis\":{\"gridcolor\":\"white\",\"linecolor\":\"white\",\"ticks\":\"\"},\"baxis\":{\"gridcolor\":\"white\",\"linecolor\":\"white\",\"ticks\":\"\"},\"caxis\":{\"gridcolor\":\"white\",\"linecolor\":\"white\",\"ticks\":\"\"}},\"coloraxis\":{\"colorbar\":{\"outlinewidth\":0,\"ticks\":\"\"}},\"colorscale\":{\"sequential\":[[0.0,\"#0d0887\"],[0.1111111111111111,\"#46039f\"],[0.2222222222222222,\"#7201a8\"],[0.3333333333333333,\"#9c179e\"],[0.4444444444444444,\"#bd3786\"],[0.5555555555555556,\"#d8576b\"],[0.6666666666666666,\"#ed7953\"],[0.7777777777777778,\"#fb9f3a\"],[0.8888888888888888,\"#fdca26\"],[1.0,\"#f0f921\"]],\"sequentialminus\":[[0.0,\"#0d0887\"],[0.1111111111111111,\"#46039f\"],[0.2222222222222222,\"#7201a8\"],[0.3333333333333333,\"#9c179e\"],[0.4444444444444444,\"#bd3786\"],[0.5555555555555556,\"#d8576b\"],[0.6666666666666666,\"#ed7953\"],[0.7777777777777778,\"#fb9f3a\"],[0.8888888888888888,\"#fdca26\"],[1.0,\"#f0f921\"]],\"diverging\":[[0,\"#8e0152\"],[0.1,\"#c51b7d\"],[0.2,\"#de77ae\"],[0.3,\"#f1b6da\"],[0.4,\"#fde0ef\"],[0.5,\"#f7f7f7\"],[0.6,\"#e6f5d0\"],[0.7,\"#b8e186\"],[0.8,\"#7fbc41\"],[0.9,\"#4d9221\"],[1,\"#276419\"]]},\"xaxis\":{\"gridcolor\":\"white\",\"linecolor\":\"white\",\"ticks\":\"\",\"title\":{\"standoff\":15},\"zerolinecolor\":\"white\",\"automargin\":true,\"zerolinewidth\":2},\"yaxis\":{\"gridcolor\":\"white\",\"linecolor\":\"white\",\"ticks\":\"\",\"title\":{\"standoff\":15},\"zerolinecolor\":\"white\",\"automargin\":true,\"zerolinewidth\":2},\"scene\":{\"xaxis\":{\"backgroundcolor\":\"#E5ECF6\",\"gridcolor\":\"white\",\"linecolor\":\"white\",\"showbackground\":true,\"ticks\":\"\",\"zerolinecolor\":\"white\",\"gridwidth\":2},\"yaxis\":{\"backgroundcolor\":\"#E5ECF6\",\"gridcolor\":\"white\",\"linecolor\":\"white\",\"showbackground\":true,\"ticks\":\"\",\"zerolinecolor\":\"white\",\"gridwidth\":2},\"zaxis\":{\"backgroundcolor\":\"#E5ECF6\",\"gridcolor\":\"white\",\"linecolor\":\"white\",\"showbackground\":true,\"ticks\":\"\",\"zerolinecolor\":\"white\",\"gridwidth\":2}},\"shapedefaults\":{\"line\":{\"color\":\"#2a3f5f\"}},\"annotationdefaults\":{\"arrowcolor\":\"#2a3f5f\",\"arrowhead\":0,\"arrowwidth\":1},\"geo\":{\"bgcolor\":\"white\",\"landcolor\":\"#E5ECF6\",\"subunitcolor\":\"white\",\"showland\":true,\"showlakes\":true,\"lakecolor\":\"white\"},\"title\":{\"x\":0.05},\"mapbox\":{\"style\":\"light\"}}},\"xaxis\":{\"anchor\":\"y\",\"domain\":[0.0,1.0],\"title\":{\"text\":\"Numero_Mes\"}},\"yaxis\":{\"anchor\":\"x\",\"domain\":[0.0,1.0],\"title\":{\"text\":\"Total perdida\"}},\"legend\":{\"title\":{\"text\":\"Area\"},\"tracegroupgap\":0},\"title\":{\"text\":\"Total Perdida mensual por \\u00c1rea\"},\"barmode\":\"group\"},                        {\"responsive\": true}                    ).then(function(){\n",
       "                            \n",
       "var gd = document.getElementById('98335221-6ec2-4f9d-9aeb-f3cf9271e8d2');\n",
       "var x = new MutationObserver(function (mutations, observer) {{\n",
       "        var display = window.getComputedStyle(gd).display;\n",
       "        if (!display || display === 'none') {{\n",
       "            console.log([gd, 'removed!']);\n",
       "            Plotly.purge(gd);\n",
       "            observer.disconnect();\n",
       "        }}\n",
       "}});\n",
       "\n",
       "// Listen for the removal of the full notebook cells\n",
       "var notebookContainer = gd.closest('#notebook-container');\n",
       "if (notebookContainer) {{\n",
       "    x.observe(notebookContainer, {childList: true});\n",
       "}}\n",
       "\n",
       "// Listen for the clearing of the current output cell\n",
       "var outputEl = gd.closest('.output');\n",
       "if (outputEl) {{\n",
       "    x.observe(outputEl, {childList: true});\n",
       "}}\n",
       "\n",
       "                        })                };                });            </script>        </div>"
      ]
     },
     "metadata": {},
     "output_type": "display_data"
    }
   ],
   "source": [
    "#Comportamiento mensual por formato del Desecho, Faltante y Caducado \n",
    "\n",
    "area_mensual = data_cp.groupby([\"Numero_Mes\", \"Area\"])[\"Total perdida\"].sum().reset_index()\n",
    "fig = px.bar(area_mensual, x=\"Numero_Mes\", y=\"Total perdida\", color=\"Area\", barmode=\"group\",\n",
    "             title=\"Total Perdida mensual por Área\")\n",
    "fig.show()"
   ]
  },
  {
   "cell_type": "code",
   "execution_count": 61,
   "id": "5427695e",
   "metadata": {},
   "outputs": [],
   "source": []
  },
  {
   "cell_type": "code",
   "execution_count": null,
   "id": "67004dd4",
   "metadata": {},
   "outputs": [],
   "source": []
  },
  {
   "cell_type": "code",
   "execution_count": null,
   "id": "9cb64f51",
   "metadata": {},
   "outputs": [],
   "source": []
  },
  {
   "cell_type": "code",
   "execution_count": null,
   "id": "310d3e45",
   "metadata": {},
   "outputs": [],
   "source": []
  },
  {
   "cell_type": "code",
   "execution_count": null,
   "id": "b8ab643c",
   "metadata": {},
   "outputs": [],
   "source": []
  }
 ],
 "metadata": {
  "kernelspec": {
   "display_name": "Python 3 (ipykernel)",
   "language": "python",
   "name": "python3"
  },
  "language_info": {
   "codemirror_mode": {
    "name": "ipython",
    "version": 3
   },
   "file_extension": ".py",
   "mimetype": "text/x-python",
   "name": "python",
   "nbconvert_exporter": "python",
   "pygments_lexer": "ipython3",
   "version": "3.11.3"
  }
 },
 "nbformat": 4,
 "nbformat_minor": 5
}
